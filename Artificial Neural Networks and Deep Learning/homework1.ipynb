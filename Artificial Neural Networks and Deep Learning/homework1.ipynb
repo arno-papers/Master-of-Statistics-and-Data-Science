{
 "cells": [
  {
   "cell_type": "markdown",
   "metadata": {
    "id": "rmmBPsvXvaey"
   },
   "source": [
    "This is a companion notebook for the book [Deep Learning with Python, Second Edition](https://www.manning.com/books/deep-learning-with-python-second-edition?a_aid=keras&a_bid=76564dff).Note that the original text features far more content, in particular further explanations and figures: in this notebook, you will only find source code and related comments.\n",
    "\n",
    "**If you want to be able to follow what's going on, I recommend reading the notebook side by side with your copy of the book.**\n",
    "\n",
    "This notebook was generated for TensorFlow 2.6.\n",
    "\n",
    "<font color='violet'> \n",
    "Any changes made to the notebook made for the homework assignment are indicated in violet.\n",
    "</font>"
   ]
  },
  {
   "cell_type": "markdown",
   "metadata": {
    "id": "QytKo3a6vaez"
   },
   "source": [
    "# Getting started with neural networks: Classification and regression"
   ]
  },
  {
   "cell_type": "markdown",
   "metadata": {
    "id": "c6IF0OPNvae0"
   },
   "source": [
    "## 4.1 Classifying movie reviews: A binary classification example\n",
    "\n",
    "Two-class classification, or binary classification, may be the most widely applied kind of machine learning problem. In this example, we \n",
    "will learn to classify movie reviews into \"positive\" reviews and \"negative\" reviews, just based on the text content of the reviews."
   ]
  },
  {
   "cell_type": "markdown",
   "metadata": {
    "id": "a9M_beyevae1"
   },
   "source": [
    "### The IMDB dataset\n",
    "\n",
    "\n",
    "We'll be working with \"IMDB dataset\", a set of 50,000 highly-polarized reviews from the Internet Movie Database. They are split into 25,000 \n",
    "reviews for training and 25,000 reviews for testing, each set consisting in 50% negative and 50% positive reviews.\n",
    "\n",
    "Why do we have these two separate training and test sets? You should never test a machine learning model on the same data that you used to \n",
    "train it! Just because a model performs well on its training data doesn't mean that it will perform well on data it has never seen, and \n",
    "what you actually care about is your model's performance on new data (since you already know the labels of your training data -- obviously \n",
    "you don't need your model to predict those). For instance, it is possible that your model could end up merely _memorizing_ a mapping between \n",
    "your training samples and their targets -- which would be completely useless for the task of predicting targets for data never seen before. \n",
    "We will go over this point in much more detail in the next chapter.\n",
    "\n",
    "Just like the MNIST dataset, the IMDB dataset comes packaged with Keras. It has already been preprocessed: the reviews (sequences of words) \n",
    "have been turned into sequences of integers, where each integer stands for a specific word in a dictionary.\n",
    "\n",
    "The following code will load the dataset (when you run it for the first time, about 80MB of data will be downloaded to your machine):"
   ]
  },
  {
   "cell_type": "markdown",
   "metadata": {
    "id": "LozOjNAHvae1"
   },
   "source": [
    "**Loading the IMDB dataset**"
   ]
  },
  {
   "cell_type": "code",
   "execution_count": 1,
   "metadata": {
    "executionInfo": {
     "elapsed": 10022,
     "status": "ok",
     "timestamp": 1646656886448,
     "user": {
      "displayName": "Mis",
      "photoUrl": "https://lh3.googleusercontent.com/a-/AOh14Gi9fkY6IIxT8q7cFLbRp1Q3Rk8HgS6QeojPa0S8=s64",
      "userId": "09305620378386245649"
     },
     "user_tz": -60
    },
    "id": "B06H8ShIvae1"
   },
   "outputs": [],
   "source": [
    "from tensorflow.keras.datasets import imdb\n",
    "(train_data, train_labels), (test_data, test_labels) = imdb.load_data(\n",
    "    num_words=10000)"
   ]
  },
  {
   "cell_type": "markdown",
   "metadata": {
    "id": "A5KQqwiNvae2"
   },
   "source": [
    "\n",
    "The argument `num_words=10000` means that we will only keep the top 10,000 most frequently occurring words in the training data. Rare words \n",
    "will be discarded. This allows us to work with vector data of manageable size.\n",
    "\n",
    "The variables `train_data` and `test_data` are lists of reviews, each review being a list of word indices (encoding a sequence of words). \n",
    "`train_labels` and `test_labels` are lists of 0s and 1s, where 0 stands for \"negative\" and 1 stands for \"positive\":"
   ]
  },
  {
   "cell_type": "code",
   "execution_count": 2,
   "metadata": {
    "colab": {
     "base_uri": "https://localhost:8080/"
    },
    "executionInfo": {
     "elapsed": 9,
     "status": "ok",
     "timestamp": 1646656886449,
     "user": {
      "displayName": "Mis",
      "photoUrl": "https://lh3.googleusercontent.com/a-/AOh14Gi9fkY6IIxT8q7cFLbRp1Q3Rk8HgS6QeojPa0S8=s64",
      "userId": "09305620378386245649"
     },
     "user_tz": -60
    },
    "id": "9IyrvgyGvae2",
    "outputId": "3ed16e30-50c0-45a7-aa31-ad044adf6c00"
   },
   "outputs": [
    {
     "data": {
      "text/plain": [
       "[1,\n",
       " 14,\n",
       " 22,\n",
       " 16,\n",
       " 43,\n",
       " 530,\n",
       " 973,\n",
       " 1622,\n",
       " 1385,\n",
       " 65,\n",
       " 458,\n",
       " 4468,\n",
       " 66,\n",
       " 3941,\n",
       " 4,\n",
       " 173,\n",
       " 36,\n",
       " 256,\n",
       " 5,\n",
       " 25,\n",
       " 100,\n",
       " 43,\n",
       " 838,\n",
       " 112,\n",
       " 50,\n",
       " 670,\n",
       " 2,\n",
       " 9,\n",
       " 35,\n",
       " 480,\n",
       " 284,\n",
       " 5,\n",
       " 150,\n",
       " 4,\n",
       " 172,\n",
       " 112,\n",
       " 167,\n",
       " 2,\n",
       " 336,\n",
       " 385,\n",
       " 39,\n",
       " 4,\n",
       " 172,\n",
       " 4536,\n",
       " 1111,\n",
       " 17,\n",
       " 546,\n",
       " 38,\n",
       " 13,\n",
       " 447,\n",
       " 4,\n",
       " 192,\n",
       " 50,\n",
       " 16,\n",
       " 6,\n",
       " 147,\n",
       " 2025,\n",
       " 19,\n",
       " 14,\n",
       " 22,\n",
       " 4,\n",
       " 1920,\n",
       " 4613,\n",
       " 469,\n",
       " 4,\n",
       " 22,\n",
       " 71,\n",
       " 87,\n",
       " 12,\n",
       " 16,\n",
       " 43,\n",
       " 530,\n",
       " 38,\n",
       " 76,\n",
       " 15,\n",
       " 13,\n",
       " 1247,\n",
       " 4,\n",
       " 22,\n",
       " 17,\n",
       " 515,\n",
       " 17,\n",
       " 12,\n",
       " 16,\n",
       " 626,\n",
       " 18,\n",
       " 2,\n",
       " 5,\n",
       " 62,\n",
       " 386,\n",
       " 12,\n",
       " 8,\n",
       " 316,\n",
       " 8,\n",
       " 106,\n",
       " 5,\n",
       " 4,\n",
       " 2223,\n",
       " 5244,\n",
       " 16,\n",
       " 480,\n",
       " 66,\n",
       " 3785,\n",
       " 33,\n",
       " 4,\n",
       " 130,\n",
       " 12,\n",
       " 16,\n",
       " 38,\n",
       " 619,\n",
       " 5,\n",
       " 25,\n",
       " 124,\n",
       " 51,\n",
       " 36,\n",
       " 135,\n",
       " 48,\n",
       " 25,\n",
       " 1415,\n",
       " 33,\n",
       " 6,\n",
       " 22,\n",
       " 12,\n",
       " 215,\n",
       " 28,\n",
       " 77,\n",
       " 52,\n",
       " 5,\n",
       " 14,\n",
       " 407,\n",
       " 16,\n",
       " 82,\n",
       " 2,\n",
       " 8,\n",
       " 4,\n",
       " 107,\n",
       " 117,\n",
       " 5952,\n",
       " 15,\n",
       " 256,\n",
       " 4,\n",
       " 2,\n",
       " 7,\n",
       " 3766,\n",
       " 5,\n",
       " 723,\n",
       " 36,\n",
       " 71,\n",
       " 43,\n",
       " 530,\n",
       " 476,\n",
       " 26,\n",
       " 400,\n",
       " 317,\n",
       " 46,\n",
       " 7,\n",
       " 4,\n",
       " 2,\n",
       " 1029,\n",
       " 13,\n",
       " 104,\n",
       " 88,\n",
       " 4,\n",
       " 381,\n",
       " 15,\n",
       " 297,\n",
       " 98,\n",
       " 32,\n",
       " 2071,\n",
       " 56,\n",
       " 26,\n",
       " 141,\n",
       " 6,\n",
       " 194,\n",
       " 7486,\n",
       " 18,\n",
       " 4,\n",
       " 226,\n",
       " 22,\n",
       " 21,\n",
       " 134,\n",
       " 476,\n",
       " 26,\n",
       " 480,\n",
       " 5,\n",
       " 144,\n",
       " 30,\n",
       " 5535,\n",
       " 18,\n",
       " 51,\n",
       " 36,\n",
       " 28,\n",
       " 224,\n",
       " 92,\n",
       " 25,\n",
       " 104,\n",
       " 4,\n",
       " 226,\n",
       " 65,\n",
       " 16,\n",
       " 38,\n",
       " 1334,\n",
       " 88,\n",
       " 12,\n",
       " 16,\n",
       " 283,\n",
       " 5,\n",
       " 16,\n",
       " 4472,\n",
       " 113,\n",
       " 103,\n",
       " 32,\n",
       " 15,\n",
       " 16,\n",
       " 5345,\n",
       " 19,\n",
       " 178,\n",
       " 32]"
      ]
     },
     "execution_count": 2,
     "metadata": {},
     "output_type": "execute_result"
    }
   ],
   "source": [
    "train_data[0]"
   ]
  },
  {
   "cell_type": "code",
   "execution_count": 3,
   "metadata": {
    "colab": {
     "base_uri": "https://localhost:8080/"
    },
    "executionInfo": {
     "elapsed": 7,
     "status": "ok",
     "timestamp": 1646656886449,
     "user": {
      "displayName": "Mis",
      "photoUrl": "https://lh3.googleusercontent.com/a-/AOh14Gi9fkY6IIxT8q7cFLbRp1Q3Rk8HgS6QeojPa0S8=s64",
      "userId": "09305620378386245649"
     },
     "user_tz": -60
    },
    "id": "QT4LqgEzvae3",
    "outputId": "be13bd22-9eb4-451d-de43-bbca96235867"
   },
   "outputs": [
    {
     "data": {
      "text/plain": [
       "1"
      ]
     },
     "execution_count": 3,
     "metadata": {},
     "output_type": "execute_result"
    }
   ],
   "source": [
    "train_labels[0]"
   ]
  },
  {
   "cell_type": "markdown",
   "metadata": {
    "id": "9QM3Pk71vae4"
   },
   "source": [
    "Since we restricted ourselves to the top 10,000 most frequent words, no word index will exceed 10,000:"
   ]
  },
  {
   "cell_type": "code",
   "execution_count": 4,
   "metadata": {
    "colab": {
     "base_uri": "https://localhost:8080/"
    },
    "executionInfo": {
     "elapsed": 5,
     "status": "ok",
     "timestamp": 1646656886450,
     "user": {
      "displayName": "Mis",
      "photoUrl": "https://lh3.googleusercontent.com/a-/AOh14Gi9fkY6IIxT8q7cFLbRp1Q3Rk8HgS6QeojPa0S8=s64",
      "userId": "09305620378386245649"
     },
     "user_tz": -60
    },
    "id": "QtQ4QrY7vae4",
    "outputId": "02a63b4f-7e92-45d9-fb47-8b5174116c5c"
   },
   "outputs": [
    {
     "data": {
      "text/plain": [
       "9999"
      ]
     },
     "execution_count": 4,
     "metadata": {},
     "output_type": "execute_result"
    }
   ],
   "source": [
    "max([max(sequence) for sequence in train_data])"
   ]
  },
  {
   "cell_type": "markdown",
   "metadata": {
    "id": "t_LiVTlNvae5"
   },
   "source": [
    "**Decoding reviews back to text**"
   ]
  },
  {
   "cell_type": "markdown",
   "metadata": {
    "id": "6KZDCsrjvae5"
   },
   "source": [
    "For kicks, here's how you can quickly decode one of these reviews back to English words:"
   ]
  },
  {
   "cell_type": "code",
   "execution_count": 5,
   "metadata": {
    "executionInfo": {
     "elapsed": 7,
     "status": "ok",
     "timestamp": 1646656886783,
     "user": {
      "displayName": "Mis",
      "photoUrl": "https://lh3.googleusercontent.com/a-/AOh14Gi9fkY6IIxT8q7cFLbRp1Q3Rk8HgS6QeojPa0S8=s64",
      "userId": "09305620378386245649"
     },
     "user_tz": -60
    },
    "id": "WoQTJLSWvae5"
   },
   "outputs": [],
   "source": [
    "word_index = imdb.get_word_index()\n",
    "reverse_word_index = dict(\n",
    "    [(value, key) for (key, value) in word_index.items()])\n",
    "decoded_review = \" \".join(\n",
    "    [reverse_word_index.get(i - 3, \"?\") for i in train_data[0]])"
   ]
  },
  {
   "cell_type": "code",
   "execution_count": 6,
   "metadata": {
    "colab": {
     "base_uri": "https://localhost:8080/",
     "height": 91
    },
    "executionInfo": {
     "elapsed": 6,
     "status": "ok",
     "timestamp": 1646656886783,
     "user": {
      "displayName": "Mis",
      "photoUrl": "https://lh3.googleusercontent.com/a-/AOh14Gi9fkY6IIxT8q7cFLbRp1Q3Rk8HgS6QeojPa0S8=s64",
      "userId": "09305620378386245649"
     },
     "user_tz": -60
    },
    "id": "-D0ZGYP8vae5",
    "outputId": "8742130a-703f-4422-88fd-25a1e5872b91"
   },
   "outputs": [
    {
     "data": {
      "application/vnd.google.colaboratory.intrinsic+json": {
       "type": "string"
      },
      "text/plain": [
       "\"? this film was just brilliant casting location scenery story direction everyone's really suited the part they played and you could just imagine being there robert ? is an amazing actor and now the same being director ? father came from the same scottish island as myself so i loved the fact there was a real connection with this film the witty remarks throughout the film were great it was just brilliant so much that i bought the film as soon as it was released for ? and would recommend it to everyone to watch and the fly fishing was amazing really cried at the end it was so sad and you know what they say if you cry at a film it must have been good and this definitely was also ? to the two little boy's that played the ? of norman and paul they were just brilliant children are often left out of the ? list i think because the stars that play them all grown up are such a big profile for the whole film but these children are amazing and should be praised for what they have done don't you think the whole story was so lovely because it was true and was someone's life after all that was shared with us all\""
      ]
     },
     "execution_count": 6,
     "metadata": {},
     "output_type": "execute_result"
    }
   ],
   "source": [
    "decoded_review"
   ]
  },
  {
   "cell_type": "markdown",
   "metadata": {
    "id": "QSGb1OcSvae6"
   },
   "source": [
    "### Preparing the data\n",
    "\n",
    "\n",
    "\n",
    "We cannot feed lists of integers into a neural network. We have to turn our lists into tensors. There are two ways we could do that:\n",
    "\n",
    "* We could pad our lists so that they all have the same length, and turn them into an integer tensor of shape `(samples, word_indices)`, \n",
    "then use as first layer in our network a layer capable of handling such integer tensors (the `Embedding` layer, which we will cover in \n",
    "detail later in the book).\n",
    "* We could one-hot-encode our lists to turn them into vectors of 0s and 1s. Concretely, this would mean for instance turning the sequence \n",
    "`[3, 5]` into a 10,000-dimensional vector that would be all-zeros except for indices 3 and 5, which would be ones. Then we could use as \n",
    "first layer in our network a `Dense` layer, capable of handling floating point vector data.\n",
    "\n",
    "We will go with the latter solution. Let's vectorize our data, which we will do manually for maximum clarity:"
   ]
  },
  {
   "cell_type": "markdown",
   "metadata": {
    "id": "FfWtMY76vae6"
   },
   "source": [
    "**Encoding the integer sequences via multi-hot encoding**"
   ]
  },
  {
   "cell_type": "code",
   "execution_count": 7,
   "metadata": {
    "executionInfo": {
     "elapsed": 6754,
     "status": "ok",
     "timestamp": 1646656893532,
     "user": {
      "displayName": "Mis",
      "photoUrl": "https://lh3.googleusercontent.com/a-/AOh14Gi9fkY6IIxT8q7cFLbRp1Q3Rk8HgS6QeojPa0S8=s64",
      "userId": "09305620378386245649"
     },
     "user_tz": -60
    },
    "id": "uBUIgJSivae6"
   },
   "outputs": [],
   "source": [
    "import numpy as np\n",
    "def vectorize_sequences(sequences, dimension=10000):\n",
    "    results = np.zeros((len(sequences), dimension))\n",
    "    for i, sequence in enumerate(sequences):\n",
    "        for j in sequence:\n",
    "            results[i, j] = 1.\n",
    "    return results\n",
    "x_train = vectorize_sequences(train_data)\n",
    "x_test = vectorize_sequences(test_data)"
   ]
  },
  {
   "cell_type": "code",
   "execution_count": 8,
   "metadata": {
    "colab": {
     "base_uri": "https://localhost:8080/"
    },
    "executionInfo": {
     "elapsed": 4,
     "status": "ok",
     "timestamp": 1646656893532,
     "user": {
      "displayName": "Mis",
      "photoUrl": "https://lh3.googleusercontent.com/a-/AOh14Gi9fkY6IIxT8q7cFLbRp1Q3Rk8HgS6QeojPa0S8=s64",
      "userId": "09305620378386245649"
     },
     "user_tz": -60
    },
    "id": "pl5SLsykvae7",
    "outputId": "d1c6a99c-636e-410b-cf1f-81ed56b98a51"
   },
   "outputs": [
    {
     "data": {
      "text/plain": [
       "array([0., 1., 1., ..., 0., 0., 0.])"
      ]
     },
     "execution_count": 8,
     "metadata": {},
     "output_type": "execute_result"
    }
   ],
   "source": [
    "x_train[0]"
   ]
  },
  {
   "cell_type": "markdown",
   "metadata": {
    "id": "awgoVFdovae7"
   },
   "source": [
    "We should also vectorize our labels, which is straightforward:"
   ]
  },
  {
   "cell_type": "code",
   "execution_count": 9,
   "metadata": {
    "executionInfo": {
     "elapsed": 3,
     "status": "ok",
     "timestamp": 1646656893533,
     "user": {
      "displayName": "Mis",
      "photoUrl": "https://lh3.googleusercontent.com/a-/AOh14Gi9fkY6IIxT8q7cFLbRp1Q3Rk8HgS6QeojPa0S8=s64",
      "userId": "09305620378386245649"
     },
     "user_tz": -60
    },
    "id": "Htxu1XKOvae7"
   },
   "outputs": [],
   "source": [
    "# Our vectorized labels\n",
    "y_train = np.asarray(train_labels).astype(\"float32\")\n",
    "y_test = np.asarray(test_labels).astype(\"float32\")"
   ]
  },
  {
   "cell_type": "markdown",
   "metadata": {
    "id": "Syu1J7JEvae8"
   },
   "source": [
    "Now our data is ready to be fed into a neural network."
   ]
  },
  {
   "cell_type": "markdown",
   "metadata": {
    "id": "W9Plmkrivae8"
   },
   "source": [
    "### Building your model\n",
    "\n",
    "\n",
    "Our input data is simply vectors, and our labels are scalars (1s and 0s): this is the easiest setup you will ever encounter. A type of \n",
    "network that performs well on such a problem would be a simple stack of fully-connected (`Dense`) layers with `relu` activations: `Dense(16, \n",
    "activation='relu')`\n",
    "\n",
    "The argument being passed to each `Dense` layer (16) is the number of \"hidden units\" of the layer. What's a hidden unit? It's a dimension \n",
    "in the representation space of the layer. You may remember from the previous chapter that each such `Dense` layer with a `relu` activation implements \n",
    "the following chain of tensor operations:\n",
    "\n",
    "`output = relu(dot(W, input) + b)`\n",
    "\n",
    "Having 16 hidden units means that the weight matrix `W` will have shape `(input_dimension, 16)`, i.e. the dot product with `W` will project the \n",
    "input data onto a 16-dimensional representation space (and then we would add the bias vector `b` and apply the `relu` operation). You can \n",
    "intuitively understand the dimensionality of your representation space as \"how much freedom you are allowing the network to have when \n",
    "learning internal representations\". Having more hidden units (a higher-dimensional representation space) allows your network to learn more \n",
    "complex representations, but it makes your network more computationally expensive and may lead to learning unwanted patterns (patterns that \n",
    "will improve performance on the training data but not on the test data).\n",
    "\n",
    "There are two key architecture decisions to be made about such stack of dense layers:\n",
    "\n",
    "* How many layers to use.\n",
    "* How many \"hidden units\" to chose for each layer.\n",
    "\n",
    "In the next chapter, you will learn formal principles to guide you in making these choices. \n",
    "For the time being, you will have to trust us with the following architecture choice: \n",
    "two intermediate layers with 16 hidden units each, \n",
    "and a third layer which will output the scalar prediction regarding the sentiment of the current review. \n",
    "The intermediate layers will use `relu` as their \"activation function\", \n",
    "and the final layer will use a sigmoid activation so as to output a probability \n",
    "(a score between 0 and 1, indicating how likely the sample is to have the target \"1\", i.e. how likely the review is to be positive). \n",
    "A `relu` (rectified linear unit) is a function meant to zero-out negative values, \n",
    "while a sigmoid \"squashes\" arbitrary values into the `[0, 1]` interval, thus outputting something that can be interpreted as a probability."
   ]
  },
  {
   "cell_type": "markdown",
   "metadata": {
    "id": "yBnxwMyGvae8"
   },
   "source": [
    "Here's what our network looks like:\n",
    "\n",
    "![3-layer network](https://s3.amazonaws.com/book.keras.io/img/ch3/3_layer_network.png)"
   ]
  },
  {
   "cell_type": "markdown",
   "metadata": {
    "id": "eCXzBTydvae8"
   },
   "source": [
    "**Model definition**\n",
    "\n",
    "And here's the Keras implementation, very similar to the MNIST example you saw previously:"
   ]
  },
  {
   "cell_type": "code",
   "execution_count": 10,
   "metadata": {
    "executionInfo": {
     "elapsed": 3,
     "status": "ok",
     "timestamp": 1646656893533,
     "user": {
      "displayName": "Mis",
      "photoUrl": "https://lh3.googleusercontent.com/a-/AOh14Gi9fkY6IIxT8q7cFLbRp1Q3Rk8HgS6QeojPa0S8=s64",
      "userId": "09305620378386245649"
     },
     "user_tz": -60
    },
    "id": "eT6unU4ivae9"
   },
   "outputs": [],
   "source": [
    "from tensorflow import keras\n",
    "from tensorflow.keras import layers\n",
    "\n",
    "model = keras.Sequential([\n",
    "    layers.Dense(16, activation=\"relu\"),\n",
    "    layers.Dense(16, activation=\"relu\"),\n",
    "    layers.Dense(1, activation=\"sigmoid\")\n",
    "])"
   ]
  },
  {
   "cell_type": "markdown",
   "metadata": {
    "id": "VgjJkKx3vae9"
   },
   "source": [
    "**Compiling the model**\n",
    "\n",
    "\n",
    "Lastly, we need to pick a loss function and an optimizer. Since we are facing a binary classification problem and the output of our network \n",
    "is a probability (we end our network with a single-unit layer with a sigmoid activation), is it best to use the `binary_crossentropy` loss. \n",
    "It isn't the only viable choice: you could use, for instance, `mean_squared_error`. But crossentropy is usually the best choice when you \n",
    "are dealing with models that output probabilities. Crossentropy is a quantity from the field of Information Theory, that measures the \"distance\" \n",
    "between probability distributions, or in our case, between the ground-truth distribution and our predictions.\n",
    "\n",
    "Here's the step where we configure our model with the `rmsprop` optimizer and the `binary_crossentropy` loss function. Note that we will \n",
    "also monitor accuracy during training."
   ]
  },
  {
   "cell_type": "code",
   "execution_count": 11,
   "metadata": {
    "executionInfo": {
     "elapsed": 331,
     "status": "ok",
     "timestamp": 1646656893861,
     "user": {
      "displayName": "Mis",
      "photoUrl": "https://lh3.googleusercontent.com/a-/AOh14Gi9fkY6IIxT8q7cFLbRp1Q3Rk8HgS6QeojPa0S8=s64",
      "userId": "09305620378386245649"
     },
     "user_tz": -60
    },
    "id": "S6C0OEkjvae9"
   },
   "outputs": [],
   "source": [
    "model.compile(optimizer=\"rmsprop\",\n",
    "              loss=\"binary_crossentropy\",\n",
    "              metrics=[\"accuracy\"])"
   ]
  },
  {
   "cell_type": "markdown",
   "metadata": {
    "id": "6-3qLrDjvae9"
   },
   "source": [
    "We are passing our optimizer, loss function and metrics as strings, which is possible because `rmsprop`, `binary_crossentropy` and \n",
    "`accuracy` are packaged as part of Keras. Sometimes you may want to configure the parameters of your optimizer, or pass a custom loss \n",
    "function or metric function. This former can be done by passing an optimizer class instance as the `optimizer` argument"
   ]
  },
  {
   "cell_type": "markdown",
   "metadata": {
    "id": "hL5GKngcvae9"
   },
   "source": [
    "### Validating your approach\n",
    "\n",
    "\n",
    "In order to monitor during training the accuracy of the model on data that it has never seen before, we will create a \"validation set\" by \n",
    "setting apart 10,000 samples from the original training data:"
   ]
  },
  {
   "cell_type": "markdown",
   "metadata": {
    "id": "jovSKy8pvae9"
   },
   "source": [
    "**Setting aside a validation set**"
   ]
  },
  {
   "cell_type": "code",
   "execution_count": 12,
   "metadata": {
    "executionInfo": {
     "elapsed": 3,
     "status": "ok",
     "timestamp": 1646656893862,
     "user": {
      "displayName": "Mis",
      "photoUrl": "https://lh3.googleusercontent.com/a-/AOh14Gi9fkY6IIxT8q7cFLbRp1Q3Rk8HgS6QeojPa0S8=s64",
      "userId": "09305620378386245649"
     },
     "user_tz": -60
    },
    "id": "1GSCKe9xvae-"
   },
   "outputs": [],
   "source": [
    "x_val = x_train[:10000]\n",
    "partial_x_train = x_train[10000:]\n",
    "y_val = y_train[:10000]\n",
    "partial_y_train = y_train[10000:]"
   ]
  },
  {
   "cell_type": "markdown",
   "metadata": {
    "id": "6sfrEuuzvae-"
   },
   "source": [
    "**Training your model**\n",
    "\n",
    "We will now train our model for 20 epochs (20 iterations over all samples in the `x_train` and `y_train` tensors), in mini-batches of 512 \n",
    "samples. At this same time we will monitor loss and accuracy on the 10,000 samples that we set apart. This is done by passing the \n",
    "validation data as the `validation_data` argument:"
   ]
  },
  {
   "cell_type": "code",
   "execution_count": 13,
   "metadata": {
    "colab": {
     "base_uri": "https://localhost:8080/"
    },
    "executionInfo": {
     "elapsed": 39631,
     "status": "ok",
     "timestamp": 1646656933491,
     "user": {
      "displayName": "Mis",
      "photoUrl": "https://lh3.googleusercontent.com/a-/AOh14Gi9fkY6IIxT8q7cFLbRp1Q3Rk8HgS6QeojPa0S8=s64",
      "userId": "09305620378386245649"
     },
     "user_tz": -60
    },
    "id": "vsNU6wB6vae-",
    "outputId": "e0575933-484a-4f37-8333-c35c67f657df"
   },
   "outputs": [
    {
     "name": "stdout",
     "output_type": "stream",
     "text": [
      "Epoch 1/20\n",
      "30/30 [==============================] - 4s 99ms/step - loss: 0.5600 - accuracy: 0.7390 - val_loss: 0.4272 - val_accuracy: 0.8660\n",
      "Epoch 2/20\n",
      "30/30 [==============================] - 2s 72ms/step - loss: 0.3419 - accuracy: 0.8954 - val_loss: 0.3231 - val_accuracy: 0.8869\n",
      "Epoch 3/20\n",
      "30/30 [==============================] - 2s 81ms/step - loss: 0.2405 - accuracy: 0.9261 - val_loss: 0.2843 - val_accuracy: 0.8905\n",
      "Epoch 4/20\n",
      "30/30 [==============================] - 2s 79ms/step - loss: 0.1896 - accuracy: 0.9403 - val_loss: 0.2760 - val_accuracy: 0.8913\n",
      "Epoch 5/20\n",
      "30/30 [==============================] - 2s 79ms/step - loss: 0.1516 - accuracy: 0.9539 - val_loss: 0.2778 - val_accuracy: 0.8882\n",
      "Epoch 6/20\n",
      "30/30 [==============================] - 3s 101ms/step - loss: 0.1246 - accuracy: 0.9628 - val_loss: 0.2967 - val_accuracy: 0.8834\n",
      "Epoch 7/20\n",
      "30/30 [==============================] - 2s 69ms/step - loss: 0.1032 - accuracy: 0.9699 - val_loss: 0.3061 - val_accuracy: 0.8827\n",
      "Epoch 8/20\n",
      "30/30 [==============================] - 1s 47ms/step - loss: 0.0858 - accuracy: 0.9759 - val_loss: 0.3292 - val_accuracy: 0.8806\n",
      "Epoch 9/20\n",
      "30/30 [==============================] - 1s 47ms/step - loss: 0.0725 - accuracy: 0.9807 - val_loss: 0.3479 - val_accuracy: 0.8790\n",
      "Epoch 10/20\n",
      "30/30 [==============================] - 2s 58ms/step - loss: 0.0595 - accuracy: 0.9848 - val_loss: 0.3796 - val_accuracy: 0.8748\n",
      "Epoch 11/20\n",
      "30/30 [==============================] - 1s 46ms/step - loss: 0.0476 - accuracy: 0.9890 - val_loss: 0.3994 - val_accuracy: 0.8758\n",
      "Epoch 12/20\n",
      "30/30 [==============================] - 1s 46ms/step - loss: 0.0414 - accuracy: 0.9901 - val_loss: 0.4315 - val_accuracy: 0.8712\n",
      "Epoch 13/20\n",
      "30/30 [==============================] - 1s 47ms/step - loss: 0.0302 - accuracy: 0.9945 - val_loss: 0.4539 - val_accuracy: 0.8717\n",
      "Epoch 14/20\n",
      "30/30 [==============================] - 1s 46ms/step - loss: 0.0273 - accuracy: 0.9945 - val_loss: 0.4778 - val_accuracy: 0.8700\n",
      "Epoch 15/20\n",
      "30/30 [==============================] - 2s 57ms/step - loss: 0.0177 - accuracy: 0.9979 - val_loss: 0.5036 - val_accuracy: 0.8713\n",
      "Epoch 16/20\n",
      "30/30 [==============================] - 1s 48ms/step - loss: 0.0167 - accuracy: 0.9979 - val_loss: 0.6281 - val_accuracy: 0.8536\n",
      "Epoch 17/20\n",
      "30/30 [==============================] - 2s 59ms/step - loss: 0.0129 - accuracy: 0.9986 - val_loss: 0.5741 - val_accuracy: 0.8682\n",
      "Epoch 18/20\n",
      "30/30 [==============================] - 1s 49ms/step - loss: 0.0110 - accuracy: 0.9986 - val_loss: 0.6040 - val_accuracy: 0.8697\n",
      "Epoch 19/20\n",
      "30/30 [==============================] - 1s 49ms/step - loss: 0.0097 - accuracy: 0.9978 - val_loss: 0.6453 - val_accuracy: 0.8649\n",
      "Epoch 20/20\n",
      "30/30 [==============================] - 1s 48ms/step - loss: 0.0044 - accuracy: 0.9997 - val_loss: 0.6663 - val_accuracy: 0.8665\n"
     ]
    }
   ],
   "source": [
    "history = model.fit(partial_x_train,\n",
    "                    partial_y_train,\n",
    "                    epochs=20,\n",
    "                    batch_size=512,\n",
    "                    validation_data=(x_val, y_val))"
   ]
  },
  {
   "cell_type": "markdown",
   "metadata": {
    "id": "pv_Md4lMvae-"
   },
   "source": [
    "On CPU, this will take less than two seconds per epoch -- training is over in 20 seconds. At the end of every epoch, there is a slight pause \n",
    "as the model computes its loss and accuracy on the 10,000 samples of the validation data.\n",
    "\n",
    "Note that the call to `model.fit()` returns a `History` object. This object has a member `history`, which is a dictionary containing data \n",
    "about everything that happened during training. Let's take a look at it:"
   ]
  },
  {
   "cell_type": "code",
   "execution_count": 14,
   "metadata": {
    "colab": {
     "base_uri": "https://localhost:8080/"
    },
    "executionInfo": {
     "elapsed": 7,
     "status": "ok",
     "timestamp": 1646656933491,
     "user": {
      "displayName": "Mis",
      "photoUrl": "https://lh3.googleusercontent.com/a-/AOh14Gi9fkY6IIxT8q7cFLbRp1Q3Rk8HgS6QeojPa0S8=s64",
      "userId": "09305620378386245649"
     },
     "user_tz": -60
    },
    "id": "iT-pgxe-vae_",
    "outputId": "68654f95-7710-4689-d88f-76e2293af323"
   },
   "outputs": [
    {
     "data": {
      "text/plain": [
       "dict_keys(['loss', 'accuracy', 'val_loss', 'val_accuracy'])"
      ]
     },
     "execution_count": 14,
     "metadata": {},
     "output_type": "execute_result"
    }
   ],
   "source": [
    "history_dict = history.history\n",
    "history_dict.keys()"
   ]
  },
  {
   "cell_type": "markdown",
   "metadata": {
    "id": "2WPXdSxSvae_"
   },
   "source": [
    "It contains 4 entries: one per metric that was being monitored, during training and during validation. Let's use Matplotlib to plot the \n",
    "training and validation loss side by side, as well as the training and validation accuracy:"
   ]
  },
  {
   "cell_type": "markdown",
   "metadata": {
    "id": "8FgoEZYxvae_"
   },
   "source": [
    "**Plotting the training and validation loss**"
   ]
  },
  {
   "cell_type": "code",
   "execution_count": 15,
   "metadata": {
    "colab": {
     "base_uri": "https://localhost:8080/",
     "height": 295
    },
    "executionInfo": {
     "elapsed": 573,
     "status": "ok",
     "timestamp": 1646656934061,
     "user": {
      "displayName": "Mis",
      "photoUrl": "https://lh3.googleusercontent.com/a-/AOh14Gi9fkY6IIxT8q7cFLbRp1Q3Rk8HgS6QeojPa0S8=s64",
      "userId": "09305620378386245649"
     },
     "user_tz": -60
    },
    "id": "kON2hoJYvafA",
    "outputId": "996f1212-7b82-4b70-e4b1-bc1a934b6af7"
   },
   "outputs": [
    {
     "data": {
      "image/png": "[encoded data removed]",
      "text/plain": [
       "<Figure size 432x288 with 1 Axes>"
      ]
     },
     "metadata": {
      "needs_background": "light"
     },
     "output_type": "display_data"
    }
   ],
   "source": [
    "import matplotlib.pyplot as plt\n",
    "history_dict = history.history\n",
    "loss_values = history_dict[\"loss\"]\n",
    "val_loss= history_dict[\"val_loss\"]\n",
    "epochs = range(1, len(loss_values) + 1)\n",
    "plt.plot(epochs, loss_values, \"bo\", label=\"Training loss\")\n",
    "plt.plot(epochs, val_loss, \"b\", label=\"Validation loss\")\n",
    "plt.title(\"Training and validation loss\")\n",
    "plt.xlabel(\"Epochs\")\n",
    "plt.ylabel(\"Loss\")\n",
    "plt.legend()\n",
    "plt.show()"
   ]
  },
  {
   "cell_type": "markdown",
   "metadata": {
    "id": "0GDk43FTvafA"
   },
   "source": [
    "**Plotting the training and validation accuracy**"
   ]
  },
  {
   "cell_type": "code",
   "execution_count": 16,
   "metadata": {
    "colab": {
     "base_uri": "https://localhost:8080/",
     "height": 295
    },
    "executionInfo": {
     "elapsed": 7,
     "status": "ok",
     "timestamp": 1646656934062,
     "user": {
      "displayName": "Mis",
      "photoUrl": "https://lh3.googleusercontent.com/a-/AOh14Gi9fkY6IIxT8q7cFLbRp1Q3Rk8HgS6QeojPa0S8=s64",
      "userId": "09305620378386245649"
     },
     "user_tz": -60
    },
    "id": "c-ihMZBYvafA",
    "outputId": "2e2ac660-55c6-4aa7-8878-a6a87b8f1ca1"
   },
   "outputs": [
    {
     "data": {
      "image/png": "[encoded data removed]",
      "text/plain": [
       "<Figure size 432x288 with 1 Axes>"
      ]
     },
     "metadata": {
      "needs_background": "light"
     },
     "output_type": "display_data"
    }
   ],
   "source": [
    "plt.clf()\n",
    "acc = history_dict[\"accuracy\"]\n",
    "val_acc = history_dict[\"val_accuracy\"]\n",
    "plt.plot(epochs, acc, \"bo\", label=\"Training acc\")\n",
    "plt.plot(epochs, val_acc, \"b\", label=\"Validation acc\")\n",
    "plt.title(\"Training and validation accuracy\")\n",
    "plt.xlabel(\"Epochs\")\n",
    "plt.ylabel(\"Accuracy\")\n",
    "plt.legend()\n",
    "plt.show()"
   ]
  },
  {
   "cell_type": "markdown",
   "metadata": {
    "id": "f250kU71vafB"
   },
   "source": [
    "\n",
    "The dots are the training loss and accuracy, while the solid lines are the validation loss and accuracy. Note that your own results may vary \n",
    "slightly due to a different random initialization of your network.\n",
    "\n",
    "As you can see, the training loss decreases with every epoch and the training accuracy increases with every epoch. That's what you would \n",
    "expect when running gradient descent optimization -- the quantity you are trying to minimize should get lower with every iteration. But that \n",
    "isn't the case for the validation loss and accuracy: they seem to peak at the fourth epoch. This is an example of what we were warning \n",
    "against earlier: a model that performs better on the training data isn't necessarily a model that will do better on data it has never seen \n",
    "before. In precise terms, what you are seeing is \"overfitting\": after the second epoch, we are over-optimizing on the training data, and we \n",
    "ended up learning representations that are specific to the training data and do not generalize to data outside of the training set.\n",
    "\n",
    "In this case, to prevent overfitting, we could simply stop training after three epochs. In general, there is a range of techniques you can \n",
    "leverage to mitigate overfitting, which we will cover in the next chapter.\n",
    "\n",
    "Let's train a new network from scratch for four epochs, then evaluate it on our test data:"
   ]
  },
  {
   "cell_type": "markdown",
   "metadata": {
    "id": "N7hK13udvafB"
   },
   "source": [
    "**Retraining a model from scratch**"
   ]
  },
  {
   "cell_type": "code",
   "execution_count": 17,
   "metadata": {
    "colab": {
     "base_uri": "https://localhost:8080/"
    },
    "executionInfo": {
     "elapsed": 14554,
     "status": "ok",
     "timestamp": 1646656948610,
     "user": {
      "displayName": "Mis",
      "photoUrl": "https://lh3.googleusercontent.com/a-/AOh14Gi9fkY6IIxT8q7cFLbRp1Q3Rk8HgS6QeojPa0S8=s64",
      "userId": "09305620378386245649"
     },
     "user_tz": -60
    },
    "id": "777GgeIjvafB",
    "outputId": "5b4ab4b7-23d3-41a5-a6bc-1029d352f9f1"
   },
   "outputs": [
    {
     "name": "stdout",
     "output_type": "stream",
     "text": [
      "Epoch 1/4\n",
      "49/49 [==============================] - 3s 37ms/step - loss: 0.4809 - accuracy: 0.8192\n",
      "Epoch 2/4\n",
      "49/49 [==============================] - 2s 36ms/step - loss: 0.2800 - accuracy: 0.9042\n",
      "Epoch 3/4\n",
      "49/49 [==============================] - 2s 36ms/step - loss: 0.2099 - accuracy: 0.9274\n",
      "Epoch 4/4\n",
      "49/49 [==============================] - 2s 36ms/step - loss: 0.1765 - accuracy: 0.9378\n",
      "782/782 [==============================] - 2s 3ms/step - loss: 0.2885 - accuracy: 0.8854\n"
     ]
    }
   ],
   "source": [
    "model = keras.Sequential([\n",
    "    layers.Dense(16, activation=\"relu\"),\n",
    "    layers.Dense(16, activation=\"relu\"),\n",
    "    layers.Dense(1, activation=\"sigmoid\")\n",
    "])\n",
    "model.compile(optimizer=\"rmsprop\",\n",
    "              loss=\"binary_crossentropy\",\n",
    "              metrics=[\"accuracy\"])\n",
    "model.fit(x_train, y_train, epochs=4, batch_size=512)\n",
    "results = model.evaluate(x_test, y_test)"
   ]
  },
  {
   "cell_type": "code",
   "execution_count": 18,
   "metadata": {
    "colab": {
     "base_uri": "https://localhost:8080/"
    },
    "executionInfo": {
     "elapsed": 8,
     "status": "ok",
     "timestamp": 1646656948611,
     "user": {
      "displayName": "Mis",
      "photoUrl": "https://lh3.googleusercontent.com/a-/AOh14Gi9fkY6IIxT8q7cFLbRp1Q3Rk8HgS6QeojPa0S8=s64",
      "userId": "09305620378386245649"
     },
     "user_tz": -60
    },
    "id": "RK4tTKyFvafB",
    "outputId": "848f6d11-5df2-4081-cfc4-e9d12c14714f"
   },
   "outputs": [
    {
     "data": {
      "text/plain": [
       "[0.2884702682495117, 0.8853999972343445]"
      ]
     },
     "execution_count": 18,
     "metadata": {},
     "output_type": "execute_result"
    }
   ],
   "source": [
    "results"
   ]
  },
  {
   "cell_type": "markdown",
   "metadata": {
    "id": "Cr-7y029vafB"
   },
   "source": [
    "### Using a trained model to generate predictions on new data\n",
    "\n",
    "\n",
    "After having trained a network, you will want to use it in a practical setting. You can generate the likelihood of reviews being positive \n",
    "by using the `predict` method:"
   ]
  },
  {
   "cell_type": "code",
   "execution_count": 19,
   "metadata": {
    "colab": {
     "base_uri": "https://localhost:8080/"
    },
    "executionInfo": {
     "elapsed": 2398,
     "status": "ok",
     "timestamp": 1646656951005,
     "user": {
      "displayName": "Mis",
      "photoUrl": "https://lh3.googleusercontent.com/a-/AOh14Gi9fkY6IIxT8q7cFLbRp1Q3Rk8HgS6QeojPa0S8=s64",
      "userId": "09305620378386245649"
     },
     "user_tz": -60
    },
    "id": "IG_XNNV_vafC",
    "outputId": "e3074a5f-c8a1-4374-ebfc-d8f6878000f4"
   },
   "outputs": [
    {
     "data": {
      "text/plain": [
       "array([[0.24546212],\n",
       "       [0.99986136],\n",
       "       [0.95132726],\n",
       "       ...,\n",
       "       [0.12056804],\n",
       "       [0.08512574],\n",
       "       [0.61994106]], dtype=float32)"
      ]
     },
     "execution_count": 19,
     "metadata": {},
     "output_type": "execute_result"
    }
   ],
   "source": [
    "model.predict(x_test)"
   ]
  },
  {
   "cell_type": "markdown",
   "metadata": {
    "id": "Rl_QDEfgvafC"
   },
   "source": [
    "### Further experiments\n",
    "\n",
    "The following experiments will help convince you that the architecture choices you’ve\n",
    "made are all fairly reasonable, although there’s still room for improvement:\n",
    "* You used two representation layers before the final classification layer. Try using\n",
    "one or three representation layers, and see how doing so affects validation and\n",
    "test accuracy.\n",
    "* Try using layers with more units or fewer units: 32 units, 64 units, and so on.\n",
    "* Try using the `mse` loss function instead of `binary_crossentropy`.\n",
    "* Try using the `tanh` activation (an activation that was popular in the early days of\n",
    "neural networks) instead of `relu`.\n",
    "\n",
    "<font color='violet'> The following function is used to reduce boilerplate code when experimenting with different hyperparameters of the layers.</font>"
   ]
  },
  {
   "cell_type": "code",
   "execution_count": 20,
   "metadata": {
    "executionInfo": {
     "elapsed": 4,
     "status": "ok",
     "timestamp": 1646656951006,
     "user": {
      "displayName": "Mis",
      "photoUrl": "https://lh3.googleusercontent.com/a-/AOh14Gi9fkY6IIxT8q7cFLbRp1Q3Rk8HgS6QeojPa0S8=s64",
      "userId": "09305620378386245649"
     },
     "user_tz": -60
    },
    "id": "0MbGiX25_s_q"
   },
   "outputs": [],
   "source": [
    "def fit_experiments(layer_size,layer_depth,activation,loss):\n",
    "  model = keras.Sequential([layers.Dense(layer_size, activation=activation) for i in range(layer_depth)] +\n",
    "    [layers.Dense(1, activation=\"sigmoid\")])\n",
    "  model.compile(optimizer=\"rmsprop\",\n",
    "              loss=loss,\n",
    "              metrics=[\"accuracy\"])\n",
    "  history = model.fit(partial_x_train,\n",
    "                    partial_y_train,\n",
    "                    epochs=20,\n",
    "                    batch_size=512,\n",
    "                    validation_data=(x_val, y_val))\n",
    "  val_loss = history.history[\"val_loss\"]\n",
    "  val_acc = history.history[\"val_accuracy\"]\n",
    "  return val_loss, val_acc"
   ]
  },
  {
   "cell_type": "markdown",
   "metadata": {
    "id": "RgY1nYeMD8sQ"
   },
   "source": [
    "<font color='violet'> First, the size of the hidden layers is varied.</font>"
   ]
  },
  {
   "cell_type": "code",
   "execution_count": 21,
   "metadata": {
    "colab": {
     "base_uri": "https://localhost:8080/"
    },
    "executionInfo": {
     "elapsed": 117772,
     "status": "ok",
     "timestamp": 1646657068775,
     "user": {
      "displayName": "Mis",
      "photoUrl": "https://lh3.googleusercontent.com/a-/AOh14Gi9fkY6IIxT8q7cFLbRp1Q3Rk8HgS6QeojPa0S8=s64",
      "userId": "09305620378386245649"
     },
     "user_tz": -60
    },
    "id": "LR3qUtm4BDb5",
    "outputId": "4e93c96b-73cf-4ef2-bc1a-d93711f6f55b"
   },
   "outputs": [
    {
     "name": "stdout",
     "output_type": "stream",
     "text": [
      "Epoch 1/20\n",
      "30/30 [==============================] - 3s 73ms/step - loss: 0.4986 - accuracy: 0.7802 - val_loss: 0.3508 - val_accuracy: 0.8774\n",
      "Epoch 2/20\n",
      "30/30 [==============================] - 2s 56ms/step - loss: 0.2813 - accuracy: 0.9033 - val_loss: 0.2860 - val_accuracy: 0.8918\n",
      "Epoch 3/20\n",
      "30/30 [==============================] - 2s 56ms/step - loss: 0.2047 - accuracy: 0.9290 - val_loss: 0.2831 - val_accuracy: 0.8874\n",
      "Epoch 4/20\n",
      "30/30 [==============================] - 2s 55ms/step - loss: 0.1571 - accuracy: 0.9465 - val_loss: 0.2787 - val_accuracy: 0.8899\n",
      "Epoch 5/20\n",
      "30/30 [==============================] - 2s 55ms/step - loss: 0.1246 - accuracy: 0.9583 - val_loss: 0.3595 - val_accuracy: 0.8694\n",
      "Epoch 6/20\n",
      "30/30 [==============================] - 2s 55ms/step - loss: 0.0939 - accuracy: 0.9713 - val_loss: 0.4229 - val_accuracy: 0.8525\n",
      "Epoch 7/20\n",
      "30/30 [==============================] - 2s 54ms/step - loss: 0.0829 - accuracy: 0.9748 - val_loss: 0.3420 - val_accuracy: 0.8826\n",
      "Epoch 8/20\n",
      "30/30 [==============================] - 2s 55ms/step - loss: 0.0636 - accuracy: 0.9807 - val_loss: 0.3672 - val_accuracy: 0.8785\n",
      "Epoch 9/20\n",
      "30/30 [==============================] - 2s 56ms/step - loss: 0.0377 - accuracy: 0.9919 - val_loss: 0.5456 - val_accuracy: 0.8511\n",
      "Epoch 10/20\n",
      "30/30 [==============================] - 2s 54ms/step - loss: 0.0442 - accuracy: 0.9863 - val_loss: 0.4293 - val_accuracy: 0.8753\n",
      "Epoch 11/20\n",
      "30/30 [==============================] - 2s 56ms/step - loss: 0.0190 - accuracy: 0.9967 - val_loss: 0.4879 - val_accuracy: 0.8698\n",
      "Epoch 12/20\n",
      "30/30 [==============================] - 2s 54ms/step - loss: 0.0258 - accuracy: 0.9925 - val_loss: 0.5030 - val_accuracy: 0.8753\n",
      "Epoch 13/20\n",
      "30/30 [==============================] - 2s 55ms/step - loss: 0.0103 - accuracy: 0.9989 - val_loss: 0.6263 - val_accuracy: 0.8628\n",
      "Epoch 14/20\n",
      "30/30 [==============================] - 2s 55ms/step - loss: 0.0095 - accuracy: 0.9985 - val_loss: 0.6573 - val_accuracy: 0.8586\n",
      "Epoch 15/20\n",
      "30/30 [==============================] - 2s 54ms/step - loss: 0.0043 - accuracy: 0.9999 - val_loss: 0.6319 - val_accuracy: 0.8709\n",
      "Epoch 16/20\n",
      "30/30 [==============================] - 2s 56ms/step - loss: 0.0144 - accuracy: 0.9953 - val_loss: 0.6677 - val_accuracy: 0.8685\n",
      "Epoch 17/20\n",
      "30/30 [==============================] - 2s 56ms/step - loss: 0.0018 - accuracy: 0.9999 - val_loss: 0.6978 - val_accuracy: 0.8688\n",
      "Epoch 18/20\n",
      "30/30 [==============================] - 2s 56ms/step - loss: 0.0014 - accuracy: 0.9999 - val_loss: 0.7466 - val_accuracy: 0.8676\n",
      "Epoch 19/20\n",
      "30/30 [==============================] - 2s 55ms/step - loss: 0.0133 - accuracy: 0.9961 - val_loss: 0.7733 - val_accuracy: 0.8673\n",
      "Epoch 20/20\n",
      "30/30 [==============================] - 2s 55ms/step - loss: 6.7665e-04 - accuracy: 1.0000 - val_loss: 0.7990 - val_accuracy: 0.8660\n",
      "Epoch 1/20\n",
      "30/30 [==============================] - 3s 89ms/step - loss: 0.4870 - accuracy: 0.7737 - val_loss: 0.4439 - val_accuracy: 0.7982\n",
      "Epoch 2/20\n",
      "30/30 [==============================] - 2s 75ms/step - loss: 0.2641 - accuracy: 0.9049 - val_loss: 0.2850 - val_accuracy: 0.8857\n",
      "Epoch 3/20\n",
      "30/30 [==============================] - 2s 74ms/step - loss: 0.1904 - accuracy: 0.9318 - val_loss: 0.2815 - val_accuracy: 0.8881\n",
      "Epoch 4/20\n",
      "30/30 [==============================] - 2s 74ms/step - loss: 0.1505 - accuracy: 0.9434 - val_loss: 0.3438 - val_accuracy: 0.8682\n",
      "Epoch 5/20\n",
      "30/30 [==============================] - 2s 74ms/step - loss: 0.1159 - accuracy: 0.9600 - val_loss: 0.3112 - val_accuracy: 0.8852\n",
      "Epoch 6/20\n",
      "30/30 [==============================] - 3s 87ms/step - loss: 0.0852 - accuracy: 0.9717 - val_loss: 0.3738 - val_accuracy: 0.8761\n",
      "Epoch 7/20\n",
      "30/30 [==============================] - 2s 75ms/step - loss: 0.0676 - accuracy: 0.9792 - val_loss: 0.4021 - val_accuracy: 0.8744\n",
      "Epoch 8/20\n",
      "30/30 [==============================] - 2s 75ms/step - loss: 0.0527 - accuracy: 0.9837 - val_loss: 0.4145 - val_accuracy: 0.8792\n",
      "Epoch 9/20\n",
      "30/30 [==============================] - 2s 75ms/step - loss: 0.0365 - accuracy: 0.9895 - val_loss: 0.4458 - val_accuracy: 0.8763\n",
      "Epoch 10/20\n",
      "30/30 [==============================] - 2s 76ms/step - loss: 0.0337 - accuracy: 0.9908 - val_loss: 0.4752 - val_accuracy: 0.8765\n",
      "Epoch 11/20\n",
      "30/30 [==============================] - 2s 77ms/step - loss: 0.0083 - accuracy: 0.9995 - val_loss: 0.5425 - val_accuracy: 0.8737\n",
      "Epoch 12/20\n",
      "30/30 [==============================] - 2s 75ms/step - loss: 0.0298 - accuracy: 0.9912 - val_loss: 0.5657 - val_accuracy: 0.8729\n",
      "Epoch 13/20\n",
      "30/30 [==============================] - 2s 76ms/step - loss: 0.0032 - accuracy: 0.9999 - val_loss: 0.6159 - val_accuracy: 0.8715\n",
      "Epoch 14/20\n",
      "30/30 [==============================] - 2s 75ms/step - loss: 0.0327 - accuracy: 0.9921 - val_loss: 0.6387 - val_accuracy: 0.8707\n",
      "Epoch 15/20\n",
      "30/30 [==============================] - 2s 76ms/step - loss: 0.0015 - accuracy: 0.9999 - val_loss: 0.6807 - val_accuracy: 0.8687\n",
      "Epoch 16/20\n",
      "30/30 [==============================] - 2s 74ms/step - loss: 0.0010 - accuracy: 1.0000 - val_loss: 0.7389 - val_accuracy: 0.8686\n",
      "Epoch 17/20\n",
      "30/30 [==============================] - 2s 74ms/step - loss: 0.0386 - accuracy: 0.9923 - val_loss: 0.7981 - val_accuracy: 0.8682\n",
      "Epoch 18/20\n",
      "30/30 [==============================] - 2s 74ms/step - loss: 4.3139e-04 - accuracy: 1.0000 - val_loss: 0.8113 - val_accuracy: 0.8677\n",
      "Epoch 19/20\n",
      "30/30 [==============================] - 2s 75ms/step - loss: 2.9955e-04 - accuracy: 1.0000 - val_loss: 0.8469 - val_accuracy: 0.8693\n",
      "Epoch 20/20\n",
      "30/30 [==============================] - 2s 73ms/step - loss: 2.1061e-04 - accuracy: 1.0000 - val_loss: 0.9027 - val_accuracy: 0.8682\n"
     ]
    }
   ],
   "source": [
    "val_loss_larger, val_acc_larger =  fit_experiments(32,2,\"relu\",\"binary_crossentropy\")\n",
    "val_loss_largest, val_acc_largest =  fit_experiments(64,2,\"relu\",\"binary_crossentropy\")"
   ]
  },
  {
   "cell_type": "code",
   "execution_count": 22,
   "metadata": {
    "colab": {
     "base_uri": "https://localhost:8080/",
     "height": 295
    },
    "executionInfo": {
     "elapsed": 556,
     "status": "ok",
     "timestamp": 1646657069328,
     "user": {
      "displayName": "Mis",
      "photoUrl": "https://lh3.googleusercontent.com/a-/AOh14Gi9fkY6IIxT8q7cFLbRp1Q3Rk8HgS6QeojPa0S8=s64",
      "userId": "09305620378386245649"
     },
     "user_tz": -60
    },
    "id": "oH9W1vLRB4yP",
    "outputId": "2dac4e90-41d0-4d68-abbb-c4f5034df543"
   },
   "outputs": [
    {
     "data": {
      "image/png": "[encoded data removed]",
      "text/plain": [
       "<Figure size 432x288 with 1 Axes>"
      ]
     },
     "metadata": {
      "needs_background": "light"
     },
     "output_type": "display_data"
    }
   ],
   "source": [
    "plt.plot(epochs, val_loss, label=\"Validation loss orignal model, hidden layers with 16 units\")\n",
    "plt.plot(epochs, val_loss_larger, label=\"Validation loss, hidden layers with 32 units\")\n",
    "plt.plot(epochs, val_loss_largest, label=\"Validation loss, hidden layers with 64 units\")\n",
    "plt.title(\"Validation loss\")\n",
    "plt.xlabel(\"Epochs\")\n",
    "plt.ylabel(\"Loss\")\n",
    "plt.legend()\n",
    "plt.show()"
   ]
  },
  {
   "cell_type": "code",
   "execution_count": 23,
   "metadata": {
    "colab": {
     "base_uri": "https://localhost:8080/",
     "height": 295
    },
    "executionInfo": {
     "elapsed": 8,
     "status": "ok",
     "timestamp": 1646657069329,
     "user": {
      "displayName": "Mis",
      "photoUrl": "https://lh3.googleusercontent.com/a-/AOh14Gi9fkY6IIxT8q7cFLbRp1Q3Rk8HgS6QeojPa0S8=s64",
      "userId": "09305620378386245649"
     },
     "user_tz": -60
    },
    "id": "tQJqpMkMDDlO",
    "outputId": "5b877601-9f28-4432-a903-003901b676c8"
   },
   "outputs": [
    {
     "data": {
      "image/png": "[encoded data removed]",
      "text/plain": [
       "<Figure size 432x288 with 1 Axes>"
      ]
     },
     "metadata": {
      "needs_background": "light"
     },
     "output_type": "display_data"
    }
   ],
   "source": [
    "plt.plot(epochs, val_acc, label=\"Validation accuracy original model, hidden layers with 16 units\")\n",
    "plt.plot(epochs, val_acc_larger, label=\"Validation accuracy larger model, hidden layers with 32 units\")\n",
    "plt.plot(epochs, val_acc_largest, label=\"Validation accuracy, hidden layers with 64 units\")\n",
    "plt.title(\"Validation accuracy\")\n",
    "plt.xlabel(\"Epochs\")\n",
    "plt.ylabel(\"Accuracy\")\n",
    "plt.legend()\n",
    "plt.show()"
   ]
  },
  {
   "cell_type": "markdown",
   "metadata": {
    "id": "xGjsSLrEDNt_"
   },
   "source": [
    "<font color='violet'> The model with small hidden layers has a more clearly defined basin of good validation performance before overfitting begins. the more complex models seem to overfit right away, therefore the original model was sensible.\n",
    "\n",
    "Next, the number of hidden layers is varied.</font>"
   ]
  },
  {
   "cell_type": "code",
   "execution_count": 24,
   "metadata": {
    "colab": {
     "base_uri": "https://localhost:8080/"
    },
    "executionInfo": {
     "elapsed": 73821,
     "status": "ok",
     "timestamp": 1646657143144,
     "user": {
      "displayName": "Mis",
      "photoUrl": "https://lh3.googleusercontent.com/a-/AOh14Gi9fkY6IIxT8q7cFLbRp1Q3Rk8HgS6QeojPa0S8=s64",
      "userId": "09305620378386245649"
     },
     "user_tz": -60
    },
    "id": "foeqEshvDQL5",
    "outputId": "2a430b8c-59d9-4776-be86-01911421bcf0"
   },
   "outputs": [
    {
     "name": "stdout",
     "output_type": "stream",
     "text": [
      "Epoch 1/20\n",
      "30/30 [==============================] - 3s 74ms/step - loss: 0.4855 - accuracy: 0.7973 - val_loss: 0.3720 - val_accuracy: 0.8779\n",
      "Epoch 2/20\n",
      "30/30 [==============================] - 1s 47ms/step - loss: 0.3024 - accuracy: 0.9063 - val_loss: 0.3112 - val_accuracy: 0.8856\n",
      "Epoch 3/20\n",
      "30/30 [==============================] - 1s 47ms/step - loss: 0.2345 - accuracy: 0.9273 - val_loss: 0.3027 - val_accuracy: 0.8806\n",
      "Epoch 4/20\n",
      "30/30 [==============================] - 2s 59ms/step - loss: 0.1919 - accuracy: 0.9401 - val_loss: 0.2791 - val_accuracy: 0.8888\n",
      "Epoch 5/20\n",
      "30/30 [==============================] - 1s 42ms/step - loss: 0.1623 - accuracy: 0.9514 - val_loss: 0.2751 - val_accuracy: 0.8885\n",
      "Epoch 6/20\n",
      "30/30 [==============================] - 1s 48ms/step - loss: 0.1416 - accuracy: 0.9583 - val_loss: 0.2795 - val_accuracy: 0.8886\n",
      "Epoch 7/20\n",
      "30/30 [==============================] - 1s 49ms/step - loss: 0.1231 - accuracy: 0.9657 - val_loss: 0.3010 - val_accuracy: 0.8819\n",
      "Epoch 8/20\n",
      "30/30 [==============================] - 1s 48ms/step - loss: 0.1080 - accuracy: 0.9706 - val_loss: 0.2956 - val_accuracy: 0.8829\n",
      "Epoch 9/20\n",
      "30/30 [==============================] - 2s 58ms/step - loss: 0.0957 - accuracy: 0.9740 - val_loss: 0.3027 - val_accuracy: 0.8824\n",
      "Epoch 10/20\n",
      "30/30 [==============================] - 1s 47ms/step - loss: 0.0842 - accuracy: 0.9791 - val_loss: 0.3135 - val_accuracy: 0.8822\n",
      "Epoch 11/20\n",
      "30/30 [==============================] - 1s 48ms/step - loss: 0.0740 - accuracy: 0.9827 - val_loss: 0.3280 - val_accuracy: 0.8817\n",
      "Epoch 12/20\n",
      "30/30 [==============================] - 1s 47ms/step - loss: 0.0657 - accuracy: 0.9855 - val_loss: 0.3464 - val_accuracy: 0.8760\n",
      "Epoch 13/20\n",
      "30/30 [==============================] - 2s 59ms/step - loss: 0.0587 - accuracy: 0.9877 - val_loss: 0.3572 - val_accuracy: 0.8795\n",
      "Epoch 14/20\n",
      "30/30 [==============================] - 2s 71ms/step - loss: 0.0508 - accuracy: 0.9905 - val_loss: 0.3727 - val_accuracy: 0.8751\n",
      "Epoch 15/20\n",
      "30/30 [==============================] - 2s 59ms/step - loss: 0.0454 - accuracy: 0.9919 - val_loss: 0.3866 - val_accuracy: 0.8748\n",
      "Epoch 16/20\n",
      "30/30 [==============================] - 1s 39ms/step - loss: 0.0402 - accuracy: 0.9926 - val_loss: 0.4089 - val_accuracy: 0.8715\n",
      "Epoch 17/20\n",
      "30/30 [==============================] - 1s 48ms/step - loss: 0.0359 - accuracy: 0.9946 - val_loss: 0.4303 - val_accuracy: 0.8739\n",
      "Epoch 18/20\n",
      "30/30 [==============================] - 1s 48ms/step - loss: 0.0308 - accuracy: 0.9958 - val_loss: 0.4368 - val_accuracy: 0.8739\n",
      "Epoch 19/20\n",
      "30/30 [==============================] - 1s 48ms/step - loss: 0.0275 - accuracy: 0.9960 - val_loss: 0.4565 - val_accuracy: 0.8722\n",
      "Epoch 20/20\n",
      "30/30 [==============================] - 1s 48ms/step - loss: 0.0231 - accuracy: 0.9971 - val_loss: 0.4828 - val_accuracy: 0.8702\n",
      "Epoch 1/20\n",
      "30/30 [==============================] - 2s 57ms/step - loss: 0.5497 - accuracy: 0.7801 - val_loss: 0.4322 - val_accuracy: 0.8433\n",
      "Epoch 2/20\n",
      "30/30 [==============================] - 1s 45ms/step - loss: 0.3242 - accuracy: 0.8974 - val_loss: 0.3074 - val_accuracy: 0.8868\n",
      "Epoch 3/20\n",
      "30/30 [==============================] - 2s 57ms/step - loss: 0.2271 - accuracy: 0.9225 - val_loss: 0.2969 - val_accuracy: 0.8781\n",
      "Epoch 4/20\n",
      "30/30 [==============================] - 1s 46ms/step - loss: 0.1714 - accuracy: 0.9431 - val_loss: 0.2867 - val_accuracy: 0.8844\n",
      "Epoch 5/20\n",
      "30/30 [==============================] - 2s 57ms/step - loss: 0.1334 - accuracy: 0.9547 - val_loss: 0.3185 - val_accuracy: 0.8787\n",
      "Epoch 6/20\n",
      "30/30 [==============================] - 2s 57ms/step - loss: 0.1040 - accuracy: 0.9666 - val_loss: 0.3078 - val_accuracy: 0.8842\n",
      "Epoch 7/20\n",
      "30/30 [==============================] - 1s 47ms/step - loss: 0.0804 - accuracy: 0.9753 - val_loss: 0.3793 - val_accuracy: 0.8704\n",
      "Epoch 8/20\n",
      "30/30 [==============================] - 2s 57ms/step - loss: 0.0629 - accuracy: 0.9822 - val_loss: 0.4403 - val_accuracy: 0.8599\n",
      "Epoch 9/20\n",
      "30/30 [==============================] - 1s 46ms/step - loss: 0.0455 - accuracy: 0.9889 - val_loss: 0.3996 - val_accuracy: 0.8803\n",
      "Epoch 10/20\n",
      "30/30 [==============================] - 1s 46ms/step - loss: 0.0344 - accuracy: 0.9918 - val_loss: 0.4340 - val_accuracy: 0.8763\n",
      "Epoch 11/20\n",
      "30/30 [==============================] - 2s 57ms/step - loss: 0.0287 - accuracy: 0.9931 - val_loss: 0.4741 - val_accuracy: 0.8727\n",
      "Epoch 12/20\n",
      "30/30 [==============================] - 2s 57ms/step - loss: 0.0206 - accuracy: 0.9949 - val_loss: 0.5044 - val_accuracy: 0.8749\n",
      "Epoch 13/20\n",
      "30/30 [==============================] - 1s 47ms/step - loss: 0.0099 - accuracy: 0.9988 - val_loss: 0.5576 - val_accuracy: 0.8674\n",
      "Epoch 14/20\n",
      "30/30 [==============================] - 1s 46ms/step - loss: 0.0142 - accuracy: 0.9961 - val_loss: 0.5798 - val_accuracy: 0.8743\n",
      "Epoch 15/20\n",
      "30/30 [==============================] - 2s 57ms/step - loss: 0.0039 - accuracy: 0.9997 - val_loss: 0.6258 - val_accuracy: 0.8728\n",
      "Epoch 16/20\n",
      "30/30 [==============================] - 1s 47ms/step - loss: 0.0126 - accuracy: 0.9966 - val_loss: 0.6568 - val_accuracy: 0.8706\n",
      "Epoch 17/20\n",
      "30/30 [==============================] - 1s 47ms/step - loss: 0.0017 - accuracy: 0.9999 - val_loss: 0.6898 - val_accuracy: 0.8708\n",
      "Epoch 18/20\n",
      "30/30 [==============================] - 1s 45ms/step - loss: 0.0011 - accuracy: 0.9999 - val_loss: 0.7650 - val_accuracy: 0.8693\n",
      "Epoch 19/20\n",
      "30/30 [==============================] - 1s 45ms/step - loss: 0.0139 - accuracy: 0.9965 - val_loss: 0.7968 - val_accuracy: 0.8663\n",
      "Epoch 20/20\n",
      "30/30 [==============================] - 1s 46ms/step - loss: 5.1254e-04 - accuracy: 1.0000 - val_loss: 0.8147 - val_accuracy: 0.8696\n"
     ]
    }
   ],
   "source": [
    "val_loss_shallow, val_acc_shallow =  fit_experiments(16,1,\"relu\",\"binary_crossentropy\")\n",
    "val_loss_deep, val_acc_deep =  fit_experiments(16,3,\"relu\",\"binary_crossentropy\")"
   ]
  },
  {
   "cell_type": "code",
   "execution_count": 25,
   "metadata": {
    "colab": {
     "base_uri": "https://localhost:8080/",
     "height": 295
    },
    "executionInfo": {
     "elapsed": 585,
     "status": "ok",
     "timestamp": 1646657143724,
     "user": {
      "displayName": "Mis",
      "photoUrl": "https://lh3.googleusercontent.com/a-/AOh14Gi9fkY6IIxT8q7cFLbRp1Q3Rk8HgS6QeojPa0S8=s64",
      "userId": "09305620378386245649"
     },
     "user_tz": -60
    },
    "id": "CV_5evIHE5tN",
    "outputId": "d1c82fa4-fa52-46c9-a7cd-b681c92ff39f"
   },
   "outputs": [
    {
     "data": {
      "image/png": "[encoded data removed]",
      "text/plain": [
       "<Figure size 432x288 with 1 Axes>"
      ]
     },
     "metadata": {
      "needs_background": "light"
     },
     "output_type": "display_data"
    }
   ],
   "source": [
    "plt.plot(epochs, val_loss, label=\"Validation loss original model, two hidden layers\")\n",
    "plt.plot(epochs, val_loss_shallow, label=\"Validation loss, one hidden layer\")\n",
    "plt.plot(epochs, val_loss_deep, label=\"Validation loss, three hidden layers\")\n",
    "plt.title(\"Validation loss\")\n",
    "plt.xlabel(\"Epochs\")\n",
    "plt.ylabel(\"Loss\")\n",
    "plt.legend()\n",
    "plt.show()"
   ]
  },
  {
   "cell_type": "code",
   "execution_count": 26,
   "metadata": {
    "colab": {
     "base_uri": "https://localhost:8080/",
     "height": 295
    },
    "executionInfo": {
     "elapsed": 8,
     "status": "ok",
     "timestamp": 1646657143725,
     "user": {
      "displayName": "Mis",
      "photoUrl": "https://lh3.googleusercontent.com/a-/AOh14Gi9fkY6IIxT8q7cFLbRp1Q3Rk8HgS6QeojPa0S8=s64",
      "userId": "09305620378386245649"
     },
     "user_tz": -60
    },
    "id": "minuCJnNFPMe",
    "outputId": "33c5568a-ea70-479a-d3df-45bba03904d0"
   },
   "outputs": [
    {
     "data": {
      "image/png": "[encoded data removed]",
      "text/plain": [
       "<Figure size 432x288 with 1 Axes>"
      ]
     },
     "metadata": {
      "needs_background": "light"
     },
     "output_type": "display_data"
    }
   ],
   "source": [
    "plt.plot(epochs, val_acc, label=\"Validation accuracy original model, two hidden layers\")\n",
    "plt.plot(epochs, val_acc_shallow, label=\"Validation accuracy, one hidden layer\")\n",
    "plt.plot(epochs, val_acc_deep, label=\"Validation accuracy, three hidden layers\")\n",
    "plt.title(\"Validation accuracy\")\n",
    "plt.xlabel(\"Epochs\")\n",
    "plt.ylabel(\"Accuracy\")\n",
    "plt.legend()\n",
    "plt.show()"
   ]
  },
  {
   "cell_type": "markdown",
   "metadata": {
    "id": "ON9qtShpFm17"
   },
   "source": [
    "<font color='violet'>  The more simplistic model with only a single hidden layer performs just as well, if not better, than the original model, and also overfits slower. Shallow models seem to be  preferred for this application. This might be explained by the one-hot feature encoding. The movie reviews lose some of their perceptual nature due to this encoding, and thus deep learning might not be the most appropriate technique to apply on the encoded features.\n",
    "\n",
    "Next we consider the effect of the loss function.\n",
    "</font>"
   ]
  },
  {
   "cell_type": "code",
   "execution_count": 27,
   "metadata": {
    "colab": {
     "base_uri": "https://localhost:8080/"
    },
    "executionInfo": {
     "elapsed": 41962,
     "status": "ok",
     "timestamp": 1646657185681,
     "user": {
      "displayName": "Mis",
      "photoUrl": "https://lh3.googleusercontent.com/a-/AOh14Gi9fkY6IIxT8q7cFLbRp1Q3Rk8HgS6QeojPa0S8=s64",
      "userId": "09305620378386245649"
     },
     "user_tz": -60
    },
    "id": "Vdqio4t8G69T",
    "outputId": "2ed8c491-8431-4e6e-e541-cd7248df8f3d"
   },
   "outputs": [
    {
     "name": "stdout",
     "output_type": "stream",
     "text": [
      "Epoch 1/20\n",
      "30/30 [==============================] - 2s 55ms/step - loss: 0.1634 - accuracy: 0.7943 - val_loss: 0.1201 - val_accuracy: 0.8675\n",
      "Epoch 2/20\n",
      "30/30 [==============================] - 2s 58ms/step - loss: 0.0940 - accuracy: 0.9043 - val_loss: 0.0969 - val_accuracy: 0.8860\n",
      "Epoch 3/20\n",
      "30/30 [==============================] - 2s 56ms/step - loss: 0.0710 - accuracy: 0.9275 - val_loss: 0.0887 - val_accuracy: 0.8920\n",
      "Epoch 4/20\n",
      "30/30 [==============================] - 1s 45ms/step - loss: 0.0567 - accuracy: 0.9438 - val_loss: 0.0864 - val_accuracy: 0.8884\n",
      "Epoch 5/20\n",
      "30/30 [==============================] - 2s 56ms/step - loss: 0.0475 - accuracy: 0.9531 - val_loss: 0.0876 - val_accuracy: 0.8834\n",
      "Epoch 6/20\n",
      "30/30 [==============================] - 1s 45ms/step - loss: 0.0402 - accuracy: 0.9629 - val_loss: 0.0848 - val_accuracy: 0.8863\n",
      "Epoch 7/20\n",
      "30/30 [==============================] - 1s 45ms/step - loss: 0.0348 - accuracy: 0.9686 - val_loss: 0.0842 - val_accuracy: 0.8868\n",
      "Epoch 8/20\n",
      "30/30 [==============================] - 2s 56ms/step - loss: 0.0304 - accuracy: 0.9743 - val_loss: 0.0839 - val_accuracy: 0.8854\n",
      "Epoch 9/20\n",
      "30/30 [==============================] - 2s 56ms/step - loss: 0.0265 - accuracy: 0.9789 - val_loss: 0.0851 - val_accuracy: 0.8824\n",
      "Epoch 10/20\n",
      "30/30 [==============================] - 2s 55ms/step - loss: 0.0235 - accuracy: 0.9807 - val_loss: 0.0864 - val_accuracy: 0.8815\n",
      "Epoch 11/20\n",
      "30/30 [==============================] - 2s 56ms/step - loss: 0.0200 - accuracy: 0.9855 - val_loss: 0.0936 - val_accuracy: 0.8714\n",
      "Epoch 12/20\n",
      "30/30 [==============================] - 1s 46ms/step - loss: 0.0177 - accuracy: 0.9875 - val_loss: 0.0903 - val_accuracy: 0.8774\n",
      "Epoch 13/20\n",
      "30/30 [==============================] - 2s 56ms/step - loss: 0.0157 - accuracy: 0.9887 - val_loss: 0.0923 - val_accuracy: 0.8780\n",
      "Epoch 14/20\n",
      "30/30 [==============================] - 1s 45ms/step - loss: 0.0141 - accuracy: 0.9910 - val_loss: 0.0927 - val_accuracy: 0.8758\n",
      "Epoch 15/20\n",
      "30/30 [==============================] - 1s 46ms/step - loss: 0.0119 - accuracy: 0.9926 - val_loss: 0.0947 - val_accuracy: 0.8747\n",
      "Epoch 16/20\n",
      "30/30 [==============================] - 1s 45ms/step - loss: 0.0108 - accuracy: 0.9935 - val_loss: 0.0966 - val_accuracy: 0.8731\n",
      "Epoch 17/20\n",
      "30/30 [==============================] - 1s 45ms/step - loss: 0.0097 - accuracy: 0.9938 - val_loss: 0.0980 - val_accuracy: 0.8720\n",
      "Epoch 18/20\n",
      "30/30 [==============================] - 1s 45ms/step - loss: 0.0086 - accuracy: 0.9949 - val_loss: 0.0993 - val_accuracy: 0.8705\n",
      "Epoch 19/20\n",
      "30/30 [==============================] - 1s 46ms/step - loss: 0.0074 - accuracy: 0.9956 - val_loss: 0.1006 - val_accuracy: 0.8703\n",
      "Epoch 20/20\n",
      "30/30 [==============================] - 1s 44ms/step - loss: 0.0066 - accuracy: 0.9961 - val_loss: 0.1016 - val_accuracy: 0.8701\n"
     ]
    }
   ],
   "source": [
    "_, val_acc_mse =  fit_experiments(16,1,\"relu\",\"mse\")"
   ]
  },
  {
   "cell_type": "code",
   "execution_count": 28,
   "metadata": {
    "colab": {
     "base_uri": "https://localhost:8080/",
     "height": 295
    },
    "executionInfo": {
     "elapsed": 471,
     "status": "ok",
     "timestamp": 1646657186149,
     "user": {
      "displayName": "Mis",
      "photoUrl": "https://lh3.googleusercontent.com/a-/AOh14Gi9fkY6IIxT8q7cFLbRp1Q3Rk8HgS6QeojPa0S8=s64",
      "userId": "09305620378386245649"
     },
     "user_tz": -60
    },
    "id": "lW-zuQUsIYQy",
    "outputId": "600e6b37-0388-4100-b866-d4479b0ce8b2"
   },
   "outputs": [
    {
     "data": {
      "image/png": "[encoded data removed]",
      "text/plain": [
       "<Figure size 432x288 with 1 Axes>"
      ]
     },
     "metadata": {
      "needs_background": "light"
     },
     "output_type": "display_data"
    }
   ],
   "source": [
    "plt.plot(epochs, val_acc, label=\"Validation accuracy original model using binary crossentropy loss\")\n",
    "plt.plot(epochs, val_acc_mse, label=\"Validation accuracy using mean squared error loss\")\n",
    "plt.title(\"Validation accuracy\")\n",
    "plt.xlabel(\"Epochs\")\n",
    "plt.ylabel(\"Accuracy\")\n",
    "plt.legend()\n",
    "plt.show()"
   ]
  },
  {
   "cell_type": "markdown",
   "metadata": {
    "id": "34oAguauJAhA"
   },
   "source": [
    "<font color='violet'> The performance of the two different losses is almost identical. Binary cross-entropy is the maximum likelihood estimator under the assumption that the output is a Bernoulli distribution for a given level of the input features, a reasonable assumption for binary classification. There is thus no reason to switch to using the mean squared error as the loss function.\n",
    "\n",
    "Finally, we consider different activation functions.\n",
    "</font>"
   ]
  },
  {
   "cell_type": "code",
   "execution_count": 29,
   "metadata": {
    "colab": {
     "base_uri": "https://localhost:8080/"
    },
    "executionInfo": {
     "elapsed": 42632,
     "status": "ok",
     "timestamp": 1646657228777,
     "user": {
      "displayName": "Mis",
      "photoUrl": "https://lh3.googleusercontent.com/a-/AOh14Gi9fkY6IIxT8q7cFLbRp1Q3Rk8HgS6QeojPa0S8=s64",
      "userId": "09305620378386245649"
     },
     "user_tz": -60
    },
    "id": "6Uqr_UwLLSTA",
    "outputId": "d830fa0c-722f-4f1c-e000-7c64007321e9"
   },
   "outputs": [
    {
     "name": "stdout",
     "output_type": "stream",
     "text": [
      "Epoch 1/20\n",
      "30/30 [==============================] - 3s 69ms/step - loss: 0.4944 - accuracy: 0.7929 - val_loss: 0.3810 - val_accuracy: 0.8738\n",
      "Epoch 2/20\n",
      "30/30 [==============================] - 2s 56ms/step - loss: 0.3079 - accuracy: 0.9075 - val_loss: 0.3156 - val_accuracy: 0.8811\n",
      "Epoch 3/20\n",
      "30/30 [==============================] - 2s 58ms/step - loss: 0.2353 - accuracy: 0.9269 - val_loss: 0.2910 - val_accuracy: 0.8848\n",
      "Epoch 4/20\n",
      "30/30 [==============================] - 2s 67ms/step - loss: 0.1913 - accuracy: 0.9413 - val_loss: 0.2783 - val_accuracy: 0.8881\n",
      "Epoch 5/20\n",
      "30/30 [==============================] - 2s 57ms/step - loss: 0.1630 - accuracy: 0.9511 - val_loss: 0.2719 - val_accuracy: 0.8903\n",
      "Epoch 6/20\n",
      "30/30 [==============================] - 2s 57ms/step - loss: 0.1367 - accuracy: 0.9607 - val_loss: 0.2753 - val_accuracy: 0.8882\n",
      "Epoch 7/20\n",
      "30/30 [==============================] - 2s 58ms/step - loss: 0.1176 - accuracy: 0.9663 - val_loss: 0.2921 - val_accuracy: 0.8844\n",
      "Epoch 8/20\n",
      "30/30 [==============================] - 2s 56ms/step - loss: 0.1034 - accuracy: 0.9715 - val_loss: 0.2942 - val_accuracy: 0.8828\n",
      "Epoch 9/20\n",
      "30/30 [==============================] - 2s 68ms/step - loss: 0.0878 - accuracy: 0.9771 - val_loss: 0.3074 - val_accuracy: 0.8834\n",
      "Epoch 10/20\n",
      "30/30 [==============================] - 2s 57ms/step - loss: 0.0754 - accuracy: 0.9823 - val_loss: 0.3204 - val_accuracy: 0.8815\n",
      "Epoch 11/20\n",
      "30/30 [==============================] - 2s 58ms/step - loss: 0.0677 - accuracy: 0.9848 - val_loss: 0.3379 - val_accuracy: 0.8765\n",
      "Epoch 12/20\n",
      "30/30 [==============================] - 2s 58ms/step - loss: 0.0568 - accuracy: 0.9875 - val_loss: 0.3549 - val_accuracy: 0.8790\n",
      "Epoch 13/20\n",
      "30/30 [==============================] - 2s 59ms/step - loss: 0.0490 - accuracy: 0.9901 - val_loss: 0.3755 - val_accuracy: 0.8734\n",
      "Epoch 14/20\n",
      "30/30 [==============================] - 2s 59ms/step - loss: 0.0413 - accuracy: 0.9919 - val_loss: 0.4110 - val_accuracy: 0.8661\n",
      "Epoch 15/20\n",
      "30/30 [==============================] - 2s 59ms/step - loss: 0.0363 - accuracy: 0.9935 - val_loss: 0.4106 - val_accuracy: 0.8742\n",
      "Epoch 16/20\n",
      "30/30 [==============================] - 2s 58ms/step - loss: 0.0294 - accuracy: 0.9955 - val_loss: 0.4562 - val_accuracy: 0.8704\n",
      "Epoch 17/20\n",
      "30/30 [==============================] - 2s 59ms/step - loss: 0.0261 - accuracy: 0.9963 - val_loss: 0.4579 - val_accuracy: 0.8730\n",
      "Epoch 18/20\n",
      "30/30 [==============================] - 2s 57ms/step - loss: 0.0214 - accuracy: 0.9973 - val_loss: 0.4768 - val_accuracy: 0.8672\n",
      "Epoch 19/20\n",
      "30/30 [==============================] - 2s 56ms/step - loss: 0.0192 - accuracy: 0.9977 - val_loss: 0.4997 - val_accuracy: 0.8667\n",
      "Epoch 20/20\n",
      "30/30 [==============================] - 2s 54ms/step - loss: 0.0148 - accuracy: 0.9990 - val_loss: 0.5244 - val_accuracy: 0.8662\n"
     ]
    }
   ],
   "source": [
    "val_loss_tanh, val_acc_tanh =  fit_experiments(16,1,\"tanh\",\"binary_crossentropy\")"
   ]
  },
  {
   "cell_type": "code",
   "execution_count": 30,
   "metadata": {
    "colab": {
     "base_uri": "https://localhost:8080/",
     "height": 295
    },
    "executionInfo": {
     "elapsed": 606,
     "status": "ok",
     "timestamp": 1646657229380,
     "user": {
      "displayName": "Mis",
      "photoUrl": "https://lh3.googleusercontent.com/a-/AOh14Gi9fkY6IIxT8q7cFLbRp1Q3Rk8HgS6QeojPa0S8=s64",
      "userId": "09305620378386245649"
     },
     "user_tz": -60
    },
    "id": "uMZeV4kULfsj",
    "outputId": "3b3bdb5e-051f-4b63-e715-00ee26550a2a"
   },
   "outputs": [
    {
     "data": {
      "image/png": "[encoded data removed]",
      "text/plain": [
       "<Figure size 432x288 with 1 Axes>"
      ]
     },
     "metadata": {
      "needs_background": "light"
     },
     "output_type": "display_data"
    }
   ],
   "source": [
    "plt.plot(epochs, val_loss, label=\"Validation loss original model, using relu activations\")\n",
    "plt.plot(epochs, val_loss_tanh, label=\"Validation loss, using tanh activations\")\n",
    "plt.title(\"Validation loss\")\n",
    "plt.xlabel(\"Epochs\")\n",
    "plt.ylabel(\"Loss\")\n",
    "plt.legend()\n",
    "plt.show()"
   ]
  },
  {
   "cell_type": "code",
   "execution_count": 31,
   "metadata": {
    "colab": {
     "base_uri": "https://localhost:8080/",
     "height": 295
    },
    "executionInfo": {
     "elapsed": 6,
     "status": "ok",
     "timestamp": 1646657229381,
     "user": {
      "displayName": "Mis",
      "photoUrl": "https://lh3.googleusercontent.com/a-/AOh14Gi9fkY6IIxT8q7cFLbRp1Q3Rk8HgS6QeojPa0S8=s64",
      "userId": "09305620378386245649"
     },
     "user_tz": -60
    },
    "id": "fLmS-bUKLu5_",
    "outputId": "eb9386cb-b44b-46a3-fd5f-0b4def597ca9"
   },
   "outputs": [
    {
     "data": {
      "image/png": "[encoded data removed]",
      "text/plain": [
       "<Figure size 432x288 with 1 Axes>"
      ]
     },
     "metadata": {
      "needs_background": "light"
     },
     "output_type": "display_data"
    }
   ],
   "source": [
    "plt.plot(epochs, val_acc, label=\"Validation accuracy original model, using relu activations\")\n",
    "plt.plot(epochs, val_acc_tanh, label=\"Validation accuracy, using tanh activations\")\n",
    "plt.title(\"Validation accuracy\")\n",
    "plt.xlabel(\"Epochs\")\n",
    "plt.ylabel(\"Accuracy\")\n",
    "plt.legend()\n",
    "plt.show()"
   ]
  },
  {
   "cell_type": "markdown",
   "metadata": {
    "id": "rf_UiKkxM1l0"
   },
   "source": [
    "<font color='violet'> \n",
    "Again, the choices made for the original model seem sensible. The hyperbolic tangent activation functions do not lead to more impressive validation accuracies. We conclude by retraining the model from scratch for 5 epochs, with only a single hidden layer, but keeping the other hyperparameters the same as the original model. The book suggested also evaluating the test error for all the intermediate models we evaluated during the hyperparameter optimization. I did not do this, as I think the test error should only be evaluated at the final model, such that the test data does not become overfitted.\n",
    "</font>"
   ]
  },
  {
   "cell_type": "code",
   "execution_count": 32,
   "metadata": {
    "colab": {
     "base_uri": "https://localhost:8080/"
    },
    "executionInfo": {
     "elapsed": 14324,
     "status": "ok",
     "timestamp": 1646657243701,
     "user": {
      "displayName": "Mis",
      "photoUrl": "https://lh3.googleusercontent.com/a-/AOh14Gi9fkY6IIxT8q7cFLbRp1Q3Rk8HgS6QeojPa0S8=s64",
      "userId": "09305620378386245649"
     },
     "user_tz": -60
    },
    "id": "dtLMU9-6NaAJ",
    "outputId": "c406a36c-2aec-4dd8-d22d-0fb01ace1427"
   },
   "outputs": [
    {
     "name": "stdout",
     "output_type": "stream",
     "text": [
      "Epoch 1/5\n",
      "49/49 [==============================] - 3s 40ms/step - loss: 0.4534 - accuracy: 0.8216\n",
      "Epoch 2/5\n",
      "49/49 [==============================] - 2s 39ms/step - loss: 0.2790 - accuracy: 0.9059\n",
      "Epoch 3/5\n",
      "49/49 [==============================] - 2s 39ms/step - loss: 0.2199 - accuracy: 0.9251\n",
      "Epoch 4/5\n",
      "49/49 [==============================] - 2s 38ms/step - loss: 0.1871 - accuracy: 0.9378\n",
      "Epoch 5/5\n",
      "49/49 [==============================] - 2s 38ms/step - loss: 0.1648 - accuracy: 0.9453\n",
      "782/782 [==============================] - 2s 3ms/step - loss: 0.2858 - accuracy: 0.8864\n"
     ]
    },
    {
     "data": {
      "text/plain": [
       "[0.2858293652534485, 0.8863599896430969]"
      ]
     },
     "execution_count": 32,
     "metadata": {},
     "output_type": "execute_result"
    }
   ],
   "source": [
    "model = keras.Sequential([\n",
    "    layers.Dense(16, activation=\"relu\"),\n",
    "    layers.Dense(1, activation=\"sigmoid\")\n",
    "])\n",
    "model.compile(optimizer=\"rmsprop\",\n",
    "              loss=\"binary_crossentropy\",\n",
    "              metrics=[\"accuracy\"])\n",
    "model.fit(x_train, y_train, epochs=5, batch_size=512)\n",
    "results = model.evaluate(x_test, y_test)\n",
    "results"
   ]
  },
  {
   "cell_type": "markdown",
   "metadata": {
    "id": "Ze50EmIROAsf"
   },
   "source": [
    "<font color='violet'> \n",
    "We conclude that the hyperparameter tuning results in a more parsimonious model with the same performance.\n",
    "</font>\n",
    "\n",
    "\n"
   ]
  },
  {
   "cell_type": "markdown",
   "metadata": {
    "id": "qL8m2YW1vafC"
   },
   "source": [
    "### Wrapping up\n",
    "\n",
    "Here’s what you should take away from this example:\n",
    "* You usually need to do quite a bit of preprocessing on your raw data in order to\n",
    "be able to feed it—as tensors—into a neural network. Sequences of words can\n",
    "be encoded as binary vectors, but there are other encoding options too.\n",
    "* Stacks of `Dense` layers with `relu` activations can solve a wide range of problems\n",
    "(including sentiment classification), and you’ll likely use them frequently.\n",
    "* In a binary classification problem (two output classes), your model should end\n",
    "with a `Dense` layer with one unit and a `sigmoid` activation: the output of your\n",
    "model should be a scalar between 0 and 1, encoding a probability.\n",
    "* With such a scalar sigmoid output on a binary classification problem, the loss\n",
    "function you should use is `binary_crossentropy`.\n",
    "* The `rmsprop` optimizer is generally a good enough choice, whatever your problem.\n",
    "That’s one less thing for you to worry about.\n",
    "* As they get better on their training data, neural networks eventually start `overfitting`\n",
    "and end up obtaining increasingly worse results on data they’ve never\n",
    "seen before. Be sure to always monitor performance on data that is outside of\n",
    "the training set."
   ]
  },
  {
   "cell_type": "markdown",
   "metadata": {
    "id": "3StyRjTOvafD"
   },
   "source": [
    "## 4.2 Classifying newswires: A multiclass classification example\n",
    "\n",
    "In the previous section we saw how to classify vector inputs into two mutually exclusive classes using a densely-connected neural network. \n",
    "But what happens when you have more than two classes? \n",
    "\n",
    "In this section, we will build a network to classify Reuters newswires into 46 different mutually-exclusive topics. Since we have many \n",
    "classes, this problem is an instance of \"multi-class classification\", and since each data point should be classified into only one \n",
    "category, the problem is more specifically an instance of \"single-label, multi-class classification\". If each data point could have \n",
    "belonged to multiple categories (in our case, topics) then we would be facing a \"multi-label, multi-class classification\" problem."
   ]
  },
  {
   "cell_type": "markdown",
   "metadata": {
    "id": "gf9q8FU-vafD"
   },
   "source": [
    "### The Reuters dataset\n",
    "\n",
    "\n",
    "We will be working with the _Reuters dataset_, a set of short newswires and their topics, published by Reuters in 1986. It's a very simple, \n",
    "widely used toy dataset for text classification. There are 46 different topics; some topics are more represented than others, but each \n",
    "topic has at least 10 examples in the training set.\n",
    "\n",
    "Like IMDB and MNIST, the Reuters dataset comes packaged as part of Keras. Let's take a look right away:"
   ]
  },
  {
   "cell_type": "markdown",
   "metadata": {
    "id": "mHaXCC3LvafD"
   },
   "source": [
    "**Loading the Reuters dataset**"
   ]
  },
  {
   "cell_type": "code",
   "execution_count": 33,
   "metadata": {
    "executionInfo": {
     "elapsed": 894,
     "status": "ok",
     "timestamp": 1646657244592,
     "user": {
      "displayName": "Mis",
      "photoUrl": "https://lh3.googleusercontent.com/a-/AOh14Gi9fkY6IIxT8q7cFLbRp1Q3Rk8HgS6QeojPa0S8=s64",
      "userId": "09305620378386245649"
     },
     "user_tz": -60
    },
    "id": "y0PUYjxmvafD"
   },
   "outputs": [],
   "source": [
    "from tensorflow.keras.datasets import reuters\n",
    "(train_data, train_labels), (test_data, test_labels) = reuters.load_data(\n",
    "    num_words=10000)"
   ]
  },
  {
   "cell_type": "markdown",
   "metadata": {
    "id": "O58qoWiEvafD"
   },
   "source": [
    "\n",
    "Like with the IMDB dataset, the argument `num_words=10000` restricts the data to the 10,000 most frequently occurring words found in the \n",
    "data.\n",
    "\n",
    "We have 8,982 training examples and 2,246 test examples:"
   ]
  },
  {
   "cell_type": "code",
   "execution_count": 34,
   "metadata": {
    "colab": {
     "base_uri": "https://localhost:8080/"
    },
    "executionInfo": {
     "elapsed": 17,
     "status": "ok",
     "timestamp": 1646657244595,
     "user": {
      "displayName": "Mis",
      "photoUrl": "https://lh3.googleusercontent.com/a-/AOh14Gi9fkY6IIxT8q7cFLbRp1Q3Rk8HgS6QeojPa0S8=s64",
      "userId": "09305620378386245649"
     },
     "user_tz": -60
    },
    "id": "sYqCn0t5vafD",
    "outputId": "5f543bfa-46ea-4260-ce01-700962525b67"
   },
   "outputs": [
    {
     "data": {
      "text/plain": [
       "8982"
      ]
     },
     "execution_count": 34,
     "metadata": {},
     "output_type": "execute_result"
    }
   ],
   "source": [
    "len(train_data)"
   ]
  },
  {
   "cell_type": "code",
   "execution_count": 35,
   "metadata": {
    "colab": {
     "base_uri": "https://localhost:8080/"
    },
    "executionInfo": {
     "elapsed": 15,
     "status": "ok",
     "timestamp": 1646657244595,
     "user": {
      "displayName": "Mis",
      "photoUrl": "https://lh3.googleusercontent.com/a-/AOh14Gi9fkY6IIxT8q7cFLbRp1Q3Rk8HgS6QeojPa0S8=s64",
      "userId": "09305620378386245649"
     },
     "user_tz": -60
    },
    "id": "H4ChcQXEvafE",
    "outputId": "be7f4c16-982d-4d9b-d730-a0d45aadf014"
   },
   "outputs": [
    {
     "data": {
      "text/plain": [
       "2246"
      ]
     },
     "execution_count": 35,
     "metadata": {},
     "output_type": "execute_result"
    }
   ],
   "source": [
    "len(test_data)"
   ]
  },
  {
   "cell_type": "markdown",
   "metadata": {
    "id": "mNMpqHWWvafE"
   },
   "source": [
    "As with the IMDB reviews, each example is a list of integers (word indices):"
   ]
  },
  {
   "cell_type": "code",
   "execution_count": 36,
   "metadata": {
    "colab": {
     "base_uri": "https://localhost:8080/"
    },
    "executionInfo": {
     "elapsed": 13,
     "status": "ok",
     "timestamp": 1646657244595,
     "user": {
      "displayName": "Mis",
      "photoUrl": "https://lh3.googleusercontent.com/a-/AOh14Gi9fkY6IIxT8q7cFLbRp1Q3Rk8HgS6QeojPa0S8=s64",
      "userId": "09305620378386245649"
     },
     "user_tz": -60
    },
    "id": "s5ciPmANvafE",
    "outputId": "f04b91c9-2a21-4659-a4e7-a7640c97a36b"
   },
   "outputs": [
    {
     "data": {
      "text/plain": [
       "[1,\n",
       " 245,\n",
       " 273,\n",
       " 207,\n",
       " 156,\n",
       " 53,\n",
       " 74,\n",
       " 160,\n",
       " 26,\n",
       " 14,\n",
       " 46,\n",
       " 296,\n",
       " 26,\n",
       " 39,\n",
       " 74,\n",
       " 2979,\n",
       " 3554,\n",
       " 14,\n",
       " 46,\n",
       " 4689,\n",
       " 4329,\n",
       " 86,\n",
       " 61,\n",
       " 3499,\n",
       " 4795,\n",
       " 14,\n",
       " 61,\n",
       " 451,\n",
       " 4329,\n",
       " 17,\n",
       " 12]"
      ]
     },
     "execution_count": 36,
     "metadata": {},
     "output_type": "execute_result"
    }
   ],
   "source": [
    "train_data[10]"
   ]
  },
  {
   "cell_type": "markdown",
   "metadata": {
    "id": "E9UormS7vafE"
   },
   "source": [
    "**Decoding newswires back to text**\n",
    "\n",
    "Here's how you can decode it back to words, in case you are curious:"
   ]
  },
  {
   "cell_type": "code",
   "execution_count": 37,
   "metadata": {
    "executionInfo": {
     "elapsed": 11,
     "status": "ok",
     "timestamp": 1646657244595,
     "user": {
      "displayName": "Mis",
      "photoUrl": "https://lh3.googleusercontent.com/a-/AOh14Gi9fkY6IIxT8q7cFLbRp1Q3Rk8HgS6QeojPa0S8=s64",
      "userId": "09305620378386245649"
     },
     "user_tz": -60
    },
    "id": "JbgL6pMFvafE"
   },
   "outputs": [],
   "source": [
    "word_index = reuters.get_word_index()\n",
    "reverse_word_index = dict([(value, key) for (key, value) in word_index.items()])\n",
    "decoded_newswire = \" \".join([reverse_word_index.get(i - 3, \"?\") for i in\n",
    "    train_data[0]])"
   ]
  },
  {
   "cell_type": "code",
   "execution_count": 38,
   "metadata": {
    "colab": {
     "base_uri": "https://localhost:8080/",
     "height": 54
    },
    "executionInfo": {
     "elapsed": 11,
     "status": "ok",
     "timestamp": 1646657244596,
     "user": {
      "displayName": "Mis",
      "photoUrl": "https://lh3.googleusercontent.com/a-/AOh14Gi9fkY6IIxT8q7cFLbRp1Q3Rk8HgS6QeojPa0S8=s64",
      "userId": "09305620378386245649"
     },
     "user_tz": -60
    },
    "id": "uzWectTuvafE",
    "outputId": "ce37dec9-36ef-46b0-ce82-7d9eff324c88"
   },
   "outputs": [
    {
     "data": {
      "application/vnd.google.colaboratory.intrinsic+json": {
       "type": "string"
      },
      "text/plain": [
       "'? ? ? said as a result of its december acquisition of space co it expects earnings per share in 1987 of 1 15 to 1 30 dlrs per share up from 70 cts in 1986 the company said pretax net should rise to nine to 10 mln dlrs from six mln dlrs in 1986 and rental operation revenues to 19 to 22 mln dlrs from 12 5 mln dlrs it said cash flow per share this year should be 2 50 to three dlrs reuter 3'"
      ]
     },
     "execution_count": 38,
     "metadata": {},
     "output_type": "execute_result"
    }
   ],
   "source": [
    "decoded_newswire"
   ]
  },
  {
   "cell_type": "markdown",
   "metadata": {
    "id": "3WUDQE4JvafF"
   },
   "source": [
    "The label associated with an example is an integer between 0 and 45: a topic index."
   ]
  },
  {
   "cell_type": "code",
   "execution_count": 39,
   "metadata": {
    "colab": {
     "base_uri": "https://localhost:8080/"
    },
    "executionInfo": {
     "elapsed": 9,
     "status": "ok",
     "timestamp": 1646657244596,
     "user": {
      "displayName": "Mis",
      "photoUrl": "https://lh3.googleusercontent.com/a-/AOh14Gi9fkY6IIxT8q7cFLbRp1Q3Rk8HgS6QeojPa0S8=s64",
      "userId": "09305620378386245649"
     },
     "user_tz": -60
    },
    "id": "na5ePWJMvafF",
    "outputId": "621ffa82-bc60-4fa7-eea5-817cf37f90d0"
   },
   "outputs": [
    {
     "data": {
      "text/plain": [
       "3"
      ]
     },
     "execution_count": 39,
     "metadata": {},
     "output_type": "execute_result"
    }
   ],
   "source": [
    "train_labels[10]"
   ]
  },
  {
   "cell_type": "markdown",
   "metadata": {
    "id": "0MmPeS8ZvafF"
   },
   "source": [
    "### Preparing the data"
   ]
  },
  {
   "cell_type": "markdown",
   "metadata": {
    "id": "mkAzKTlxvafF"
   },
   "source": [
    "**Encoding the input data**\n",
    "\n",
    "We can vectorize the data with the exact same code as in our previous example:"
   ]
  },
  {
   "cell_type": "code",
   "execution_count": 40,
   "metadata": {
    "executionInfo": {
     "elapsed": 970,
     "status": "ok",
     "timestamp": 1646657245560,
     "user": {
      "displayName": "Mis",
      "photoUrl": "https://lh3.googleusercontent.com/a-/AOh14Gi9fkY6IIxT8q7cFLbRp1Q3Rk8HgS6QeojPa0S8=s64",
      "userId": "09305620378386245649"
     },
     "user_tz": -60
    },
    "id": "dh3Nn9dcvafF"
   },
   "outputs": [],
   "source": [
    "x_train = vectorize_sequences(train_data)\n",
    "x_test = vectorize_sequences(test_data)"
   ]
  },
  {
   "cell_type": "markdown",
   "metadata": {
    "id": "wau77pq7vafF"
   },
   "source": [
    "**Encoding the labels**"
   ]
  },
  {
   "cell_type": "markdown",
   "metadata": {
    "id": "MzGiPWn4vafG"
   },
   "source": [
    "\n",
    "To vectorize the labels, there are two possibilities: we could just cast the label list as an integer tensor, or we could use a \"one-hot\" \n",
    "encoding. One-hot encoding is a widely used format for categorical data, also called \"categorical encoding\". \n",
    "For a more detailed explanation of one-hot encoding, you can refer to Chapter 6, Section 1. \n",
    "In our case, one-hot encoding of our labels consists in embedding each label as an all-zero vector with a 1 in the place of the label index, e.g.:"
   ]
  },
  {
   "cell_type": "code",
   "execution_count": 41,
   "metadata": {
    "executionInfo": {
     "elapsed": 5,
     "status": "ok",
     "timestamp": 1646657245561,
     "user": {
      "displayName": "Mis",
      "photoUrl": "https://lh3.googleusercontent.com/a-/AOh14Gi9fkY6IIxT8q7cFLbRp1Q3Rk8HgS6QeojPa0S8=s64",
      "userId": "09305620378386245649"
     },
     "user_tz": -60
    },
    "id": "Azs9gVTLvafG"
   },
   "outputs": [],
   "source": [
    "def to_one_hot(labels, dimension=46):\n",
    "    results = np.zeros((len(labels), dimension))\n",
    "    for i, label in enumerate(labels):\n",
    "        results[i, label] = 1.\n",
    "    return results\n",
    "y_train = to_one_hot(train_labels)\n",
    "y_test = to_one_hot(test_labels)"
   ]
  },
  {
   "cell_type": "markdown",
   "metadata": {
    "id": "EGhLjaCbvafH"
   },
   "source": [
    "Note that there is a built-in way to do this in Keras, which you have already seen in action in our MNIST example:"
   ]
  },
  {
   "cell_type": "code",
   "execution_count": 42,
   "metadata": {
    "executionInfo": {
     "elapsed": 4,
     "status": "ok",
     "timestamp": 1646657245561,
     "user": {
      "displayName": "Mis",
      "photoUrl": "https://lh3.googleusercontent.com/a-/AOh14Gi9fkY6IIxT8q7cFLbRp1Q3Rk8HgS6QeojPa0S8=s64",
      "userId": "09305620378386245649"
     },
     "user_tz": -60
    },
    "id": "4HDGum5rvafH"
   },
   "outputs": [],
   "source": [
    "from tensorflow.keras.utils import to_categorical\n",
    "y_train = to_categorical(train_labels)\n",
    "y_test = to_categorical(test_labels)"
   ]
  },
  {
   "cell_type": "markdown",
   "metadata": {
    "id": "t0Q1LvtkvafH"
   },
   "source": [
    "### Building your model\n",
    "\n",
    "This topic classification problem looks very similar to our previous movie review classification problem: in both cases, we are trying to \n",
    "classify short snippets of text. There is however a new constraint here: the number of output classes has gone from 2 to 46, i.e. the \n",
    "dimensionality of the output space is much larger. \n",
    "\n",
    "In a stack of `Dense` layers like what we were using, each layer can only access information present in the output of the previous layer. \n",
    "If one layer drops some information relevant to the classification problem, this information can never be recovered by later layers: each \n",
    "layer can potentially become an \"information bottleneck\". In our previous example, we were using 16-dimensional intermediate layers, but a \n",
    "16-dimensional space may be too limited to learn to separate 46 different classes: such small layers may act as information bottlenecks, \n",
    "permanently dropping relevant information.\n",
    "\n",
    "For this reason we will use larger layers. Let's go with 64 units:"
   ]
  },
  {
   "cell_type": "markdown",
   "metadata": {
    "id": "crWt-cVivafH"
   },
   "source": [
    "**Model definition**"
   ]
  },
  {
   "cell_type": "code",
   "execution_count": 43,
   "metadata": {
    "executionInfo": {
     "elapsed": 4,
     "status": "ok",
     "timestamp": 1646657245561,
     "user": {
      "displayName": "Mis",
      "photoUrl": "https://lh3.googleusercontent.com/a-/AOh14Gi9fkY6IIxT8q7cFLbRp1Q3Rk8HgS6QeojPa0S8=s64",
      "userId": "09305620378386245649"
     },
     "user_tz": -60
    },
    "id": "azZI8CjZvafI"
   },
   "outputs": [],
   "source": [
    "model = keras.Sequential([\n",
    "    layers.Dense(64, activation=\"relu\"),\n",
    "    layers.Dense(64, activation=\"relu\"),\n",
    "    layers.Dense(46, activation=\"softmax\")\n",
    "])"
   ]
  },
  {
   "cell_type": "markdown",
   "metadata": {
    "id": "oec0U7o1vafI"
   },
   "source": [
    "\n",
    "There are two other things you should note about this architecture:\n",
    "\n",
    "* We are ending the network with a `Dense` layer of size 46. This means that for each input sample, our network will output a \n",
    "46-dimensional vector. Each entry in this vector (each dimension) will encode a different output class.\n",
    "* The last layer uses a `softmax` activation. You have already seen this pattern in the MNIST example. It means that the network will \n",
    "output a _probability distribution_ over the 46 different output classes, i.e. for every input sample, the network will produce a \n",
    "46-dimensional output vector where `output[i]` is the probability that the sample belongs to class `i`. The 46 scores will sum to 1.\n",
    "\n",
    "The best loss function to use in this case is `categorical_crossentropy`. It measures the distance between two probability distributions: \n",
    "in our case, between the probability distribution output by our network, and the true distribution of the labels. By minimizing the \n",
    "distance between these two distributions, we train our network to output something as close as possible to the true labels."
   ]
  },
  {
   "cell_type": "markdown",
   "metadata": {
    "id": "JPpfSPEGvafI"
   },
   "source": [
    "**Compiling the model**"
   ]
  },
  {
   "cell_type": "code",
   "execution_count": 44,
   "metadata": {
    "executionInfo": {
     "elapsed": 5,
     "status": "ok",
     "timestamp": 1646657245562,
     "user": {
      "displayName": "Mis",
      "photoUrl": "https://lh3.googleusercontent.com/a-/AOh14Gi9fkY6IIxT8q7cFLbRp1Q3Rk8HgS6QeojPa0S8=s64",
      "userId": "09305620378386245649"
     },
     "user_tz": -60
    },
    "id": "p9C73secvafI"
   },
   "outputs": [],
   "source": [
    "model.compile(optimizer=\"rmsprop\",\n",
    "              loss=\"categorical_crossentropy\",\n",
    "              metrics=[\"accuracy\"])"
   ]
  },
  {
   "cell_type": "markdown",
   "metadata": {
    "id": "_mv43Eo-vafI"
   },
   "source": [
    "### Validating your approach"
   ]
  },
  {
   "cell_type": "markdown",
   "metadata": {
    "id": "wwUdZq__vafI"
   },
   "source": [
    "**Setting aside a validation set**\n",
    "\n",
    "Let's set apart 1,000 samples in our training data to use as a validation set:"
   ]
  },
  {
   "cell_type": "code",
   "execution_count": 45,
   "metadata": {
    "executionInfo": {
     "elapsed": 4,
     "status": "ok",
     "timestamp": 1646657245562,
     "user": {
      "displayName": "Mis",
      "photoUrl": "https://lh3.googleusercontent.com/a-/AOh14Gi9fkY6IIxT8q7cFLbRp1Q3Rk8HgS6QeojPa0S8=s64",
      "userId": "09305620378386245649"
     },
     "user_tz": -60
    },
    "id": "Fw864iJFvafJ"
   },
   "outputs": [],
   "source": [
    "x_val = x_train[:1000]\n",
    "partial_x_train = x_train[1000:]\n",
    "y_val = y_train[:1000]\n",
    "partial_y_train = y_train[1000:]"
   ]
  },
  {
   "cell_type": "markdown",
   "metadata": {
    "id": "TUpPAFpVvafJ"
   },
   "source": [
    "Now let's train our network for 20 epochs:"
   ]
  },
  {
   "cell_type": "markdown",
   "metadata": {
    "id": "AIrVQ3_AvafJ"
   },
   "source": [
    "**Training the model**"
   ]
  },
  {
   "cell_type": "code",
   "execution_count": 46,
   "metadata": {
    "colab": {
     "base_uri": "https://localhost:8080/"
    },
    "executionInfo": {
     "elapsed": 21510,
     "status": "ok",
     "timestamp": 1646657267068,
     "user": {
      "displayName": "Mis",
      "photoUrl": "https://lh3.googleusercontent.com/a-/AOh14Gi9fkY6IIxT8q7cFLbRp1Q3Rk8HgS6QeojPa0S8=s64",
      "userId": "09305620378386245649"
     },
     "user_tz": -60
    },
    "id": "J3U1A0COvafJ",
    "outputId": "2d919d82-4326-4a70-e7dc-8910e6ec509f"
   },
   "outputs": [
    {
     "name": "stdout",
     "output_type": "stream",
     "text": [
      "Epoch 1/20\n",
      "16/16 [==============================] - 2s 73ms/step - loss: 2.6237 - accuracy: 0.5431 - val_loss: 1.6847 - val_accuracy: 0.6450\n",
      "Epoch 2/20\n",
      "16/16 [==============================] - 1s 60ms/step - loss: 1.3892 - accuracy: 0.7036 - val_loss: 1.2753 - val_accuracy: 0.7140\n",
      "Epoch 3/20\n",
      "16/16 [==============================] - 1s 58ms/step - loss: 1.0420 - accuracy: 0.7724 - val_loss: 1.1230 - val_accuracy: 0.7510\n",
      "Epoch 4/20\n",
      "16/16 [==============================] - 1s 52ms/step - loss: 0.8286 - accuracy: 0.8177 - val_loss: 1.0388 - val_accuracy: 0.7670\n",
      "Epoch 5/20\n",
      "16/16 [==============================] - 1s 48ms/step - loss: 0.6629 - accuracy: 0.8603 - val_loss: 0.9601 - val_accuracy: 0.8060\n",
      "Epoch 6/20\n",
      "16/16 [==============================] - 1s 49ms/step - loss: 0.5274 - accuracy: 0.8906 - val_loss: 0.9199 - val_accuracy: 0.8150\n",
      "Epoch 7/20\n",
      "16/16 [==============================] - 1s 48ms/step - loss: 0.4211 - accuracy: 0.9116 - val_loss: 0.9299 - val_accuracy: 0.8090\n",
      "Epoch 8/20\n",
      "16/16 [==============================] - 1s 48ms/step - loss: 0.3422 - accuracy: 0.9285 - val_loss: 0.9019 - val_accuracy: 0.8150\n",
      "Epoch 9/20\n",
      "16/16 [==============================] - 1s 48ms/step - loss: 0.2838 - accuracy: 0.9376 - val_loss: 0.8853 - val_accuracy: 0.8180\n",
      "Epoch 10/20\n",
      "16/16 [==============================] - 1s 49ms/step - loss: 0.2387 - accuracy: 0.9446 - val_loss: 0.8939 - val_accuracy: 0.8150\n",
      "Epoch 11/20\n",
      "16/16 [==============================] - 1s 50ms/step - loss: 0.2036 - accuracy: 0.9484 - val_loss: 0.9813 - val_accuracy: 0.7950\n",
      "Epoch 12/20\n",
      "16/16 [==============================] - 1s 49ms/step - loss: 0.1785 - accuracy: 0.9524 - val_loss: 0.9392 - val_accuracy: 0.8110\n",
      "Epoch 13/20\n",
      "16/16 [==============================] - 1s 48ms/step - loss: 0.1644 - accuracy: 0.9525 - val_loss: 0.9414 - val_accuracy: 0.8100\n",
      "Epoch 14/20\n",
      "16/16 [==============================] - 1s 48ms/step - loss: 0.1492 - accuracy: 0.9541 - val_loss: 0.9730 - val_accuracy: 0.8090\n",
      "Epoch 15/20\n",
      "16/16 [==============================] - 1s 48ms/step - loss: 0.1376 - accuracy: 0.9538 - val_loss: 1.0293 - val_accuracy: 0.7950\n",
      "Epoch 16/20\n",
      "16/16 [==============================] - 1s 49ms/step - loss: 0.1288 - accuracy: 0.9563 - val_loss: 1.0206 - val_accuracy: 0.8110\n",
      "Epoch 17/20\n",
      "16/16 [==============================] - 1s 47ms/step - loss: 0.1257 - accuracy: 0.9555 - val_loss: 1.0374 - val_accuracy: 0.8010\n",
      "Epoch 18/20\n",
      "16/16 [==============================] - 1s 48ms/step - loss: 0.1183 - accuracy: 0.9545 - val_loss: 1.0316 - val_accuracy: 0.8080\n",
      "Epoch 19/20\n",
      "16/16 [==============================] - 1s 49ms/step - loss: 0.1130 - accuracy: 0.9588 - val_loss: 1.0742 - val_accuracy: 0.8030\n",
      "Epoch 20/20\n",
      "16/16 [==============================] - 1s 48ms/step - loss: 0.1097 - accuracy: 0.9575 - val_loss: 1.0592 - val_accuracy: 0.8080\n"
     ]
    }
   ],
   "source": [
    "history = model.fit(partial_x_train,\n",
    "                    partial_y_train,\n",
    "                    epochs=20,\n",
    "                    batch_size=512,\n",
    "                    validation_data=(x_val, y_val))"
   ]
  },
  {
   "cell_type": "markdown",
   "metadata": {
    "id": "DRB8Jx7CvafJ"
   },
   "source": [
    "Let's display its loss and accuracy curves:"
   ]
  },
  {
   "cell_type": "markdown",
   "metadata": {
    "id": "JniTemilvafJ"
   },
   "source": [
    "**Plotting the training and validation loss**"
   ]
  },
  {
   "cell_type": "code",
   "execution_count": 47,
   "metadata": {
    "colab": {
     "base_uri": "https://localhost:8080/",
     "height": 295
    },
    "executionInfo": {
     "elapsed": 5,
     "status": "ok",
     "timestamp": 1646657267070,
     "user": {
      "displayName": "Mis",
      "photoUrl": "https://lh3.googleusercontent.com/a-/AOh14Gi9fkY6IIxT8q7cFLbRp1Q3Rk8HgS6QeojPa0S8=s64",
      "userId": "09305620378386245649"
     },
     "user_tz": -60
    },
    "id": "AoH_9PX5vafK",
    "outputId": "ac6e155c-627f-47d9-f32f-d3cb990487f1"
   },
   "outputs": [
    {
     "data": {
      "image/png": "[encoded data removed]",
      "text/plain": [
       "<Figure size 432x288 with 1 Axes>"
      ]
     },
     "metadata": {
      "needs_background": "light"
     },
     "output_type": "display_data"
    }
   ],
   "source": [
    "loss = history.history[\"loss\"]\n",
    "val_loss = history.history[\"val_loss\"]\n",
    "val_loss_original = val_loss\n",
    "epochs = range(1, len(loss) + 1)\n",
    "plt.plot(epochs, loss, \"bo\", label=\"Training loss\")\n",
    "plt.plot(epochs, val_loss, \"b\", label=\"Validation loss\")\n",
    "plt.title(\"Training and validation loss\")\n",
    "plt.xlabel(\"Epochs\")\n",
    "plt.ylabel(\"Loss\")\n",
    "plt.legend()\n",
    "plt.show()"
   ]
  },
  {
   "cell_type": "markdown",
   "metadata": {
    "id": "iyNrGKNPvafK"
   },
   "source": [
    "**Plotting the training and validation accuracy**"
   ]
  },
  {
   "cell_type": "code",
   "execution_count": 48,
   "metadata": {
    "colab": {
     "base_uri": "https://localhost:8080/",
     "height": 295
    },
    "executionInfo": {
     "elapsed": 5,
     "status": "ok",
     "timestamp": 1646657267516,
     "user": {
      "displayName": "Mis",
      "photoUrl": "https://lh3.googleusercontent.com/a-/AOh14Gi9fkY6IIxT8q7cFLbRp1Q3Rk8HgS6QeojPa0S8=s64",
      "userId": "09305620378386245649"
     },
     "user_tz": -60
    },
    "id": "fXQMH2gLvafK",
    "outputId": "6a67c399-2906-4f64-bc69-318bf777d1bd"
   },
   "outputs": [
    {
     "data": {
      "image/png": "[encoded data removed]",
      "text/plain": [
       "<Figure size 432x288 with 1 Axes>"
      ]
     },
     "metadata": {
      "needs_background": "light"
     },
     "output_type": "display_data"
    }
   ],
   "source": [
    "plt.clf()\n",
    "acc = history.history[\"accuracy\"]\n",
    "val_acc = history.history[\"val_accuracy\"]\n",
    "val_acc_original = val_acc\n",
    "plt.plot(epochs, acc, \"bo\", label=\"Training accuracy\")\n",
    "plt.plot(epochs, val_acc, \"b\", label=\"Validation accuracy\")\n",
    "plt.title(\"Training and validation accuracy\")\n",
    "plt.xlabel(\"Epochs\")\n",
    "plt.ylabel(\"Accuracy\")\n",
    "plt.legend()\n",
    "plt.show()"
   ]
  },
  {
   "cell_type": "markdown",
   "metadata": {
    "id": "94BYiiLlvafK"
   },
   "source": [
    "It seems that the network starts overfitting after 9 epochs (can be different each run). Let's train a new network from scratch for 8 epochs, then let's evaluate it on \n",
    "the test set:"
   ]
  },
  {
   "cell_type": "markdown",
   "metadata": {
    "id": "suCzIu-7vafK"
   },
   "source": [
    "**Retraining a model from scratch**"
   ]
  },
  {
   "cell_type": "code",
   "execution_count": 49,
   "metadata": {
    "colab": {
     "base_uri": "https://localhost:8080/"
    },
    "executionInfo": {
     "elapsed": 11440,
     "status": "ok",
     "timestamp": 1646657278952,
     "user": {
      "displayName": "Mis",
      "photoUrl": "https://lh3.googleusercontent.com/a-/AOh14Gi9fkY6IIxT8q7cFLbRp1Q3Rk8HgS6QeojPa0S8=s64",
      "userId": "09305620378386245649"
     },
     "user_tz": -60
    },
    "id": "KYDyx_nuvafL",
    "outputId": "d31c9281-2937-4c5d-d48d-c0c6712974a5"
   },
   "outputs": [
    {
     "name": "stdout",
     "output_type": "stream",
     "text": [
      "Epoch 1/8\n",
      "18/18 [==============================] - 1s 45ms/step - loss: 2.5718 - accuracy: 0.5063\n",
      "Epoch 2/8\n",
      "18/18 [==============================] - 1s 45ms/step - loss: 1.3802 - accuracy: 0.7160\n",
      "Epoch 3/8\n",
      "18/18 [==============================] - 1s 44ms/step - loss: 1.0221 - accuracy: 0.7836\n",
      "Epoch 4/8\n",
      "18/18 [==============================] - 1s 45ms/step - loss: 0.7933 - accuracy: 0.8327\n",
      "Epoch 5/8\n",
      "18/18 [==============================] - 1s 45ms/step - loss: 0.6321 - accuracy: 0.8668\n",
      "Epoch 6/8\n",
      "18/18 [==============================] - 1s 46ms/step - loss: 0.5018 - accuracy: 0.8966\n",
      "Epoch 7/8\n",
      "18/18 [==============================] - 1s 43ms/step - loss: 0.4014 - accuracy: 0.9166\n",
      "Epoch 8/8\n",
      "18/18 [==============================] - 1s 44ms/step - loss: 0.3305 - accuracy: 0.9300\n",
      "71/71 [==============================] - 0s 4ms/step - loss: 0.9368 - accuracy: 0.7898\n"
     ]
    }
   ],
   "source": [
    "model = keras.Sequential([\n",
    "  layers.Dense(64, activation=\"relu\"),\n",
    "  layers.Dense(64, activation=\"relu\"),\n",
    "  layers.Dense(46, activation=\"softmax\")\n",
    "])\n",
    "model.compile(optimizer=\"rmsprop\",\n",
    "              loss=\"categorical_crossentropy\",\n",
    "              metrics=[\"accuracy\"])\n",
    "model.fit(x_train,\n",
    "          y_train,\n",
    "          epochs=8,\n",
    "          batch_size=512)\n",
    "results = model.evaluate(x_test, y_test)"
   ]
  },
  {
   "cell_type": "code",
   "execution_count": 50,
   "metadata": {
    "colab": {
     "base_uri": "https://localhost:8080/"
    },
    "executionInfo": {
     "elapsed": 12,
     "status": "ok",
     "timestamp": 1646657278953,
     "user": {
      "displayName": "Mis",
      "photoUrl": "https://lh3.googleusercontent.com/a-/AOh14Gi9fkY6IIxT8q7cFLbRp1Q3Rk8HgS6QeojPa0S8=s64",
      "userId": "09305620378386245649"
     },
     "user_tz": -60
    },
    "id": "0Zc0EmofvafL",
    "outputId": "1b1adf5b-89f9-4bfe-dfff-b7367a1eb243"
   },
   "outputs": [
    {
     "data": {
      "text/plain": [
       "[0.9367864727973938, 0.7898486256599426]"
      ]
     },
     "execution_count": 50,
     "metadata": {},
     "output_type": "execute_result"
    }
   ],
   "source": [
    "results"
   ]
  },
  {
   "cell_type": "markdown",
   "metadata": {
    "id": "j7sOJosrvafL"
   },
   "source": [
    "This approach reaches an accuracy of ~80%. With a balanced binary classification\n",
    "problem, the accuracy reached by a purely random classifier would be 50%. But in\n",
    "this case, we have 46 classes, and they may not be equally represented. What would be\n",
    "the accuracy of a random baseline? We could try quickly implementing one to check\n",
    "this empirically:"
   ]
  },
  {
   "cell_type": "code",
   "execution_count": 51,
   "metadata": {
    "colab": {
     "base_uri": "https://localhost:8080/"
    },
    "executionInfo": {
     "elapsed": 8,
     "status": "ok",
     "timestamp": 1646657278953,
     "user": {
      "displayName": "Mis",
      "photoUrl": "https://lh3.googleusercontent.com/a-/AOh14Gi9fkY6IIxT8q7cFLbRp1Q3Rk8HgS6QeojPa0S8=s64",
      "userId": "09305620378386245649"
     },
     "user_tz": -60
    },
    "id": "NNP7Aje0vafL",
    "outputId": "16c03aeb-bd89-47d2-c591-8ca4d09247d1"
   },
   "outputs": [
    {
     "data": {
      "text/plain": [
       "0.18655387355298308"
      ]
     },
     "execution_count": 51,
     "metadata": {},
     "output_type": "execute_result"
    }
   ],
   "source": [
    "import copy\n",
    "test_labels_copy = copy.copy(test_labels)\n",
    "np.random.shuffle(test_labels_copy)\n",
    "hits_array = np.array(test_labels) == np.array(test_labels_copy)\n",
    "hits_array.mean()"
   ]
  },
  {
   "cell_type": "markdown",
   "metadata": {
    "id": "YoM2Yj0rvafL"
   },
   "source": [
    "### Generating predictions on new data\n",
    "\n",
    "We can verify that the `predict` method of our model instance returns a probability distribution over all 46 topics. Let's generate topic \n",
    "predictions for all of the test data:"
   ]
  },
  {
   "cell_type": "code",
   "execution_count": 52,
   "metadata": {
    "executionInfo": {
     "elapsed": 420,
     "status": "ok",
     "timestamp": 1646657279368,
     "user": {
      "displayName": "Mis",
      "photoUrl": "https://lh3.googleusercontent.com/a-/AOh14Gi9fkY6IIxT8q7cFLbRp1Q3Rk8HgS6QeojPa0S8=s64",
      "userId": "09305620378386245649"
     },
     "user_tz": -60
    },
    "id": "fWXXOZDbvafL"
   },
   "outputs": [],
   "source": [
    "predictions = model.predict(x_test)"
   ]
  },
  {
   "cell_type": "markdown",
   "metadata": {
    "id": "GDKnOKnfvafL"
   },
   "source": [
    "Each entry in `predictions` is a vector of length 46:"
   ]
  },
  {
   "cell_type": "code",
   "execution_count": 53,
   "metadata": {
    "colab": {
     "base_uri": "https://localhost:8080/"
    },
    "executionInfo": {
     "elapsed": 12,
     "status": "ok",
     "timestamp": 1646657279368,
     "user": {
      "displayName": "Mis",
      "photoUrl": "https://lh3.googleusercontent.com/a-/AOh14Gi9fkY6IIxT8q7cFLbRp1Q3Rk8HgS6QeojPa0S8=s64",
      "userId": "09305620378386245649"
     },
     "user_tz": -60
    },
    "id": "yJH9_qG_vafM",
    "outputId": "0a1fc0e0-36d9-4597-c71d-621951863ef9"
   },
   "outputs": [
    {
     "data": {
      "text/plain": [
       "(46,)"
      ]
     },
     "execution_count": 53,
     "metadata": {},
     "output_type": "execute_result"
    }
   ],
   "source": [
    "predictions[0].shape"
   ]
  },
  {
   "cell_type": "markdown",
   "metadata": {
    "id": "XC_8n2sovafM"
   },
   "source": [
    "The coefficients in this vector sum to 1:"
   ]
  },
  {
   "cell_type": "code",
   "execution_count": 54,
   "metadata": {
    "colab": {
     "base_uri": "https://localhost:8080/"
    },
    "executionInfo": {
     "elapsed": 10,
     "status": "ok",
     "timestamp": 1646657279369,
     "user": {
      "displayName": "Mis",
      "photoUrl": "https://lh3.googleusercontent.com/a-/AOh14Gi9fkY6IIxT8q7cFLbRp1Q3Rk8HgS6QeojPa0S8=s64",
      "userId": "09305620378386245649"
     },
     "user_tz": -60
    },
    "id": "9FVeCazyvafN",
    "outputId": "56b4d427-c2c4-4cf3-9e1a-8b189cb6aaea"
   },
   "outputs": [
    {
     "data": {
      "text/plain": [
       "1.0000001"
      ]
     },
     "execution_count": 54,
     "metadata": {},
     "output_type": "execute_result"
    }
   ],
   "source": [
    "np.sum(predictions[0])"
   ]
  },
  {
   "cell_type": "markdown",
   "metadata": {
    "id": "AKjJZIgVvafN"
   },
   "source": [
    "The largest entry is the predicted class, i.e. the class with the highest probability:"
   ]
  },
  {
   "cell_type": "code",
   "execution_count": 55,
   "metadata": {
    "colab": {
     "base_uri": "https://localhost:8080/"
    },
    "executionInfo": {
     "elapsed": 7,
     "status": "ok",
     "timestamp": 1646657279369,
     "user": {
      "displayName": "Mis",
      "photoUrl": "https://lh3.googleusercontent.com/a-/AOh14Gi9fkY6IIxT8q7cFLbRp1Q3Rk8HgS6QeojPa0S8=s64",
      "userId": "09305620378386245649"
     },
     "user_tz": -60
    },
    "id": "g7aUbSzevafN",
    "outputId": "000209aa-0a79-4034-8450-b635098cbe3d"
   },
   "outputs": [
    {
     "data": {
      "text/plain": [
       "4"
      ]
     },
     "execution_count": 55,
     "metadata": {},
     "output_type": "execute_result"
    }
   ],
   "source": [
    "np.argmax(predictions[0])"
   ]
  },
  {
   "cell_type": "markdown",
   "metadata": {
    "id": "B-_ydP2BvafO"
   },
   "source": [
    "### A different way to handle the labels and the loss\n",
    "\n",
    "We mentioned earlier that another way to encode the labels would be to cast them as an integer tensor, like such:"
   ]
  },
  {
   "cell_type": "code",
   "execution_count": 56,
   "metadata": {
    "executionInfo": {
     "elapsed": 6,
     "status": "ok",
     "timestamp": 1646657279370,
     "user": {
      "displayName": "Mis",
      "photoUrl": "https://lh3.googleusercontent.com/a-/AOh14Gi9fkY6IIxT8q7cFLbRp1Q3Rk8HgS6QeojPa0S8=s64",
      "userId": "09305620378386245649"
     },
     "user_tz": -60
    },
    "id": "JteAt2ekvafO"
   },
   "outputs": [],
   "source": [
    "y_train_other_method = np.array(train_labels)\n",
    "y_test_other_method = np.array(test_labels)"
   ]
  },
  {
   "cell_type": "markdown",
   "metadata": {
    "id": "yoEqvd3BvafO"
   },
   "source": [
    "\n",
    "The only thing it would change is the choice of the loss function. Our previous loss, `categorical_crossentropy`, expects the labels to \n",
    "follow a categorical encoding. With integer labels, we should use `sparse_categorical_crossentropy`:"
   ]
  },
  {
   "cell_type": "code",
   "execution_count": 57,
   "metadata": {
    "executionInfo": {
     "elapsed": 5,
     "status": "ok",
     "timestamp": 1646657279370,
     "user": {
      "displayName": "Mis",
      "photoUrl": "https://lh3.googleusercontent.com/a-/AOh14Gi9fkY6IIxT8q7cFLbRp1Q3Rk8HgS6QeojPa0S8=s64",
      "userId": "09305620378386245649"
     },
     "user_tz": -60
    },
    "id": "LTWn2hoRvafO"
   },
   "outputs": [],
   "source": [
    "model.compile(optimizer=\"rmsprop\",\n",
    "              loss=\"sparse_categorical_crossentropy\",\n",
    "              metrics=[\"accuracy\"])"
   ]
  },
  {
   "cell_type": "markdown",
   "metadata": {
    "id": "O3KYFRQZvafO"
   },
   "source": [
    "This new loss function is still mathematically the same as `categorical_crossentropy`; it just has a different interface."
   ]
  },
  {
   "cell_type": "markdown",
   "metadata": {
    "id": "PNoIjWTbvafP"
   },
   "source": [
    "### The importance of having sufficiently large intermediate layers\n",
    "We mentioned earlier that since our final outputs were 46-dimensional, we should avoid intermediate layers with much less than 46 hidden \n",
    "units. Now let's try to see what happens when we introduce an information bottleneck by having intermediate layers significantly less than \n",
    "46-dimensional, e.g. 4-dimensional."
   ]
  },
  {
   "cell_type": "markdown",
   "metadata": {
    "id": "JvksOnhNvafP"
   },
   "source": [
    "**A model with an information bottleneck**"
   ]
  },
  {
   "cell_type": "code",
   "execution_count": 58,
   "metadata": {
    "colab": {
     "base_uri": "https://localhost:8080/"
    },
    "executionInfo": {
     "elapsed": 41835,
     "status": "ok",
     "timestamp": 1646657321200,
     "user": {
      "displayName": "Mis",
      "photoUrl": "https://lh3.googleusercontent.com/a-/AOh14Gi9fkY6IIxT8q7cFLbRp1Q3Rk8HgS6QeojPa0S8=s64",
      "userId": "09305620378386245649"
     },
     "user_tz": -60
    },
    "id": "mOq3DMBfvafP",
    "outputId": "0d501107-c68b-4427-d170-28ac0b76684e"
   },
   "outputs": [
    {
     "name": "stdout",
     "output_type": "stream",
     "text": [
      "Epoch 1/20\n",
      "63/63 [==============================] - 2s 21ms/step - loss: 2.6529 - accuracy: 0.3816 - val_loss: 1.9607 - val_accuracy: 0.5470\n",
      "Epoch 2/20\n",
      "63/63 [==============================] - 1s 19ms/step - loss: 1.7280 - accuracy: 0.5892 - val_loss: 1.6056 - val_accuracy: 0.5960\n",
      "Epoch 3/20\n",
      "63/63 [==============================] - 1s 19ms/step - loss: 1.4459 - accuracy: 0.6155 - val_loss: 1.4854 - val_accuracy: 0.6180\n",
      "Epoch 4/20\n",
      "63/63 [==============================] - 1s 18ms/step - loss: 1.2880 - accuracy: 0.6501 - val_loss: 1.4510 - val_accuracy: 0.6410\n",
      "Epoch 5/20\n",
      "63/63 [==============================] - 1s 19ms/step - loss: 1.1747 - accuracy: 0.6789 - val_loss: 1.4109 - val_accuracy: 0.6570\n",
      "Epoch 6/20\n",
      "63/63 [==============================] - 1s 18ms/step - loss: 1.0850 - accuracy: 0.7219 - val_loss: 1.4041 - val_accuracy: 0.6690\n",
      "Epoch 7/20\n",
      "63/63 [==============================] - 1s 19ms/step - loss: 1.0066 - accuracy: 0.7439 - val_loss: 1.4423 - val_accuracy: 0.6700\n",
      "Epoch 8/20\n",
      "63/63 [==============================] - 1s 19ms/step - loss: 0.9361 - accuracy: 0.7613 - val_loss: 1.4295 - val_accuracy: 0.6840\n",
      "Epoch 9/20\n",
      "63/63 [==============================] - 1s 19ms/step - loss: 0.8723 - accuracy: 0.7704 - val_loss: 1.4707 - val_accuracy: 0.6790\n",
      "Epoch 10/20\n",
      "63/63 [==============================] - 1s 19ms/step - loss: 0.8109 - accuracy: 0.7915 - val_loss: 1.4546 - val_accuracy: 0.7010\n",
      "Epoch 11/20\n",
      "63/63 [==============================] - 1s 19ms/step - loss: 0.7576 - accuracy: 0.8057 - val_loss: 1.5116 - val_accuracy: 0.6970\n",
      "Epoch 12/20\n",
      "63/63 [==============================] - 1s 19ms/step - loss: 0.7057 - accuracy: 0.8161 - val_loss: 1.5471 - val_accuracy: 0.6990\n",
      "Epoch 13/20\n",
      "63/63 [==============================] - 1s 18ms/step - loss: 0.6606 - accuracy: 0.8226 - val_loss: 1.6017 - val_accuracy: 0.7100\n",
      "Epoch 14/20\n",
      "63/63 [==============================] - 1s 18ms/step - loss: 0.6231 - accuracy: 0.8300 - val_loss: 1.6240 - val_accuracy: 0.7060\n",
      "Epoch 15/20\n",
      "63/63 [==============================] - 1s 19ms/step - loss: 0.5924 - accuracy: 0.8365 - val_loss: 1.7031 - val_accuracy: 0.6970\n",
      "Epoch 16/20\n",
      "63/63 [==============================] - 1s 19ms/step - loss: 0.5636 - accuracy: 0.8441 - val_loss: 1.7189 - val_accuracy: 0.7010\n",
      "Epoch 17/20\n",
      "63/63 [==============================] - 1s 19ms/step - loss: 0.5389 - accuracy: 0.8507 - val_loss: 1.7738 - val_accuracy: 0.7000\n",
      "Epoch 18/20\n",
      "63/63 [==============================] - 1s 19ms/step - loss: 0.5172 - accuracy: 0.8537 - val_loss: 1.8418 - val_accuracy: 0.6940\n",
      "Epoch 19/20\n",
      "63/63 [==============================] - 1s 19ms/step - loss: 0.4996 - accuracy: 0.8583 - val_loss: 1.9135 - val_accuracy: 0.6890\n",
      "Epoch 20/20\n",
      "63/63 [==============================] - 1s 19ms/step - loss: 0.4824 - accuracy: 0.8596 - val_loss: 1.9539 - val_accuracy: 0.6880\n"
     ]
    }
   ],
   "source": [
    "model = keras.Sequential([\n",
    "    layers.Dense(64, activation=\"relu\"),\n",
    "    layers.Dense(4, activation=\"relu\"),\n",
    "    layers.Dense(46, activation=\"softmax\")\n",
    "])\n",
    "model.compile(optimizer=\"rmsprop\",\n",
    "              loss=\"categorical_crossentropy\",\n",
    "              metrics=[\"accuracy\"])\n",
    "history = model.fit(partial_x_train,\n",
    "          partial_y_train,\n",
    "          epochs=20,\n",
    "          batch_size=128,\n",
    "          validation_data=(x_val, y_val))"
   ]
  },
  {
   "cell_type": "code",
   "execution_count": 59,
   "metadata": {
    "colab": {
     "base_uri": "https://localhost:8080/",
     "height": 295
    },
    "executionInfo": {
     "elapsed": 413,
     "status": "ok",
     "timestamp": 1646657321609,
     "user": {
      "displayName": "Mis",
      "photoUrl": "https://lh3.googleusercontent.com/a-/AOh14Gi9fkY6IIxT8q7cFLbRp1Q3Rk8HgS6QeojPa0S8=s64",
      "userId": "09305620378386245649"
     },
     "user_tz": -60
    },
    "id": "DmB7tHbkIA5_",
    "outputId": "106bad40-df5f-4e04-a75e-80dad3f1e2ef"
   },
   "outputs": [
    {
     "data": {
      "image/png": "[encoded data removed]",
      "text/plain": [
       "<Figure size 432x288 with 1 Axes>"
      ]
     },
     "metadata": {
      "needs_background": "light"
     },
     "output_type": "display_data"
    }
   ],
   "source": [
    "loss = history.history[\"loss\"]\n",
    "val_loss = history.history[\"val_loss\"]\n",
    "epochs = range(1, len(loss) + 1)\n",
    "plt.plot(epochs, loss, \"bo\", label=\"Training loss\")\n",
    "plt.plot(epochs, val_loss, \"b\", label=\"Validation loss\")\n",
    "plt.title(\"Training and validation loss\")\n",
    "plt.xlabel(\"Epochs\")\n",
    "plt.ylabel(\"Loss\")\n",
    "plt.legend()\n",
    "plt.show()"
   ]
  },
  {
   "cell_type": "code",
   "execution_count": 60,
   "metadata": {
    "colab": {
     "base_uri": "https://localhost:8080/",
     "height": 295
    },
    "executionInfo": {
     "elapsed": 7,
     "status": "ok",
     "timestamp": 1646657321609,
     "user": {
      "displayName": "Mis",
      "photoUrl": "https://lh3.googleusercontent.com/a-/AOh14Gi9fkY6IIxT8q7cFLbRp1Q3Rk8HgS6QeojPa0S8=s64",
      "userId": "09305620378386245649"
     },
     "user_tz": -60
    },
    "id": "HFQEcUP7JVFa",
    "outputId": "b96ff4bd-7f4f-4c62-bde5-3a121e826dc3"
   },
   "outputs": [
    {
     "data": {
      "image/png": "[encoded data removed]",
      "text/plain": [
       "<Figure size 432x288 with 1 Axes>"
      ]
     },
     "metadata": {
      "needs_background": "light"
     },
     "output_type": "display_data"
    }
   ],
   "source": [
    "plt.clf()\n",
    "acc = history.history[\"accuracy\"]\n",
    "val_acc = history.history[\"val_accuracy\"]\n",
    "plt.plot(epochs, acc, \"bo\", label=\"Training accuracy\")\n",
    "plt.plot(epochs, val_acc, \"b\", label=\"Validation accuracy\")\n",
    "plt.title(\"Training and validation accuracy\")\n",
    "plt.xlabel(\"Epochs\")\n",
    "plt.ylabel(\"Accuracy\")\n",
    "plt.legend()\n",
    "plt.show()"
   ]
  },
  {
   "cell_type": "markdown",
   "metadata": {
    "id": "pWeVPErlvafP"
   },
   "source": [
    "\n",
    "Our network now seems to peak at ~71% test accuracy, a 8% absolute drop<font color='violet'>, after 8 epochs.</font> This drop is mostly due to the fact that we are now trying to \n",
    "compress a lot of information (enough information to recover the separation hyperplanes of 46 classes) into an intermediate space that is \n",
    "too low-dimensional. The network is able to cram _most_ of the necessary information into these 8-dimensional representations, but not all \n",
    "of it. <font color='violet'> We now retrain the model from stratch for 8 epochs.</font>"
   ]
  },
  {
   "cell_type": "code",
   "execution_count": 61,
   "metadata": {
    "colab": {
     "base_uri": "https://localhost:8080/"
    },
    "executionInfo": {
     "elapsed": 43120,
     "status": "ok",
     "timestamp": 1646657364724,
     "user": {
      "displayName": "Mis",
      "photoUrl": "https://lh3.googleusercontent.com/a-/AOh14Gi9fkY6IIxT8q7cFLbRp1Q3Rk8HgS6QeojPa0S8=s64",
      "userId": "09305620378386245649"
     },
     "user_tz": -60
    },
    "id": "s0X705aDFNLD",
    "outputId": "8a1caa43-87e0-4ca8-f4d4-35acb46bf579"
   },
   "outputs": [
    {
     "name": "stdout",
     "output_type": "stream",
     "text": [
      "\n",
      " iteration 1\n",
      "\n",
      "Epoch 1/8\n",
      "18/18 [==============================] - 1s 46ms/step - loss: 3.3907 - accuracy: 0.2006\n",
      "Epoch 2/8\n",
      "18/18 [==============================] - 1s 44ms/step - loss: 2.7450 - accuracy: 0.2525\n",
      "Epoch 3/8\n",
      "18/18 [==============================] - 1s 44ms/step - loss: 2.2739 - accuracy: 0.4066\n",
      "Epoch 4/8\n",
      "18/18 [==============================] - 1s 45ms/step - loss: 1.8803 - accuracy: 0.6146\n",
      "Epoch 5/8\n",
      "18/18 [==============================] - 1s 44ms/step - loss: 1.6036 - accuracy: 0.6444\n",
      "Epoch 6/8\n",
      "18/18 [==============================] - 1s 45ms/step - loss: 1.4308 - accuracy: 0.6554\n",
      "Epoch 7/8\n",
      "18/18 [==============================] - 1s 44ms/step - loss: 1.3095 - accuracy: 0.6638\n",
      "Epoch 8/8\n",
      "18/18 [==============================] - 1s 44ms/step - loss: 1.2101 - accuracy: 0.6916\n",
      "71/71 [==============================] - 0s 3ms/step - loss: 1.4962 - accuracy: 0.6541\n",
      "\n",
      " iteration 2\n",
      "\n",
      "Epoch 1/8\n",
      "18/18 [==============================] - 1s 46ms/step - loss: 3.1917 - accuracy: 0.3181\n",
      "Epoch 2/8\n",
      "18/18 [==============================] - 1s 45ms/step - loss: 2.4723 - accuracy: 0.3770\n",
      "Epoch 3/8\n",
      "18/18 [==============================] - 1s 46ms/step - loss: 2.1205 - accuracy: 0.3899\n",
      "Epoch 4/8\n",
      "18/18 [==============================] - 1s 45ms/step - loss: 1.8670 - accuracy: 0.4274\n",
      "Epoch 5/8\n",
      "18/18 [==============================] - 1s 45ms/step - loss: 1.6258 - accuracy: 0.5757\n",
      "Epoch 6/8\n",
      "18/18 [==============================] - 1s 44ms/step - loss: 1.3971 - accuracy: 0.6708\n",
      "Epoch 7/8\n",
      "18/18 [==============================] - 1s 45ms/step - loss: 1.2229 - accuracy: 0.6933\n",
      "Epoch 8/8\n",
      "18/18 [==============================] - 1s 45ms/step - loss: 1.1046 - accuracy: 0.7228\n",
      "71/71 [==============================] - 0s 3ms/step - loss: 1.4129 - accuracy: 0.6785\n",
      "\n",
      " iteration 3\n",
      "\n",
      "Epoch 1/8\n",
      "18/18 [==============================] - 1s 46ms/step - loss: 3.1185 - accuracy: 0.4225\n",
      "Epoch 2/8\n",
      "18/18 [==============================] - 1s 46ms/step - loss: 2.3274 - accuracy: 0.5404\n",
      "Epoch 3/8\n",
      "18/18 [==============================] - 1s 45ms/step - loss: 1.8825 - accuracy: 0.5491\n",
      "Epoch 4/8\n",
      "18/18 [==============================] - 1s 46ms/step - loss: 1.6320 - accuracy: 0.5676\n",
      "Epoch 5/8\n",
      "18/18 [==============================] - 1s 45ms/step - loss: 1.4713 - accuracy: 0.5786\n",
      "Epoch 6/8\n",
      "18/18 [==============================] - 1s 46ms/step - loss: 1.3555 - accuracy: 0.6114\n",
      "Epoch 7/8\n",
      "18/18 [==============================] - 1s 45ms/step - loss: 1.2617 - accuracy: 0.6313\n",
      "Epoch 8/8\n",
      "18/18 [==============================] - 1s 44ms/step - loss: 1.1812 - accuracy: 0.6431\n",
      "71/71 [==============================] - 0s 3ms/step - loss: 1.4407 - accuracy: 0.6238\n",
      "\n",
      " iteration 4\n",
      "\n",
      "Epoch 1/8\n",
      "18/18 [==============================] - 1s 46ms/step - loss: 3.3081 - accuracy: 0.3879\n",
      "Epoch 2/8\n",
      "18/18 [==============================] - 1s 47ms/step - loss: 2.5446 - accuracy: 0.5994\n",
      "Epoch 3/8\n",
      "18/18 [==============================] - 1s 46ms/step - loss: 2.0022 - accuracy: 0.6725\n",
      "Epoch 4/8\n",
      "18/18 [==============================] - 1s 46ms/step - loss: 1.6431 - accuracy: 0.6969\n",
      "Epoch 5/8\n",
      "18/18 [==============================] - 1s 46ms/step - loss: 1.4286 - accuracy: 0.7104\n",
      "Epoch 6/8\n",
      "18/18 [==============================] - 1s 46ms/step - loss: 1.2935 - accuracy: 0.7173\n",
      "Epoch 7/8\n",
      "18/18 [==============================] - 1s 46ms/step - loss: 1.1960 - accuracy: 0.7255\n",
      "Epoch 8/8\n",
      "18/18 [==============================] - 1s 46ms/step - loss: 1.1174 - accuracy: 0.7311\n",
      "71/71 [==============================] - 0s 3ms/step - loss: 1.4793 - accuracy: 0.6839\n",
      "\n",
      " iteration 5\n",
      "\n",
      "Epoch 1/8\n",
      "18/18 [==============================] - 1s 47ms/step - loss: 3.5624 - accuracy: 0.1284\n",
      "Epoch 2/8\n",
      "18/18 [==============================] - 1s 46ms/step - loss: 3.0383 - accuracy: 0.3909\n",
      "Epoch 3/8\n",
      "18/18 [==============================] - 1s 46ms/step - loss: 2.5270 - accuracy: 0.4291\n",
      "Epoch 4/8\n",
      "18/18 [==============================] - 1s 46ms/step - loss: 2.1090 - accuracy: 0.4728\n",
      "Epoch 5/8\n",
      "18/18 [==============================] - 1s 46ms/step - loss: 1.8000 - accuracy: 0.5130\n",
      "Epoch 6/8\n",
      "18/18 [==============================] - 1s 47ms/step - loss: 1.5303 - accuracy: 0.5704\n",
      "Epoch 7/8\n",
      "18/18 [==============================] - 1s 46ms/step - loss: 1.2841 - accuracy: 0.7209\n",
      "Epoch 8/8\n",
      "18/18 [==============================] - 1s 46ms/step - loss: 1.1191 - accuracy: 0.7307\n",
      "71/71 [==============================] - 0s 3ms/step - loss: 1.4046 - accuracy: 0.6745\n"
     ]
    }
   ],
   "source": [
    "for i in range(5):\n",
    "  print(f\"\\n iteration {i+1}\\n\")\n",
    "  model = keras.Sequential([\n",
    "    layers.Dense(64, activation=\"relu\"),\n",
    "    layers.Dense(4, activation=\"relu\"),\n",
    "    layers.Dense(46, activation=\"softmax\")\n",
    "  ])\n",
    "  model.compile(optimizer=\"rmsprop\",\n",
    "                loss=\"categorical_crossentropy\",\n",
    "                metrics=[\"accuracy\"])\n",
    "  model.fit(x_train,\n",
    "            y_train,\n",
    "            epochs=8,\n",
    "            batch_size=512)\n",
    "  results = model.evaluate(x_test, y_test)"
   ]
  },
  {
   "cell_type": "markdown",
   "metadata": {
    "id": "0LCe7wJZJu6J"
   },
   "source": [
    "<font color='violet'> We see that the testing accuracy is even lower at 66%. However, when repeatedly evaluating this code block the result is highly variable. Sometimes an accuracy less than 50% is obtained. It is thus very difficult to learn a low dimensional compressed representation of the information required to classify correctly.</font>"
   ]
  },
  {
   "cell_type": "markdown",
   "metadata": {
    "id": "YYetsYE2vafP"
   },
   "source": [
    "## Further experiments\n",
    "\n",
    "Like in the previous example, I encourage you to try out the following experiments to\n",
    "train your intuition about the kind of configuration decisions you have to make with\n",
    "such models:\n",
    "* Try using larger or smaller layers: 32 units, 128 units, and so on.\n",
    "* You used two intermediate layers before the final softmax classification layer.\n",
    "Now try using a single intermediate layer, or three intermediate layers."
   ]
  },
  {
   "cell_type": "markdown",
   "metadata": {
    "id": "CvThPr3dOkiC"
   },
   "source": [
    "<font color='violet'> The following function is used to reduce boilerplate code when experimenting with different hyperparameters of the layers.</font>\n"
   ]
  },
  {
   "cell_type": "code",
   "execution_count": 62,
   "metadata": {
    "executionInfo": {
     "elapsed": 3,
     "status": "ok",
     "timestamp": 1646657364724,
     "user": {
      "displayName": "Mis",
      "photoUrl": "https://lh3.googleusercontent.com/a-/AOh14Gi9fkY6IIxT8q7cFLbRp1Q3Rk8HgS6QeojPa0S8=s64",
      "userId": "09305620378386245649"
     },
     "user_tz": -60
    },
    "id": "UMqf0A9-PRTL"
   },
   "outputs": [],
   "source": [
    "def fit_experiments(layer_size,layer_depth):\n",
    "  model = keras.Sequential([layers.Dense(layer_size, activation=\"relu\") for i in range(layer_depth)] +\n",
    "    [layers.Dense(46, activation=\"softmax\")])\n",
    "  model.compile(optimizer=\"rmsprop\",\n",
    "              loss=\"categorical_crossentropy\",\n",
    "              metrics=[\"accuracy\"])\n",
    "  history = model.fit(partial_x_train,\n",
    "                    partial_y_train,\n",
    "                    epochs=20,\n",
    "                    batch_size=512,\n",
    "                    validation_data=(x_val, y_val))\n",
    "  val_loss = history.history[\"val_loss\"]\n",
    "  val_acc = history.history[\"val_accuracy\"]\n",
    "  return val_loss, val_acc"
   ]
  },
  {
   "cell_type": "markdown",
   "metadata": {
    "id": "0YHxAVAdW4vB"
   },
   "source": [
    "<font color='violet'> \n",
    "We start by changing the number of units of each hidden layer, keeping the amount of hidden layers fixed to the initial number.\n",
    "</font>"
   ]
  },
  {
   "cell_type": "code",
   "execution_count": 63,
   "metadata": {
    "colab": {
     "base_uri": "https://localhost:8080/"
    },
    "executionInfo": {
     "elapsed": 62956,
     "status": "ok",
     "timestamp": 1646657427677,
     "user": {
      "displayName": "Mis",
      "photoUrl": "https://lh3.googleusercontent.com/a-/AOh14Gi9fkY6IIxT8q7cFLbRp1Q3Rk8HgS6QeojPa0S8=s64",
      "userId": "09305620378386245649"
     },
     "user_tz": -60
    },
    "id": "XjAs8J-QOgiR",
    "outputId": "5f4e58d4-e154-47d7-f182-8e0f8e2e38ad"
   },
   "outputs": [
    {
     "name": "stdout",
     "output_type": "stream",
     "text": [
      "Epoch 1/20\n",
      "16/16 [==============================] - 1s 51ms/step - loss: 3.1685 - accuracy: 0.4043 - val_loss: 2.4689 - val_accuracy: 0.5690\n",
      "Epoch 2/20\n",
      "16/16 [==============================] - 1s 37ms/step - loss: 2.0992 - accuracy: 0.6328 - val_loss: 1.8110 - val_accuracy: 0.6550\n",
      "Epoch 3/20\n",
      "16/16 [==============================] - 1s 38ms/step - loss: 1.5693 - accuracy: 0.6998 - val_loss: 1.4790 - val_accuracy: 0.6930\n",
      "Epoch 4/20\n",
      "16/16 [==============================] - 1s 38ms/step - loss: 1.2664 - accuracy: 0.7298 - val_loss: 1.3036 - val_accuracy: 0.7190\n",
      "Epoch 5/20\n",
      "16/16 [==============================] - 1s 37ms/step - loss: 1.0763 - accuracy: 0.7636 - val_loss: 1.2021 - val_accuracy: 0.7460\n",
      "Epoch 6/20\n",
      "16/16 [==============================] - 1s 38ms/step - loss: 0.9393 - accuracy: 0.7952 - val_loss: 1.1356 - val_accuracy: 0.7590\n",
      "Epoch 7/20\n",
      "16/16 [==============================] - 1s 37ms/step - loss: 0.8241 - accuracy: 0.8224 - val_loss: 1.0748 - val_accuracy: 0.7690\n",
      "Epoch 8/20\n",
      "16/16 [==============================] - 1s 38ms/step - loss: 0.7225 - accuracy: 0.8469 - val_loss: 1.0382 - val_accuracy: 0.7820\n",
      "Epoch 9/20\n",
      "16/16 [==============================] - 1s 37ms/step - loss: 0.6329 - accuracy: 0.8654 - val_loss: 1.0057 - val_accuracy: 0.7920\n",
      "Epoch 10/20\n",
      "16/16 [==============================] - 1s 37ms/step - loss: 0.5530 - accuracy: 0.8829 - val_loss: 0.9770 - val_accuracy: 0.7980\n",
      "Epoch 11/20\n",
      "16/16 [==============================] - 1s 37ms/step - loss: 0.4852 - accuracy: 0.8984 - val_loss: 0.9676 - val_accuracy: 0.8010\n",
      "Epoch 12/20\n",
      "16/16 [==============================] - 1s 37ms/step - loss: 0.4252 - accuracy: 0.9117 - val_loss: 0.9671 - val_accuracy: 0.8030\n",
      "Epoch 13/20\n",
      "16/16 [==============================] - 1s 38ms/step - loss: 0.3753 - accuracy: 0.9211 - val_loss: 0.9580 - val_accuracy: 0.8060\n",
      "Epoch 14/20\n",
      "16/16 [==============================] - 1s 40ms/step - loss: 0.3295 - accuracy: 0.9291 - val_loss: 0.9607 - val_accuracy: 0.8070\n",
      "Epoch 15/20\n",
      "16/16 [==============================] - 1s 37ms/step - loss: 0.2958 - accuracy: 0.9366 - val_loss: 0.9574 - val_accuracy: 0.8070\n",
      "Epoch 16/20\n",
      "16/16 [==============================] - 1s 38ms/step - loss: 0.2593 - accuracy: 0.9409 - val_loss: 0.9715 - val_accuracy: 0.8110\n",
      "Epoch 17/20\n",
      "16/16 [==============================] - 1s 36ms/step - loss: 0.2349 - accuracy: 0.9455 - val_loss: 0.9696 - val_accuracy: 0.8070\n",
      "Epoch 18/20\n",
      "16/16 [==============================] - 1s 37ms/step - loss: 0.2123 - accuracy: 0.9499 - val_loss: 0.9907 - val_accuracy: 0.8080\n",
      "Epoch 19/20\n",
      "16/16 [==============================] - 1s 36ms/step - loss: 0.1960 - accuracy: 0.9501 - val_loss: 0.9886 - val_accuracy: 0.8090\n",
      "Epoch 20/20\n",
      "16/16 [==============================] - 1s 37ms/step - loss: 0.1791 - accuracy: 0.9521 - val_loss: 1.0141 - val_accuracy: 0.8010\n",
      "Epoch 1/20\n",
      "16/16 [==============================] - 2s 86ms/step - loss: 2.1748 - accuracy: 0.5636 - val_loss: 1.4222 - val_accuracy: 0.6830\n",
      "Epoch 2/20\n",
      "16/16 [==============================] - 1s 75ms/step - loss: 1.1330 - accuracy: 0.7504 - val_loss: 1.1224 - val_accuracy: 0.7670\n",
      "Epoch 3/20\n",
      "16/16 [==============================] - 1s 76ms/step - loss: 0.7924 - accuracy: 0.8297 - val_loss: 1.0130 - val_accuracy: 0.7910\n",
      "Epoch 4/20\n",
      "16/16 [==============================] - 1s 76ms/step - loss: 0.5731 - accuracy: 0.8814 - val_loss: 0.9261 - val_accuracy: 0.8060\n",
      "Epoch 5/20\n",
      "16/16 [==============================] - 1s 76ms/step - loss: 0.4236 - accuracy: 0.9097 - val_loss: 0.9998 - val_accuracy: 0.7810\n",
      "Epoch 6/20\n",
      "16/16 [==============================] - 1s 75ms/step - loss: 0.3123 - accuracy: 0.9320 - val_loss: 0.9047 - val_accuracy: 0.8130\n",
      "Epoch 7/20\n",
      "16/16 [==============================] - 1s 76ms/step - loss: 0.2484 - accuracy: 0.9426 - val_loss: 0.9230 - val_accuracy: 0.8140\n",
      "Epoch 8/20\n",
      "16/16 [==============================] - 1s 76ms/step - loss: 0.2083 - accuracy: 0.9465 - val_loss: 0.9675 - val_accuracy: 0.8080\n",
      "Epoch 9/20\n",
      "16/16 [==============================] - 1s 77ms/step - loss: 0.1819 - accuracy: 0.9511 - val_loss: 0.9701 - val_accuracy: 0.8150\n",
      "Epoch 10/20\n",
      "16/16 [==============================] - 1s 77ms/step - loss: 0.1574 - accuracy: 0.9538 - val_loss: 0.9894 - val_accuracy: 0.8090\n",
      "Epoch 11/20\n",
      "16/16 [==============================] - 1s 76ms/step - loss: 0.1459 - accuracy: 0.9562 - val_loss: 1.0475 - val_accuracy: 0.8040\n",
      "Epoch 12/20\n",
      "16/16 [==============================] - 1s 75ms/step - loss: 0.1342 - accuracy: 0.9569 - val_loss: 1.0598 - val_accuracy: 0.7900\n",
      "Epoch 13/20\n",
      "16/16 [==============================] - 1s 76ms/step - loss: 0.1325 - accuracy: 0.9553 - val_loss: 1.0359 - val_accuracy: 0.8070\n",
      "Epoch 14/20\n",
      "16/16 [==============================] - 1s 76ms/step - loss: 0.1209 - accuracy: 0.9575 - val_loss: 1.0613 - val_accuracy: 0.8050\n",
      "Epoch 15/20\n",
      "16/16 [==============================] - 1s 76ms/step - loss: 0.1236 - accuracy: 0.9567 - val_loss: 1.0090 - val_accuracy: 0.8180\n",
      "Epoch 16/20\n",
      "16/16 [==============================] - 1s 76ms/step - loss: 0.1137 - accuracy: 0.9573 - val_loss: 1.0592 - val_accuracy: 0.8130\n",
      "Epoch 17/20\n",
      "16/16 [==============================] - 1s 77ms/step - loss: 0.1128 - accuracy: 0.9574 - val_loss: 1.0964 - val_accuracy: 0.8070\n",
      "Epoch 18/20\n",
      "16/16 [==============================] - 1s 76ms/step - loss: 0.1111 - accuracy: 0.9563 - val_loss: 1.1139 - val_accuracy: 0.8010\n",
      "Epoch 19/20\n",
      "16/16 [==============================] - 1s 76ms/step - loss: 0.1110 - accuracy: 0.9572 - val_loss: 1.0765 - val_accuracy: 0.8060\n",
      "Epoch 20/20\n",
      "16/16 [==============================] - 1s 75ms/step - loss: 0.1076 - accuracy: 0.9575 - val_loss: 1.0518 - val_accuracy: 0.8100\n"
     ]
    }
   ],
   "source": [
    "val_loss_small, val_acc_small = fit_experiments(32,2)\n",
    "val_loss_large, val_acc_large = fit_experiments(128,2)"
   ]
  },
  {
   "cell_type": "code",
   "execution_count": 64,
   "metadata": {
    "colab": {
     "base_uri": "https://localhost:8080/",
     "height": 295
    },
    "executionInfo": {
     "elapsed": 522,
     "status": "ok",
     "timestamp": 1646657428197,
     "user": {
      "displayName": "Mis",
      "photoUrl": "https://lh3.googleusercontent.com/a-/AOh14Gi9fkY6IIxT8q7cFLbRp1Q3Rk8HgS6QeojPa0S8=s64",
      "userId": "09305620378386245649"
     },
     "user_tz": -60
    },
    "id": "muwlvjlZUlws",
    "outputId": "9be2702b-b4d8-489d-bf53-94bcd81f4c4a"
   },
   "outputs": [
    {
     "data": {
      "image/png": "[encoded data removed]",
      "text/plain": [
       "<Figure size 432x288 with 1 Axes>"
      ]
     },
     "metadata": {
      "needs_background": "light"
     },
     "output_type": "display_data"
    }
   ],
   "source": [
    "plt.plot(epochs, val_loss_original, label=\"Validation loss original model, layers of 64 units\")\n",
    "plt.plot(epochs, val_loss_small, label=\"Validation loss with smaller layers of 32 units\")\n",
    "plt.plot(epochs, val_loss_large, label=\"Validation loss with larger layers of 128 units\")\n",
    "plt.title(\"validation loss\")\n",
    "plt.xlabel(\"Epochs\")\n",
    "plt.ylabel(\"Loss\")\n",
    "plt.legend()\n",
    "plt.show()"
   ]
  },
  {
   "cell_type": "code",
   "execution_count": 65,
   "metadata": {
    "colab": {
     "base_uri": "https://localhost:8080/",
     "height": 295
    },
    "executionInfo": {
     "elapsed": 8,
     "status": "ok",
     "timestamp": 1646657428198,
     "user": {
      "displayName": "Mis",
      "photoUrl": "https://lh3.googleusercontent.com/a-/AOh14Gi9fkY6IIxT8q7cFLbRp1Q3Rk8HgS6QeojPa0S8=s64",
      "userId": "09305620378386245649"
     },
     "user_tz": -60
    },
    "id": "4lUi5OD5Ttdc",
    "outputId": "86e19f69-6a5d-4314-b4b3-4f70abee5303"
   },
   "outputs": [
    {
     "data": {
      "image/png": "[encoded data removed]",
      "text/plain": [
       "<Figure size 432x288 with 1 Axes>"
      ]
     },
     "metadata": {
      "needs_background": "light"
     },
     "output_type": "display_data"
    }
   ],
   "source": [
    "plt.clf()\n",
    "plt.plot(epochs, val_acc_original, label=\"Validation accuracy original model, layers of 64 units\")\n",
    "plt.plot(epochs, val_acc_small, label=\"Validation accuracy with smaller layers of 32 units\")\n",
    "plt.plot(epochs, val_acc_large, label=\"Validation accuracy with larger layers of 128 units\")\n",
    "plt.title(\"Validation accuracy\")\n",
    "plt.xlabel(\"Epochs\")\n",
    "plt.ylabel(\"Accuracy\")\n",
    "plt.legend()\n",
    "plt.show()"
   ]
  },
  {
   "cell_type": "markdown",
   "metadata": {
    "id": "JCEjE8W7XmR9"
   },
   "source": [
    "<font color='violet'> \n",
    "The results are as expected, the larger model decreases in validation loss very fast, but then begins to overfit. The smaller model decreases in validation loss slower but overfits less. The model with hidden-layers of size 128 has the best validation accuracy, better than those of the 64 and 32 size models, though the difference is very minor, all hovering around 80% after 8 epochs.\n",
    "\n",
    "We now continue investigating the effect of decreasing or increasing the number of layers, with the layer size fixed at 128 hidden units. (Note this is a form of greedy optimization, by only considering one hyperparameter at a time, it could be that for a different number of layers a different size of the layers would be preferable.)\n",
    "</font>"
   ]
  },
  {
   "cell_type": "code",
   "execution_count": 66,
   "metadata": {
    "colab": {
     "base_uri": "https://localhost:8080/"
    },
    "executionInfo": {
     "elapsed": 67436,
     "status": "ok",
     "timestamp": 1646657495628,
     "user": {
      "displayName": "Mis",
      "photoUrl": "https://lh3.googleusercontent.com/a-/AOh14Gi9fkY6IIxT8q7cFLbRp1Q3Rk8HgS6QeojPa0S8=s64",
      "userId": "09305620378386245649"
     },
     "user_tz": -60
    },
    "id": "iVSnNE81YyAv",
    "outputId": "679273d7-ace1-47cc-ed79-4d386faa61f6"
   },
   "outputs": [
    {
     "name": "stdout",
     "output_type": "stream",
     "text": [
      "Epoch 1/20\n",
      "16/16 [==============================] - 2s 86ms/step - loss: 2.2135 - accuracy: 0.5956 - val_loss: 1.4628 - val_accuracy: 0.7060\n",
      "Epoch 2/20\n",
      "16/16 [==============================] - 1s 75ms/step - loss: 1.1345 - accuracy: 0.7709 - val_loss: 1.1173 - val_accuracy: 0.7740\n",
      "Epoch 3/20\n",
      "16/16 [==============================] - 1s 76ms/step - loss: 0.7813 - accuracy: 0.8448 - val_loss: 0.9601 - val_accuracy: 0.8050\n",
      "Epoch 4/20\n",
      "16/16 [==============================] - 1s 75ms/step - loss: 0.5732 - accuracy: 0.8890 - val_loss: 0.8908 - val_accuracy: 0.8180\n",
      "Epoch 5/20\n",
      "16/16 [==============================] - 1s 74ms/step - loss: 0.4362 - accuracy: 0.9154 - val_loss: 0.8313 - val_accuracy: 0.8300\n",
      "Epoch 6/20\n",
      "16/16 [==============================] - 1s 76ms/step - loss: 0.3408 - accuracy: 0.9313 - val_loss: 0.8274 - val_accuracy: 0.8280\n",
      "Epoch 7/20\n",
      "16/16 [==============================] - 1s 75ms/step - loss: 0.2738 - accuracy: 0.9414 - val_loss: 0.8080 - val_accuracy: 0.8320\n",
      "Epoch 8/20\n",
      "16/16 [==============================] - 1s 74ms/step - loss: 0.2282 - accuracy: 0.9469 - val_loss: 0.8172 - val_accuracy: 0.8290\n",
      "Epoch 9/20\n",
      "16/16 [==============================] - 1s 76ms/step - loss: 0.1917 - accuracy: 0.9499 - val_loss: 0.8387 - val_accuracy: 0.8200\n",
      "Epoch 10/20\n",
      "16/16 [==============================] - 1s 75ms/step - loss: 0.1711 - accuracy: 0.9519 - val_loss: 0.8419 - val_accuracy: 0.8260\n",
      "Epoch 11/20\n",
      "16/16 [==============================] - 1s 74ms/step - loss: 0.1507 - accuracy: 0.9563 - val_loss: 0.8614 - val_accuracy: 0.8230\n",
      "Epoch 12/20\n",
      "16/16 [==============================] - 1s 76ms/step - loss: 0.1410 - accuracy: 0.9529 - val_loss: 0.9012 - val_accuracy: 0.8180\n",
      "Epoch 13/20\n",
      "16/16 [==============================] - 1s 75ms/step - loss: 0.1277 - accuracy: 0.9555 - val_loss: 0.9171 - val_accuracy: 0.8160\n",
      "Epoch 14/20\n",
      "16/16 [==============================] - 1s 75ms/step - loss: 0.1225 - accuracy: 0.9577 - val_loss: 0.9172 - val_accuracy: 0.8200\n",
      "Epoch 15/20\n",
      "16/16 [==============================] - 1s 75ms/step - loss: 0.1174 - accuracy: 0.9572 - val_loss: 0.9966 - val_accuracy: 0.8020\n",
      "Epoch 16/20\n",
      "16/16 [==============================] - 1s 75ms/step - loss: 0.1133 - accuracy: 0.9567 - val_loss: 0.9897 - val_accuracy: 0.8050\n",
      "Epoch 17/20\n",
      "16/16 [==============================] - 1s 74ms/step - loss: 0.1086 - accuracy: 0.9577 - val_loss: 0.9924 - val_accuracy: 0.8060\n",
      "Epoch 18/20\n",
      "16/16 [==============================] - 1s 74ms/step - loss: 0.1043 - accuracy: 0.9579 - val_loss: 1.0151 - val_accuracy: 0.8120\n",
      "Epoch 19/20\n",
      "16/16 [==============================] - 1s 75ms/step - loss: 0.1042 - accuracy: 0.9574 - val_loss: 0.9982 - val_accuracy: 0.8140\n",
      "Epoch 20/20\n",
      "16/16 [==============================] - 1s 75ms/step - loss: 0.1018 - accuracy: 0.9567 - val_loss: 1.0473 - val_accuracy: 0.8070\n",
      "Epoch 1/20\n",
      "16/16 [==============================] - 2s 89ms/step - loss: 2.2075 - accuracy: 0.5018 - val_loss: 1.4265 - val_accuracy: 0.6570\n",
      "Epoch 2/20\n",
      "16/16 [==============================] - 1s 78ms/step - loss: 1.1770 - accuracy: 0.7308 - val_loss: 1.1421 - val_accuracy: 0.7530\n",
      "Epoch 3/20\n",
      "16/16 [==============================] - 1s 78ms/step - loss: 0.8427 - accuracy: 0.8107 - val_loss: 1.0063 - val_accuracy: 0.7850\n",
      "Epoch 4/20\n",
      "16/16 [==============================] - 1s 77ms/step - loss: 0.6192 - accuracy: 0.8545 - val_loss: 0.9435 - val_accuracy: 0.8050\n",
      "Epoch 5/20\n",
      "16/16 [==============================] - 1s 77ms/step - loss: 0.4669 - accuracy: 0.8958 - val_loss: 0.9196 - val_accuracy: 0.8110\n",
      "Epoch 6/20\n",
      "16/16 [==============================] - 1s 77ms/step - loss: 0.3299 - accuracy: 0.9268 - val_loss: 0.9385 - val_accuracy: 0.8090\n",
      "Epoch 7/20\n",
      "16/16 [==============================] - 1s 78ms/step - loss: 0.2863 - accuracy: 0.9340 - val_loss: 0.9194 - val_accuracy: 0.8180\n",
      "Epoch 8/20\n",
      "16/16 [==============================] - 1s 77ms/step - loss: 0.2045 - accuracy: 0.9476 - val_loss: 0.9653 - val_accuracy: 0.8030\n",
      "Epoch 9/20\n",
      "16/16 [==============================] - 1s 78ms/step - loss: 0.1869 - accuracy: 0.9513 - val_loss: 0.9741 - val_accuracy: 0.8090\n",
      "Epoch 10/20\n",
      "16/16 [==============================] - 1s 77ms/step - loss: 0.1753 - accuracy: 0.9521 - val_loss: 1.0681 - val_accuracy: 0.7920\n",
      "Epoch 11/20\n",
      "16/16 [==============================] - 1s 77ms/step - loss: 0.1486 - accuracy: 0.9570 - val_loss: 1.0858 - val_accuracy: 0.7870\n",
      "Epoch 12/20\n",
      "16/16 [==============================] - 1s 80ms/step - loss: 0.1449 - accuracy: 0.9555 - val_loss: 1.0281 - val_accuracy: 0.7980\n",
      "Epoch 13/20\n",
      "16/16 [==============================] - 1s 78ms/step - loss: 0.1283 - accuracy: 0.9555 - val_loss: 1.1568 - val_accuracy: 0.7860\n",
      "Epoch 14/20\n",
      "16/16 [==============================] - 1s 78ms/step - loss: 0.1293 - accuracy: 0.9557 - val_loss: 1.1514 - val_accuracy: 0.7950\n",
      "Epoch 15/20\n",
      "16/16 [==============================] - 1s 77ms/step - loss: 0.1269 - accuracy: 0.9577 - val_loss: 1.1769 - val_accuracy: 0.7790\n",
      "Epoch 16/20\n",
      "16/16 [==============================] - 1s 78ms/step - loss: 0.1130 - accuracy: 0.9562 - val_loss: 1.1618 - val_accuracy: 0.7970\n",
      "Epoch 17/20\n",
      "16/16 [==============================] - 1s 79ms/step - loss: 0.1187 - accuracy: 0.9549 - val_loss: 1.1749 - val_accuracy: 0.8020\n",
      "Epoch 18/20\n",
      "16/16 [==============================] - 1s 77ms/step - loss: 0.1052 - accuracy: 0.9597 - val_loss: 1.1888 - val_accuracy: 0.8000\n",
      "Epoch 19/20\n",
      "16/16 [==============================] - 1s 78ms/step - loss: 0.1069 - accuracy: 0.9568 - val_loss: 1.1142 - val_accuracy: 0.8030\n",
      "Epoch 20/20\n",
      "16/16 [==============================] - 1s 77ms/step - loss: 0.1056 - accuracy: 0.9570 - val_loss: 1.2711 - val_accuracy: 0.7680\n"
     ]
    }
   ],
   "source": [
    "val_loss_shallow, val_acc_shallow = fit_experiments(128,1)\n",
    "val_loss_deep, val_acc_deep = fit_experiments(128,3)"
   ]
  },
  {
   "cell_type": "code",
   "execution_count": 67,
   "metadata": {
    "colab": {
     "base_uri": "https://localhost:8080/",
     "height": 295
    },
    "executionInfo": {
     "elapsed": 7,
     "status": "ok",
     "timestamp": 1646657495629,
     "user": {
      "displayName": "Mis",
      "photoUrl": "https://lh3.googleusercontent.com/a-/AOh14Gi9fkY6IIxT8q7cFLbRp1Q3Rk8HgS6QeojPa0S8=s64",
      "userId": "09305620378386245649"
     },
     "user_tz": -60
    },
    "id": "Ntl7k_GYYy2L",
    "outputId": "ef061452-282c-4e2e-f9c9-98387353169f"
   },
   "outputs": [
    {
     "data": {
      "image/png": "[encoded data removed]",
      "text/plain": [
       "<Figure size 432x288 with 1 Axes>"
      ]
     },
     "metadata": {
      "needs_background": "light"
     },
     "output_type": "display_data"
    }
   ],
   "source": [
    "plt.plot(epochs, val_loss_large, label=\"Validation loss previous model with 2 hidden layers\")\n",
    "plt.plot(epochs, val_loss_shallow, label=\"Validation loss with 1 hidden layer\")\n",
    "plt.plot(epochs, val_loss_deep, label=\"Validation loss with 3 hidden layers\")\n",
    "plt.title(\"validation loss\")\n",
    "plt.xlabel(\"Epochs\")\n",
    "plt.ylabel(\"Loss\")\n",
    "plt.legend()\n",
    "plt.show()"
   ]
  },
  {
   "cell_type": "code",
   "execution_count": 68,
   "metadata": {
    "colab": {
     "base_uri": "https://localhost:8080/",
     "height": 295
    },
    "executionInfo": {
     "elapsed": 563,
     "status": "ok",
     "timestamp": 1646657496186,
     "user": {
      "displayName": "Mis",
      "photoUrl": "https://lh3.googleusercontent.com/a-/AOh14Gi9fkY6IIxT8q7cFLbRp1Q3Rk8HgS6QeojPa0S8=s64",
      "userId": "09305620378386245649"
     },
     "user_tz": -60
    },
    "id": "kpkG39vPY3KZ",
    "outputId": "46955b60-9da4-4c0a-de4e-cea442946837"
   },
   "outputs": [
    {
     "data": {
      "image/png": "[encoded data removed]",
      "text/plain": [
       "<Figure size 432x288 with 1 Axes>"
      ]
     },
     "metadata": {
      "needs_background": "light"
     },
     "output_type": "display_data"
    }
   ],
   "source": [
    "plt.clf()\n",
    "plt.plot(epochs, val_acc_large, label=\"Validation accuracy previous model\")\n",
    "plt.plot(epochs, val_acc_shallow, label=\"Validation accuracy with shallower layers\")\n",
    "plt.plot(epochs, val_acc_deep, label=\"Validation accuracy with deeper layers\")\n",
    "plt.title(\"Validation accuracy\")\n",
    "plt.xlabel(\"Epochs\")\n",
    "plt.ylabel(\"Accuracy\")\n",
    "plt.legend()\n",
    "plt.show()"
   ]
  },
  {
   "cell_type": "markdown",
   "metadata": {
    "id": "D6pqrYrJaiFG"
   },
   "source": [
    "<font color='violet'> \n",
    "Here, we see that the shallow model outperforms the deeper models. Again, this is probably because the features are encoded in such as way that the problem loses much of its perceptual nature. Now we still need to train and test a final model, based on hyperparameters selected from the above plot.\n",
    "</font>"
   ]
  },
  {
   "cell_type": "code",
   "execution_count": 69,
   "metadata": {
    "colab": {
     "base_uri": "https://localhost:8080/"
    },
    "executionInfo": {
     "elapsed": 11308,
     "status": "ok",
     "timestamp": 1646657507489,
     "user": {
      "displayName": "Mis",
      "photoUrl": "https://lh3.googleusercontent.com/a-/AOh14Gi9fkY6IIxT8q7cFLbRp1Q3Rk8HgS6QeojPa0S8=s64",
      "userId": "09305620378386245649"
     },
     "user_tz": -60
    },
    "id": "fZcJ3Bglgtal",
    "outputId": "13673c89-a1ed-406a-90e2-f1232fa3c167"
   },
   "outputs": [
    {
     "name": "stdout",
     "output_type": "stream",
     "text": [
      "Epoch 1/8\n",
      "18/18 [==============================] - 2s 72ms/step - loss: 2.1841 - accuracy: 0.6104\n",
      "Epoch 2/8\n",
      "18/18 [==============================] - 1s 68ms/step - loss: 1.0732 - accuracy: 0.7884\n",
      "Epoch 3/8\n",
      "18/18 [==============================] - 1s 69ms/step - loss: 0.7381 - accuracy: 0.8530\n",
      "Epoch 4/8\n",
      "18/18 [==============================] - 1s 68ms/step - loss: 0.5420 - accuracy: 0.8959\n",
      "Epoch 5/8\n",
      "18/18 [==============================] - 1s 68ms/step - loss: 0.4139 - accuracy: 0.9173\n",
      "Epoch 6/8\n",
      "18/18 [==============================] - 1s 68ms/step - loss: 0.3266 - accuracy: 0.9326\n",
      "Epoch 7/8\n",
      "18/18 [==============================] - 1s 68ms/step - loss: 0.2682 - accuracy: 0.9420\n",
      "Epoch 8/8\n",
      "18/18 [==============================] - 1s 67ms/step - loss: 0.2209 - accuracy: 0.9476\n",
      "71/71 [==============================] - 1s 4ms/step - loss: 0.8789 - accuracy: 0.8054\n"
     ]
    },
    {
     "data": {
      "text/plain": [
       "[0.8789235353469849, 0.8054319024085999]"
      ]
     },
     "execution_count": 69,
     "metadata": {},
     "output_type": "execute_result"
    }
   ],
   "source": [
    "model = keras.Sequential([\n",
    "  layers.Dense(128, activation=\"relu\"),\n",
    "  layers.Dense(46, activation=\"softmax\")\n",
    "])\n",
    "model.compile(optimizer=\"rmsprop\",\n",
    "              loss=\"categorical_crossentropy\",\n",
    "              metrics=[\"accuracy\"])\n",
    "model.fit(x_train,\n",
    "          y_train,\n",
    "          epochs=8,\n",
    "          batch_size=512)\n",
    "results = model.evaluate(x_test, y_test)\n",
    "results"
   ]
  },
  {
   "cell_type": "markdown",
   "metadata": {
    "id": "yBy2xetngykz"
   },
   "source": [
    "<font color='violet'> \n",
    "The test accuracy has increased by a vanishingly small amount. In this example, tuning the hyperparameters leads to increasing the width of the hidden layers and reducing the amount of layers, but in the end no large gains in accuracy could be found.\n",
    "</font>"
   ]
  },
  {
   "cell_type": "markdown",
   "metadata": {
    "id": "PlIw0xmcvafP"
   },
   "source": [
    "### Wrapping up\n",
    "\n",
    "Here’s what you should take away from this example:\n",
    "* If you’re trying to classify data points among N classes, your model should end\n",
    "with a `Dense` layer of size N.\n",
    "* In a single-label, multiclass classification problem, your model should end with\n",
    "a `softmax` activation so that it will output a probability distribution over the N\n",
    "output classes.\n",
    "* Categorical crossentropy is almost always the loss function you should use for\n",
    "such problems. It minimizes the distance between the probability distributions\n",
    "output by the model and the true distribution of the targets.\n",
    "* There are two ways to handle labels in multiclass classification:\n",
    "    * Encoding the labels via categorical encoding (also known as one-hot encoding)\n",
    "and using `categorical_crossentropy` as a loss function\n",
    "    * Encoding the labels as integers and using the `sparse_categorical_crossentropy`\n",
    "loss function\n",
    "* If you need to classify data into a large number of categories, you should avoid\n",
    "creating information bottlenecks in your model due to intermediate layers that\n",
    "are too small."
   ]
  },
  {
   "cell_type": "markdown",
   "metadata": {
    "id": "mPxwr8fivafP"
   },
   "source": [
    "## 4.3 Predicting house prices: A regression example\n",
    "\n",
    "In our two previous examples, we were considering classification problems, where the goal was to predict a single discrete label of an \n",
    "input data point. Another common type of machine learning problem is \"regression\", which consists of predicting a continuous value instead \n",
    "of a discrete label. For instance, predicting the temperature tomorrow, given meteorological data, or predicting the time that a \n",
    "software project will take to complete, given its specifications.\n",
    "\n",
    "Do not mix up \"regression\" with the algorithm \"logistic regression\": confusingly, \"logistic regression\" is not a regression algorithm, \n",
    "it is a classification algorithm."
   ]
  },
  {
   "cell_type": "markdown",
   "metadata": {
    "id": "MzBAyfEGvafP"
   },
   "source": [
    "### The Boston Housing Price dataset\n",
    "\n",
    "We will be attempting to predict the median price of homes in a given Boston suburb in the mid-1970s, given a few data points about the \n",
    "suburb at the time, such as the crime rate, the local property tax rate, etc.\n",
    "\n",
    "The dataset we will be using has another interesting difference from our two previous examples: it has very few data points, only 506 in \n",
    "total, split between 404 training samples and 102 test samples, and each \"feature\" in the input data (e.g. the crime rate is a feature) has \n",
    "a different scale. For instance some values are proportions, which take a values between 0 and 1, others take values between 1 and 12, \n",
    "others between 0 and 100...\n",
    "\n",
    "Let's take a look at the data:"
   ]
  },
  {
   "cell_type": "markdown",
   "metadata": {
    "id": "aMExMqkhvafP"
   },
   "source": [
    "**Loading the Boston housing dataset**"
   ]
  },
  {
   "cell_type": "code",
   "execution_count": 70,
   "metadata": {
    "executionInfo": {
     "elapsed": 19,
     "status": "ok",
     "timestamp": 1646657507490,
     "user": {
      "displayName": "Mis",
      "photoUrl": "https://lh3.googleusercontent.com/a-/AOh14Gi9fkY6IIxT8q7cFLbRp1Q3Rk8HgS6QeojPa0S8=s64",
      "userId": "09305620378386245649"
     },
     "user_tz": -60
    },
    "id": "0KaJKkSdvafQ"
   },
   "outputs": [],
   "source": [
    "from tensorflow.keras.datasets import boston_housing\n",
    "(train_data, train_targets), (test_data, test_targets) = boston_housing.load_data()"
   ]
  },
  {
   "cell_type": "markdown",
   "metadata": {
    "id": "H8kobX9IvafQ"
   },
   "source": [
    "Let’s look at the data:"
   ]
  },
  {
   "cell_type": "code",
   "execution_count": 71,
   "metadata": {
    "colab": {
     "base_uri": "https://localhost:8080/"
    },
    "executionInfo": {
     "elapsed": 17,
     "status": "ok",
     "timestamp": 1646657507491,
     "user": {
      "displayName": "Mis",
      "photoUrl": "https://lh3.googleusercontent.com/a-/AOh14Gi9fkY6IIxT8q7cFLbRp1Q3Rk8HgS6QeojPa0S8=s64",
      "userId": "09305620378386245649"
     },
     "user_tz": -60
    },
    "id": "zkWBDTr_vafQ",
    "outputId": "aa5f1516-e37e-48f8-ea1c-b527d5826b0c"
   },
   "outputs": [
    {
     "data": {
      "text/plain": [
       "(404, 13)"
      ]
     },
     "execution_count": 71,
     "metadata": {},
     "output_type": "execute_result"
    }
   ],
   "source": [
    "train_data.shape"
   ]
  },
  {
   "cell_type": "code",
   "execution_count": 72,
   "metadata": {
    "colab": {
     "base_uri": "https://localhost:8080/"
    },
    "executionInfo": {
     "elapsed": 15,
     "status": "ok",
     "timestamp": 1646657507491,
     "user": {
      "displayName": "Mis",
      "photoUrl": "https://lh3.googleusercontent.com/a-/AOh14Gi9fkY6IIxT8q7cFLbRp1Q3Rk8HgS6QeojPa0S8=s64",
      "userId": "09305620378386245649"
     },
     "user_tz": -60
    },
    "id": "Cpdcou9pvafQ",
    "outputId": "cadd71bd-f220-4375-f2b8-4fa992fa44fc"
   },
   "outputs": [
    {
     "data": {
      "text/plain": [
       "(102, 13)"
      ]
     },
     "execution_count": 72,
     "metadata": {},
     "output_type": "execute_result"
    }
   ],
   "source": [
    "test_data.shape"
   ]
  },
  {
   "cell_type": "markdown",
   "metadata": {
    "id": "xDFri-ibvafR"
   },
   "source": [
    "\n",
    "As you can see, we have 404 training samples and 102 test samples. The data comprises 13 features. The 13 features in the input data are as \n",
    "follow:\n",
    "\n",
    "1. Per capita crime rate.\n",
    "2. Proportion of residential land zoned for lots over 25,000 square feet.\n",
    "3. Proportion of non-retail business acres per town.\n",
    "4. Charles River dummy variable (= 1 if tract bounds river; 0 otherwise).\n",
    "5. Nitric oxides concentration (parts per 10 million).\n",
    "6. Average number of rooms per dwelling.\n",
    "7. Proportion of owner-occupied units built prior to 1940.\n",
    "8. Weighted distances to five Boston employment centres.\n",
    "9. Index of accessibility to radial highways.\n",
    "10. Full-value property-tax rate per $10,000.\n",
    "11. Pupil-teacher ratio by town.\n",
    "12. 1000 * (Bk - 0.63) ** 2 where Bk is the proportion of Black people by town.\n",
    "13. % lower status of the population.\n",
    "\n",
    "The targets are the median values of owner-occupied homes, in thousands of dollars:"
   ]
  },
  {
   "cell_type": "code",
   "execution_count": 73,
   "metadata": {
    "colab": {
     "base_uri": "https://localhost:8080/"
    },
    "executionInfo": {
     "elapsed": 13,
     "status": "ok",
     "timestamp": 1646657507492,
     "user": {
      "displayName": "Mis",
      "photoUrl": "https://lh3.googleusercontent.com/a-/AOh14Gi9fkY6IIxT8q7cFLbRp1Q3Rk8HgS6QeojPa0S8=s64",
      "userId": "09305620378386245649"
     },
     "user_tz": -60
    },
    "id": "CJd_tCt_vafR",
    "outputId": "99ef45aa-0ef8-430b-d44f-6c3191f38cb3"
   },
   "outputs": [
    {
     "data": {
      "text/plain": [
       "array([15.2, 42.3, 50. , 21.1, 17.7, 18.5, 11.3, 15.6, 15.6, 14.4, 12.1,\n",
       "       17.9, 23.1, 19.9, 15.7,  8.8, 50. , 22.5, 24.1, 27.5, 10.9, 30.8,\n",
       "       32.9, 24. , 18.5, 13.3, 22.9, 34.7, 16.6, 17.5, 22.3, 16.1, 14.9,\n",
       "       23.1, 34.9, 25. , 13.9, 13.1, 20.4, 20. , 15.2, 24.7, 22.2, 16.7,\n",
       "       12.7, 15.6, 18.4, 21. , 30.1, 15.1, 18.7,  9.6, 31.5, 24.8, 19.1,\n",
       "       22. , 14.5, 11. , 32. , 29.4, 20.3, 24.4, 14.6, 19.5, 14.1, 14.3,\n",
       "       15.6, 10.5,  6.3, 19.3, 19.3, 13.4, 36.4, 17.8, 13.5, 16.5,  8.3,\n",
       "       14.3, 16. , 13.4, 28.6, 43.5, 20.2, 22. , 23. , 20.7, 12.5, 48.5,\n",
       "       14.6, 13.4, 23.7, 50. , 21.7, 39.8, 38.7, 22.2, 34.9, 22.5, 31.1,\n",
       "       28.7, 46. , 41.7, 21. , 26.6, 15. , 24.4, 13.3, 21.2, 11.7, 21.7,\n",
       "       19.4, 50. , 22.8, 19.7, 24.7, 36.2, 14.2, 18.9, 18.3, 20.6, 24.6,\n",
       "       18.2,  8.7, 44. , 10.4, 13.2, 21.2, 37. , 30.7, 22.9, 20. , 19.3,\n",
       "       31.7, 32. , 23.1, 18.8, 10.9, 50. , 19.6,  5. , 14.4, 19.8, 13.8,\n",
       "       19.6, 23.9, 24.5, 25. , 19.9, 17.2, 24.6, 13.5, 26.6, 21.4, 11.9,\n",
       "       22.6, 19.6,  8.5, 23.7, 23.1, 22.4, 20.5, 23.6, 18.4, 35.2, 23.1,\n",
       "       27.9, 20.6, 23.7, 28. , 13.6, 27.1, 23.6, 20.6, 18.2, 21.7, 17.1,\n",
       "        8.4, 25.3, 13.8, 22.2, 18.4, 20.7, 31.6, 30.5, 20.3,  8.8, 19.2,\n",
       "       19.4, 23.1, 23. , 14.8, 48.8, 22.6, 33.4, 21.1, 13.6, 32.2, 13.1,\n",
       "       23.4, 18.9, 23.9, 11.8, 23.3, 22.8, 19.6, 16.7, 13.4, 22.2, 20.4,\n",
       "       21.8, 26.4, 14.9, 24.1, 23.8, 12.3, 29.1, 21. , 19.5, 23.3, 23.8,\n",
       "       17.8, 11.5, 21.7, 19.9, 25. , 33.4, 28.5, 21.4, 24.3, 27.5, 33.1,\n",
       "       16.2, 23.3, 48.3, 22.9, 22.8, 13.1, 12.7, 22.6, 15. , 15.3, 10.5,\n",
       "       24. , 18.5, 21.7, 19.5, 33.2, 23.2,  5. , 19.1, 12.7, 22.3, 10.2,\n",
       "       13.9, 16.3, 17. , 20.1, 29.9, 17.2, 37.3, 45.4, 17.8, 23.2, 29. ,\n",
       "       22. , 18. , 17.4, 34.6, 20.1, 25. , 15.6, 24.8, 28.2, 21.2, 21.4,\n",
       "       23.8, 31. , 26.2, 17.4, 37.9, 17.5, 20. ,  8.3, 23.9,  8.4, 13.8,\n",
       "        7.2, 11.7, 17.1, 21.6, 50. , 16.1, 20.4, 20.6, 21.4, 20.6, 36.5,\n",
       "        8.5, 24.8, 10.8, 21.9, 17.3, 18.9, 36.2, 14.9, 18.2, 33.3, 21.8,\n",
       "       19.7, 31.6, 24.8, 19.4, 22.8,  7.5, 44.8, 16.8, 18.7, 50. , 50. ,\n",
       "       19.5, 20.1, 50. , 17.2, 20.8, 19.3, 41.3, 20.4, 20.5, 13.8, 16.5,\n",
       "       23.9, 20.6, 31.5, 23.3, 16.8, 14. , 33.8, 36.1, 12.8, 18.3, 18.7,\n",
       "       19.1, 29. , 30.1, 50. , 50. , 22. , 11.9, 37.6, 50. , 22.7, 20.8,\n",
       "       23.5, 27.9, 50. , 19.3, 23.9, 22.6, 15.2, 21.7, 19.2, 43.8, 20.3,\n",
       "       33.2, 19.9, 22.5, 32.7, 22. , 17.1, 19. , 15. , 16.1, 25.1, 23.7,\n",
       "       28.7, 37.2, 22.6, 16.4, 25. , 29.8, 22.1, 17.4, 18.1, 30.3, 17.5,\n",
       "       24.7, 12.6, 26.5, 28.7, 13.3, 10.4, 24.4, 23. , 20. , 17.8,  7. ,\n",
       "       11.8, 24.4, 13.8, 19.4, 25.2, 19.4, 19.4, 29.1])"
      ]
     },
     "execution_count": 73,
     "metadata": {},
     "output_type": "execute_result"
    }
   ],
   "source": [
    "train_targets"
   ]
  },
  {
   "cell_type": "markdown",
   "metadata": {
    "id": "iXZs3iTyvafR"
   },
   "source": [
    "### Preparing the data\n",
    "\n",
    "\n",
    "It would be problematic to feed into a neural network values that all take wildly different ranges. The network might be able to \n",
    "automatically adapt to such heterogeneous data, but it would definitely make learning more difficult. A widespread best practice to deal \n",
    "with such data is to do feature-wise normalization: for each feature in the input data (a column in the input data matrix), we \n",
    "will subtract the mean of the feature and divide by the standard deviation, so that the feature will be centered around 0 and will have a \n",
    "unit standard deviation. This is easily done in Numpy:"
   ]
  },
  {
   "cell_type": "markdown",
   "metadata": {
    "id": "JIMVQ1xOvafR"
   },
   "source": [
    "**Normalizing the data**"
   ]
  },
  {
   "cell_type": "code",
   "execution_count": 74,
   "metadata": {
    "executionInfo": {
     "elapsed": 11,
     "status": "ok",
     "timestamp": 1646657507492,
     "user": {
      "displayName": "Mis",
      "photoUrl": "https://lh3.googleusercontent.com/a-/AOh14Gi9fkY6IIxT8q7cFLbRp1Q3Rk8HgS6QeojPa0S8=s64",
      "userId": "09305620378386245649"
     },
     "user_tz": -60
    },
    "id": "xg7dJmx1vafS"
   },
   "outputs": [],
   "source": [
    "mean = train_data.mean(axis=0)\n",
    "train_data -= mean\n",
    "std = train_data.std(axis=0)\n",
    "train_data /= std\n",
    "test_data -= mean\n",
    "test_data /= std"
   ]
  },
  {
   "cell_type": "markdown",
   "metadata": {
    "id": "pOB8ourmvafS"
   },
   "source": [
    "\n",
    "Note that the quantities that we use for normalizing the test data have been computed using the training data. You should never use in your \n",
    "workflow any quantity computed on the test data, even for something as simple as data normalization."
   ]
  },
  {
   "cell_type": "markdown",
   "metadata": {
    "id": "53l2uWNPvafS"
   },
   "source": [
    "### Building your model\n",
    "\n",
    "Because so few samples are available, we will be using a very small network with two \n",
    "hidden layers, each with 64 units. In general, the less training data you have, the worse overfitting will be, and using \n",
    "a small network is one way to mitigate overfitting."
   ]
  },
  {
   "cell_type": "markdown",
   "metadata": {
    "id": "IwVPZhmZvafS"
   },
   "source": [
    "**Model definition**"
   ]
  },
  {
   "cell_type": "code",
   "execution_count": 75,
   "metadata": {
    "executionInfo": {
     "elapsed": 10,
     "status": "ok",
     "timestamp": 1646657507492,
     "user": {
      "displayName": "Mis",
      "photoUrl": "https://lh3.googleusercontent.com/a-/AOh14Gi9fkY6IIxT8q7cFLbRp1Q3Rk8HgS6QeojPa0S8=s64",
      "userId": "09305620378386245649"
     },
     "user_tz": -60
    },
    "id": "PYNnHEiqvafS"
   },
   "outputs": [],
   "source": [
    "def build_model():\n",
    "    model = keras.Sequential([\n",
    "        layers.Dense(64, activation=\"relu\"),\n",
    "        layers.Dense(64, activation=\"relu\"),\n",
    "        layers.Dense(1)\n",
    "    ])\n",
    "    model.compile(optimizer=\"rmsprop\", loss=\"mse\", metrics=[\"mae\"])\n",
    "    return model"
   ]
  },
  {
   "cell_type": "markdown",
   "metadata": {
    "id": "SfJuzIXwvafT"
   },
   "source": [
    "\n",
    "Our network ends with a single unit, and no activation (i.e. it will be linear layer). \n",
    "This is a typical setup for scalar regression (i.e. regression where we are trying to predict a single continuous value). \n",
    "Applying an activation function would constrain the range that the output can take; for instance if \n",
    "we applied a `sigmoid` activation function to our last layer, the network could only learn to predict values between 0 and 1. Here, because \n",
    "the last layer is purely linear, the network is free to learn to predict values in any range.\n",
    "\n",
    "Note that we are compiling the network with the `mse` loss function -- Mean Squared Error, the square of the difference between the \n",
    "predictions and the targets, a widely used loss function for regression problems.\n",
    "\n",
    "We are also monitoring a new metric during training: `mae`. This stands for Mean Absolute Error. It is simply the absolute value of the \n",
    "difference between the predictions and the targets. For instance, a MAE of 0.5 on this problem would mean that our predictions are off by \n",
    "\\$500 on average."
   ]
  },
  {
   "cell_type": "markdown",
   "metadata": {
    "id": "196SkfflvafT"
   },
   "source": [
    "### Validating your approach using K-fold validation\n",
    "\n",
    "\n",
    "To evaluate our network while we keep adjusting its parameters (such as the number of epochs used for training), we could simply split the \n",
    "data into a training set and a validation set, as we were doing in our previous examples. However, because we have so few data points, the \n",
    "validation set would end up being very small (e.g. about 100 examples). A consequence is that our validation scores may change a lot \n",
    "depending on _which_ data points we choose to use for validation and which we choose for training, i.e. the validation scores may have a \n",
    "high _variance_ with regard to the validation split. This would prevent us from reliably evaluating our model.\n",
    "\n",
    "The best practice in such situations is to use K-fold cross-validation. It consists of splitting the available data into K partitions \n",
    "(typically K=4 or 5), then instantiating K identical models, and training each one on K-1 partitions while evaluating on the remaining \n",
    "partition. The validation score for the model used would then be the average of the K validation scores obtained.\n",
    "\n",
    "In terms of code, this is straightforward."
   ]
  },
  {
   "cell_type": "markdown",
   "metadata": {
    "id": "VwdiamL9vafT"
   },
   "source": [
    "**K-fold validation**"
   ]
  },
  {
   "cell_type": "code",
   "execution_count": 76,
   "metadata": {
    "colab": {
     "base_uri": "https://localhost:8080/"
    },
    "executionInfo": {
     "elapsed": 24325,
     "status": "ok",
     "timestamp": 1646657531808,
     "user": {
      "displayName": "Mis",
      "photoUrl": "https://lh3.googleusercontent.com/a-/AOh14Gi9fkY6IIxT8q7cFLbRp1Q3Rk8HgS6QeojPa0S8=s64",
      "userId": "09305620378386245649"
     },
     "user_tz": -60
    },
    "id": "09cCoxWkvafT",
    "outputId": "8fba5935-1469-4123-f945-8351e5024e6b"
   },
   "outputs": [
    {
     "name": "stdout",
     "output_type": "stream",
     "text": [
      "Processing fold #0\n",
      "Processing fold #1\n",
      "Processing fold #2\n",
      "Processing fold #3\n"
     ]
    }
   ],
   "source": [
    "k = 4\n",
    "num_val_samples = len(train_data) // k\n",
    "num_epochs = 100\n",
    "all_scores = []\n",
    "for i in range(k):\n",
    "    print(f\"Processing fold #{i}\")\n",
    "    val_data = train_data[i * num_val_samples: (i + 1) * num_val_samples]\n",
    "    val_targets = train_targets[i * num_val_samples: (i + 1) * num_val_samples]\n",
    "    partial_train_data = np.concatenate(\n",
    "        [train_data[:i * num_val_samples],\n",
    "         train_data[(i + 1) * num_val_samples:]],\n",
    "        axis=0)\n",
    "    partial_train_targets = np.concatenate(\n",
    "        [train_targets[:i * num_val_samples],\n",
    "         train_targets[(i + 1) * num_val_samples:]],\n",
    "        axis=0)\n",
    "    model = build_model()\n",
    "    model.fit(partial_train_data, partial_train_targets,\n",
    "              epochs=num_epochs, batch_size=16, verbose=0)\n",
    "    val_mse, val_mae = model.evaluate(val_data, val_targets, verbose=0)\n",
    "    all_scores.append(val_mae)"
   ]
  },
  {
   "cell_type": "code",
   "execution_count": 77,
   "metadata": {
    "colab": {
     "base_uri": "https://localhost:8080/"
    },
    "executionInfo": {
     "elapsed": 9,
     "status": "ok",
     "timestamp": 1646657531808,
     "user": {
      "displayName": "Mis",
      "photoUrl": "https://lh3.googleusercontent.com/a-/AOh14Gi9fkY6IIxT8q7cFLbRp1Q3Rk8HgS6QeojPa0S8=s64",
      "userId": "09305620378386245649"
     },
     "user_tz": -60
    },
    "id": "-BUgz2UnvafT",
    "outputId": "1c3826e0-8f0b-4d55-ba53-0d347145efa5"
   },
   "outputs": [
    {
     "data": {
      "text/plain": [
       "[1.9634705781936646, 2.581538438796997, 2.4860622882843018, 2.381561040878296]"
      ]
     },
     "execution_count": 77,
     "metadata": {},
     "output_type": "execute_result"
    }
   ],
   "source": [
    "all_scores"
   ]
  },
  {
   "cell_type": "code",
   "execution_count": 78,
   "metadata": {
    "colab": {
     "base_uri": "https://localhost:8080/"
    },
    "executionInfo": {
     "elapsed": 7,
     "status": "ok",
     "timestamp": 1646657531808,
     "user": {
      "displayName": "Mis",
      "photoUrl": "https://lh3.googleusercontent.com/a-/AOh14Gi9fkY6IIxT8q7cFLbRp1Q3Rk8HgS6QeojPa0S8=s64",
      "userId": "09305620378386245649"
     },
     "user_tz": -60
    },
    "id": "Hf_IkuZmvafT",
    "outputId": "33cc6720-62b2-48d0-98d6-a7de409dc825"
   },
   "outputs": [
    {
     "data": {
      "text/plain": [
       "2.353158086538315"
      ]
     },
     "execution_count": 78,
     "metadata": {},
     "output_type": "execute_result"
    }
   ],
   "source": [
    "np.mean(all_scores)"
   ]
  },
  {
   "cell_type": "markdown",
   "metadata": {
    "id": "503HQSQEvafU"
   },
   "source": [
    "\n",
    "As you can notice, the different runs do indeed show rather different validation scores, from 2.1 to 2.9. Their average (2.4) is a much more \n",
    "reliable metric than any single of these scores -- that's the entire point of K-fold cross-validation. In this case, we are off by \\$2,400 on \n",
    "average, which is still significant considering that the prices range from \\$10,000 to \\$50,000. \n",
    "\n",
    "Let's try training the network for a bit longer: 500 epochs. To keep a record of how well the model did at each epoch, we will modify our training loop \n",
    "to save the per-epoch validation score log:"
   ]
  },
  {
   "cell_type": "markdown",
   "metadata": {
    "id": "W3nImNtXvafU"
   },
   "source": [
    "**Saving the validation logs at each fold**"
   ]
  },
  {
   "cell_type": "code",
   "execution_count": 79,
   "metadata": {
    "colab": {
     "base_uri": "https://localhost:8080/"
    },
    "executionInfo": {
     "elapsed": 166325,
     "status": "ok",
     "timestamp": 1646657698129,
     "user": {
      "displayName": "Mis",
      "photoUrl": "https://lh3.googleusercontent.com/a-/AOh14Gi9fkY6IIxT8q7cFLbRp1Q3Rk8HgS6QeojPa0S8=s64",
      "userId": "09305620378386245649"
     },
     "user_tz": -60
    },
    "id": "rf8bF6cKvafU",
    "outputId": "ac595d92-e9a9-4d60-87c3-1281489f4d2f"
   },
   "outputs": [
    {
     "name": "stdout",
     "output_type": "stream",
     "text": [
      "Processing fold #0\n",
      "Processing fold #1\n",
      "Processing fold #2\n",
      "Processing fold #3\n"
     ]
    }
   ],
   "source": [
    "num_epochs = 500\n",
    "all_mae_histories = []\n",
    "for i in range(k):\n",
    "    print(f\"Processing fold #{i}\")\n",
    "    val_data = train_data[i * num_val_samples: (i + 1) * num_val_samples]\n",
    "    val_targets = train_targets[i * num_val_samples: (i + 1) * num_val_samples]\n",
    "    partial_train_data = np.concatenate(\n",
    "        [train_data[:i * num_val_samples],\n",
    "         train_data[(i + 1) * num_val_samples:]],\n",
    "        axis=0)\n",
    "    partial_train_targets = np.concatenate(\n",
    "        [train_targets[:i * num_val_samples],\n",
    "         train_targets[(i + 1) * num_val_samples:]],\n",
    "        axis=0)\n",
    "    model = build_model()\n",
    "    history = model.fit(partial_train_data, partial_train_targets,\n",
    "                        validation_data=(val_data, val_targets),\n",
    "                        epochs=num_epochs, batch_size=16, verbose=0)\n",
    "    mae_history = history.history[\"val_mae\"]\n",
    "    all_mae_histories.append(mae_history)"
   ]
  },
  {
   "cell_type": "markdown",
   "metadata": {
    "id": "MCYdKh5KvafU"
   },
   "source": [
    "We can then compute the average of the per-epoch MAE scores for all folds:"
   ]
  },
  {
   "cell_type": "markdown",
   "metadata": {
    "id": "rCAOz-XKvafU"
   },
   "source": [
    "**Building the history of successive mean K-fold validation scores**"
   ]
  },
  {
   "cell_type": "code",
   "execution_count": 80,
   "metadata": {
    "executionInfo": {
     "elapsed": 11,
     "status": "ok",
     "timestamp": 1646657698131,
     "user": {
      "displayName": "Mis",
      "photoUrl": "https://lh3.googleusercontent.com/a-/AOh14Gi9fkY6IIxT8q7cFLbRp1Q3Rk8HgS6QeojPa0S8=s64",
      "userId": "09305620378386245649"
     },
     "user_tz": -60
    },
    "id": "QV52FrSrvafU"
   },
   "outputs": [],
   "source": [
    "average_mae_history = [\n",
    "    np.mean([x[i] for x in all_mae_histories]) for i in range(num_epochs)]"
   ]
  },
  {
   "cell_type": "markdown",
   "metadata": {
    "id": "wzHo5LUpvafU"
   },
   "source": [
    "Let's plot this:"
   ]
  },
  {
   "cell_type": "markdown",
   "metadata": {
    "id": "H-m1_Hp2vafV"
   },
   "source": [
    "**Plotting validation scores**"
   ]
  },
  {
   "cell_type": "code",
   "execution_count": 81,
   "metadata": {
    "colab": {
     "base_uri": "https://localhost:8080/",
     "height": 279
    },
    "executionInfo": {
     "elapsed": 9,
     "status": "ok",
     "timestamp": 1646657698131,
     "user": {
      "displayName": "Mis",
      "photoUrl": "https://lh3.googleusercontent.com/a-/AOh14Gi9fkY6IIxT8q7cFLbRp1Q3Rk8HgS6QeojPa0S8=s64",
      "userId": "09305620378386245649"
     },
     "user_tz": -60
    },
    "id": "SmVfsVgNvafV",
    "outputId": "fb132699-b734-4179-a8ae-48de4b466550"
   },
   "outputs": [
    {
     "data": {
      "image/png": "[encoded data removed]",
      "text/plain": [
       "<Figure size 432x288 with 1 Axes>"
      ]
     },
     "metadata": {
      "needs_background": "light"
     },
     "output_type": "display_data"
    }
   ],
   "source": [
    "plt.plot(range(1, len(average_mae_history) + 1), average_mae_history)\n",
    "plt.xlabel(\"Epochs\")\n",
    "plt.ylabel(\"Validation MAE\")\n",
    "plt.show()"
   ]
  },
  {
   "cell_type": "markdown",
   "metadata": {
    "id": "OezQgWG3vafV"
   },
   "source": [
    "\n",
    "It may be a bit hard to see the plot due to scaling issues and relatively high variance. Let’s omit\n",
    "the first 10 data points, which are on a different scale than the rest of the curve."
   ]
  },
  {
   "cell_type": "markdown",
   "metadata": {
    "id": "gBBYS_SHvafV"
   },
   "source": [
    "**Plotting validation scores, excluding the first 10 data points**"
   ]
  },
  {
   "cell_type": "code",
   "execution_count": 82,
   "metadata": {
    "colab": {
     "base_uri": "https://localhost:8080/",
     "height": 279
    },
    "executionInfo": {
     "elapsed": 757,
     "status": "ok",
     "timestamp": 1646657698881,
     "user": {
      "displayName": "Mis",
      "photoUrl": "https://lh3.googleusercontent.com/a-/AOh14Gi9fkY6IIxT8q7cFLbRp1Q3Rk8HgS6QeojPa0S8=s64",
      "userId": "09305620378386245649"
     },
     "user_tz": -60
    },
    "id": "OXeUtYUPvafV",
    "outputId": "73054461-920d-42d9-e12f-bb43083c6e64"
   },
   "outputs": [
    {
     "data": {
      "image/png": "[encoded data removed]",
      "text/plain": [
       "<Figure size 432x288 with 1 Axes>"
      ]
     },
     "metadata": {
      "needs_background": "light"
     },
     "output_type": "display_data"
    }
   ],
   "source": [
    "truncated_mae_history = average_mae_history[10:]\n",
    "plt.plot(range(1, len(truncated_mae_history) + 1), truncated_mae_history)\n",
    "plt.xlabel(\"Epochs\")\n",
    "plt.ylabel(\"Validation MAE\")\n",
    "plt.show()"
   ]
  },
  {
   "cell_type": "markdown",
   "metadata": {
    "id": "SZwRcWL8vafV"
   },
   "source": [
    "validation MAE stops improving significantly after\n",
    "120–140 epochs (this number includes the 10 epochs we omitted). Past that point,\n",
    "we start overfitting.\n",
    "Once you’re finished tuning other parameters of the model (in addition to the\n",
    "number of epochs, you could also adjust the size of the intermediate layers), you can\n",
    "train a final production model on all of the training data, with the best parameters,\n",
    "and then look at its performance on the test data."
   ]
  },
  {
   "cell_type": "markdown",
   "metadata": {
    "id": "a0FdDKLYvafV"
   },
   "source": [
    "**Training the final model**"
   ]
  },
  {
   "cell_type": "code",
   "execution_count": 83,
   "metadata": {
    "colab": {
     "base_uri": "https://localhost:8080/"
    },
    "executionInfo": {
     "elapsed": 5501,
     "status": "ok",
     "timestamp": 1646657704380,
     "user": {
      "displayName": "Mis",
      "photoUrl": "https://lh3.googleusercontent.com/a-/AOh14Gi9fkY6IIxT8q7cFLbRp1Q3Rk8HgS6QeojPa0S8=s64",
      "userId": "09305620378386245649"
     },
     "user_tz": -60
    },
    "id": "gytkaD0rvafV",
    "outputId": "ca0168b8-74d3-4756-a28b-bb040fe564a3"
   },
   "outputs": [
    {
     "name": "stdout",
     "output_type": "stream",
     "text": [
      "4/4 [==============================] - 0s 3ms/step - loss: 16.6048 - mae: 2.5713\n"
     ]
    }
   ],
   "source": [
    "model = build_model()\n",
    "model.fit(train_data, train_targets,\n",
    "          epochs=130, batch_size=16, verbose=0)\n",
    "test_mse_score, test_mae_score = model.evaluate(test_data, test_targets)"
   ]
  },
  {
   "cell_type": "code",
   "execution_count": 84,
   "metadata": {
    "colab": {
     "base_uri": "https://localhost:8080/"
    },
    "executionInfo": {
     "elapsed": 10,
     "status": "ok",
     "timestamp": 1646657704381,
     "user": {
      "displayName": "Mis",
      "photoUrl": "https://lh3.googleusercontent.com/a-/AOh14Gi9fkY6IIxT8q7cFLbRp1Q3Rk8HgS6QeojPa0S8=s64",
      "userId": "09305620378386245649"
     },
     "user_tz": -60
    },
    "id": "mQ_MPbMVvafW",
    "outputId": "2a2c4792-4a2a-4ba7-dc45-7317fd2f4883"
   },
   "outputs": [
    {
     "data": {
      "text/plain": [
       "2.571310043334961"
      ]
     },
     "execution_count": 84,
     "metadata": {},
     "output_type": "execute_result"
    }
   ],
   "source": [
    "test_mae_score"
   ]
  },
  {
   "cell_type": "markdown",
   "metadata": {
    "id": "f0a6dDpyvafW"
   },
   "source": [
    "We’re still off by a bit under $2,500. It’s an improvement! Just like with the two previous\n",
    "tasks, you can try varying the number of layers in the model, or the number of\n",
    "units per layer, to see if you can squeeze out a lower test error."
   ]
  },
  {
   "cell_type": "markdown",
   "metadata": {
    "id": "-t0OfjzcvafW"
   },
   "source": [
    "### Generating predictions on new data\n",
    "When calling `predict()` on our binary classification model, we retrieved a scalar score\n",
    "between 0 and 1 for each input sample. With our multiclass classification model, we\n",
    "retrieved a probability distribution over all classes for each sample. Now, with this scalar\n",
    "regression model, `predict()` returns the model’s guess for the sample’s price in\n",
    "thousands of dollars:"
   ]
  },
  {
   "cell_type": "code",
   "execution_count": 85,
   "metadata": {
    "colab": {
     "base_uri": "https://localhost:8080/"
    },
    "executionInfo": {
     "elapsed": 6,
     "status": "ok",
     "timestamp": 1646657704381,
     "user": {
      "displayName": "Mis",
      "photoUrl": "https://lh3.googleusercontent.com/a-/AOh14Gi9fkY6IIxT8q7cFLbRp1Q3Rk8HgS6QeojPa0S8=s64",
      "userId": "09305620378386245649"
     },
     "user_tz": -60
    },
    "id": "E79Y5kZ6vafW",
    "outputId": "8acb83a8-e5c7-4fed-cb48-40d891b749af"
   },
   "outputs": [
    {
     "data": {
      "text/plain": [
       "array([9.578937], dtype=float32)"
      ]
     },
     "execution_count": 85,
     "metadata": {},
     "output_type": "execute_result"
    }
   ],
   "source": [
    "predictions = model.predict(test_data)\n",
    "predictions[0]"
   ]
  },
  {
   "cell_type": "markdown",
   "metadata": {
    "id": "iNcEk5TavafW"
   },
   "source": [
    "### Further experiments\n",
    "<font color='violet'>We now repeat this analysis with 2-fold cross-validation instead of 4-fold cross-validation.</font>"
   ]
  },
  {
   "cell_type": "code",
   "execution_count": 86,
   "metadata": {
    "colab": {
     "base_uri": "https://localhost:8080/"
    },
    "executionInfo": {
     "elapsed": 71727,
     "status": "ok",
     "timestamp": 1646657776103,
     "user": {
      "displayName": "Mis",
      "photoUrl": "https://lh3.googleusercontent.com/a-/AOh14Gi9fkY6IIxT8q7cFLbRp1Q3Rk8HgS6QeojPa0S8=s64",
      "userId": "09305620378386245649"
     },
     "user_tz": -60
    },
    "id": "bp4zpooklQqD",
    "outputId": "830c8909-0a01-4b39-a8ad-bcd60e19c016"
   },
   "outputs": [
    {
     "name": "stdout",
     "output_type": "stream",
     "text": [
      "Processing fold #0\n",
      "Processing fold #1\n"
     ]
    }
   ],
   "source": [
    "k = 2\n",
    "num_val_samples = len(train_data) // k\n",
    "num_epochs = 100\n",
    "all_scores = []\n",
    "num_epochs = 500\n",
    "all_mae_histories_further_experiment = []\n",
    "for i in range(k):\n",
    "    print(f\"Processing fold #{i}\")\n",
    "    val_data = train_data[i * num_val_samples: (i + 1) * num_val_samples]\n",
    "    val_targets = train_targets[i * num_val_samples: (i + 1) * num_val_samples]\n",
    "    partial_train_data = np.concatenate(\n",
    "        [train_data[:i * num_val_samples],\n",
    "         train_data[(i + 1) * num_val_samples:]],\n",
    "        axis=0)\n",
    "    partial_train_targets = np.concatenate(\n",
    "        [train_targets[:i * num_val_samples],\n",
    "         train_targets[(i + 1) * num_val_samples:]],\n",
    "        axis=0)\n",
    "    model = build_model()\n",
    "    history = model.fit(partial_train_data, partial_train_targets,\n",
    "                        validation_data=(val_data, val_targets),\n",
    "                        epochs=num_epochs, batch_size=16, verbose=0)\n",
    "    mae_history = history.history[\"val_mae\"]\n",
    "    all_mae_histories_further_experiment.append(mae_history)\n",
    "\n",
    "average_mae_history_further_experiment = [\n",
    "np.mean([x[i] for x in all_mae_histories_further_experiment]) for i in range(num_epochs)]"
   ]
  },
  {
   "cell_type": "code",
   "execution_count": 87,
   "metadata": {
    "colab": {
     "base_uri": "https://localhost:8080/",
     "height": 279
    },
    "executionInfo": {
     "elapsed": 342,
     "status": "ok",
     "timestamp": 1646657776441,
     "user": {
      "displayName": "Mis",
      "photoUrl": "https://lh3.googleusercontent.com/a-/AOh14Gi9fkY6IIxT8q7cFLbRp1Q3Rk8HgS6QeojPa0S8=s64",
      "userId": "09305620378386245649"
     },
     "user_tz": -60
    },
    "id": "085bMC2KnRbD",
    "outputId": "b6b9896e-ca55-4a78-8da0-c9d310423bfc"
   },
   "outputs": [
    {
     "data": {
      "image/png": "[encoded data removed]",
      "text/plain": [
       "<Figure size 432x288 with 1 Axes>"
      ]
     },
     "metadata": {
      "needs_background": "light"
     },
     "output_type": "display_data"
    }
   ],
   "source": [
    "truncated_mae_history_further_experiment = average_mae_history_further_experiment[10:]\n",
    "plt.plot(range(1, len(truncated_mae_history) + 1), truncated_mae_history, label=\"4-fold validation\")\n",
    "plt.plot(range(1, len(truncated_mae_history_further_experiment) + 1), truncated_mae_history_further_experiment, label=\"2-fold validation\")\n",
    "plt.plot(range(1, len(truncated_mae_history) + 1), np.repeat(test_mae_score,len(truncated_mae_history)), label=\"test\")\n",
    "\n",
    "plt.xlabel(\"Epochs\")\n",
    "plt.ylabel(\"MAE\")\n",
    "plt.legend(loc=\"upper right\")\n",
    "plt.show()"
   ]
  },
  {
   "cell_type": "markdown",
   "metadata": {
    "id": "sirzYAi7nZxS"
   },
   "source": [
    "<font color='violet'>For 4-fold cross-validation the training clearly reaches a minimum for validation error around 130 epochs, after which the model begins overfitting. For 2-fold cross-validation, determining the optimal number of epochs is hazier, but 130 still seems like a decent choice. On the other hand, 4-fold cross validation seems to be too confident in the model's prediction abilities as the validation error is quite a bit lower than the test error. Low k values lead to biased estimates of the validation error, since the models are trained on smaller slices of data, and statistical methods generally perform worse on small data-sets, leading to a systematic overestimation of the true prediction error for training on the entire data-set (not including the test data-set). But high k values lead to high variance of the estimated validation error. This is because the models share much of the data they are trained on and thus the prediction errors from each fold are correlated (source: Elements of Statistical Learning, second edition, chapter 7). Generally, it is very difficult to determine a priori what a good value for k is, without contaminating the test data-set like we did in this example. </font>"
   ]
  },
  {
   "cell_type": "markdown",
   "metadata": {
    "id": "B64wxtVkvafW"
   },
   "source": [
    "### Wrapping up\n",
    "\n",
    "Here’s what you should take away from this scalar regression example:\n",
    "* Regression is done using different loss functions than we used for classification.\n",
    "Mean squared error (MSE) is a loss function commonly used for regression.\n",
    "* Similarly, evaluation metrics to be used for regression differ from those used for\n",
    "classification; naturally, the concept of accuracy doesn’t apply for regression. A\n",
    "common regression metric is mean absolute error (MAE).\n",
    "* When features in the input data have values in different ranges, each feature\n",
    "should be scaled independently as a preprocessing step.\n",
    "* When there is little data available, using K-fold validation is a great way to reliably\n",
    "evaluate a model.\n",
    "* When little training data is available, it’s preferable to use a small model with few\n",
    "intermediate layers (typically only one or two), in order to avoid severe overfitting."
   ]
  },
  {
   "cell_type": "markdown",
   "metadata": {
    "id": "0rAhhYR3vafW"
   },
   "source": [
    "## Summary\n",
    "\n",
    "* The three most common kinds of machine learning tasks on vector data are\n",
    "binary classification, multiclass classification, and scalar regression.\n",
    "    * The “Wrapping up” sections earlier in the chapter summarize the important\n",
    "points you’ve learned regarding each task.\n",
    "    * Regression uses different loss functions and different evaluation metrics\n",
    "than classification.\n",
    "* You’ll usually need to preprocess raw data before feeding it into a neural network.\n",
    "* When your data has features with different ranges, scale each feature independently\n",
    "as part of preprocessing.\n",
    "* As training progresses, neural networks eventually begin to overfit and obtain\n",
    "worse results on never-before-seen data.\n",
    "* If you don’t have much training data, use a small model with only one or two\n",
    "intermediate layers, to avoid severe overfitting.\n",
    "* If your data is divided into many categories, you may cause information bottlenecks\n",
    "if you make the intermediate layers too small.\n",
    "*When you’re working with little data, K-fold validation can help reliably evaluate\n",
    "your model."
   ]
  }
 ],
 "metadata": {
  "colab": {
   "collapsed_sections": [],
   "name": "chapter04_getting-started-with-neural-networks+text.ipynb",
   "provenance": [],
   "toc_visible": true
  },
  "kernelspec": {
   "display_name": "Python 3 (ipykernel)",
   "language": "python",
   "name": "python3"
  },
  "language_info": {
   "codemirror_mode": {
    "name": "ipython",
    "version": 3
   },
   "file_extension": ".py",
   "mimetype": "text/x-python",
   "name": "python",
   "nbconvert_exporter": "python",
   "pygments_lexer": "ipython3",
   "version": "3.9.7"
  }
 },
 "nbformat": 4,
 "nbformat_minor": 1
}
